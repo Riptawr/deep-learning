{
 "cells": [
  {
   "cell_type": "markdown",
   "metadata": {},
   "source": [
    "# Anna KaRNNa\n",
    "\n",
    "In this notebook, I'll build a character-wise RNN trained on Anna Karenina, one of my all-time favorite books. It'll be able to generate new text based on the text from the book.\n",
    "\n",
    "This network is based off of Andrej Karpathy's [post on RNNs](http://karpathy.github.io/2015/05/21/rnn-effectiveness/) and [implementation in Torch](https://github.com/karpathy/char-rnn). Also, some information [here at r2rt](http://r2rt.com/recurrent-neural-networks-in-tensorflow-ii.html) and from [Sherjil Ozair](https://github.com/sherjilozair/char-rnn-tensorflow) on GitHub. Below is the general architecture of the character-wise RNN.\n",
    "\n",
    "<img src=\"assets/charseq.jpeg\" width=\"500\">"
   ]
  },
  {
   "cell_type": "code",
   "execution_count": 2,
   "metadata": {
    "collapsed": true
   },
   "outputs": [],
   "source": [
    "import time\n",
    "from collections import namedtuple\n",
    "\n",
    "import numpy as np\n",
    "import tensorflow as tf"
   ]
  },
  {
   "cell_type": "markdown",
   "metadata": {},
   "source": [
    "First we'll load the text file and convert it into integers for our network to use. Here I'm creating a couple dictionaries to convert the characters to and from integers. Encoding the characters as integers makes it easier to use as input in the network."
   ]
  },
  {
   "cell_type": "code",
   "execution_count": 3,
   "metadata": {
    "collapsed": true
   },
   "outputs": [],
   "source": [
    "with open('anna.txt', 'r') as f:\n",
    "    text=f.read()\n",
    "vocab = set(text)\n",
    "vocab_to_int = {c: i for i, c in enumerate(vocab)}\n",
    "int_to_vocab = dict(enumerate(vocab))\n",
    "encoded = np.array([vocab_to_int[c] for c in text], dtype=np.int32)"
   ]
  },
  {
   "cell_type": "markdown",
   "metadata": {},
   "source": [
    "Let's check out the first 100 characters, make sure everything is peachy. According to the [American Book Review](http://americanbookreview.org/100bestlines.asp), this is the 6th best first line of a book ever."
   ]
  },
  {
   "cell_type": "code",
   "execution_count": 4,
   "metadata": {},
   "outputs": [
    {
     "data": {
      "text/plain": [
       "'Chapter 1\\n\\n\\nHappy families are all alike; every unhappy family is unhappy in its own\\nway.\\n\\nEverythin'"
      ]
     },
     "execution_count": 4,
     "metadata": {},
     "output_type": "execute_result"
    }
   ],
   "source": [
    "text[:100]"
   ]
  },
  {
   "cell_type": "markdown",
   "metadata": {},
   "source": [
    "And we can see the characters encoded as integers."
   ]
  },
  {
   "cell_type": "code",
   "execution_count": 5,
   "metadata": {},
   "outputs": [
    {
     "data": {
      "text/plain": [
       "array([34, 52, 28, 54, 38, 80, 24, 57,  5, 36, 36, 36, 67, 28, 54, 54, 30,\n",
       "       57, 33, 28, 25,  1, 65,  1, 80, 77, 57, 28, 24, 80, 57, 28, 65, 65,\n",
       "       57, 28, 65,  1, 27, 80, 46, 57, 80, 79, 80, 24, 30, 57, 48, 15, 52,\n",
       "       28, 54, 54, 30, 57, 33, 28, 25,  1, 65, 30, 57,  1, 77, 57, 48, 15,\n",
       "       52, 28, 54, 54, 30, 57,  1, 15, 57,  1, 38, 77, 57, 45, 44, 15, 36,\n",
       "       44, 28, 30, 21, 36, 36, 53, 79, 80, 24, 30, 38, 52,  1, 15], dtype=int32)"
      ]
     },
     "execution_count": 5,
     "metadata": {},
     "output_type": "execute_result"
    }
   ],
   "source": [
    "encoded[:100]"
   ]
  },
  {
   "cell_type": "markdown",
   "metadata": {},
   "source": [
    "Since the network is working with individual characters, it's similar to a classification problem in which we are trying to predict the next character from the previous text.  Here's how many 'classes' our network has to pick from."
   ]
  },
  {
   "cell_type": "code",
   "execution_count": 6,
   "metadata": {},
   "outputs": [
    {
     "data": {
      "text/plain": [
       "83"
      ]
     },
     "execution_count": 6,
     "metadata": {},
     "output_type": "execute_result"
    }
   ],
   "source": [
    "len(vocab)"
   ]
  },
  {
   "cell_type": "markdown",
   "metadata": {},
   "source": [
    "## Making training mini-batches\n",
    "\n",
    "Here is where we'll make our mini-batches for training. Remember that we want our batches to be multiple sequences of some desired number of sequence steps. Considering a simple example, our batches would look like this:\n",
    "\n",
    "<img src=\"assets/sequence_batching@1x.png\" width=500px>\n",
    "\n",
    "\n",
    "<br>\n",
    "We have our text encoded as integers as one long array in `encoded`. Let's create a function that will give us an iterator for our batches. I like using [generator functions](https://jeffknupp.com/blog/2013/04/07/improve-your-python-yield-and-generators-explained/) to do this. Then we can pass `encoded` into this function and get our batch generator.\n",
    "\n",
    "The first thing we need to do is discard some of the text so we only have completely full batches. Each batch contains $N \\times M$ characters, where $N$ is the batch size (the number of sequences) and $M$ is the number of steps. Then, to get the number of batches we can make from some array `arr`, you divide the length of `arr` by the batch size. Once you know the number of batches and the batch size, you can get the total number of characters to keep.\n",
    "\n",
    "After that, we need to split `arr` into $N$ sequences. You can do this using `arr.reshape(size)` where `size` is a tuple containing the dimensions sizes of the reshaped array. We know we want $N$ sequences (`n_seqs` below), let's make that the size of the first dimension. For the second dimension, you can use `-1` as a placeholder in the size, it'll fill up the array with the appropriate data for you. After this, you should have an array that is $N \\times (M * K)$ where $K$ is the number of batches.\n",
    "\n",
    "Now that we have this array, we can iterate through it to get our batches. The idea is each batch is a $N \\times M$ window on the array. For each subsequent batch, the window moves over by `n_steps`. We also want to create both the input and target arrays. Remember that the targets are the inputs shifted over one character. You'll usually see the first input character used as the last target character, so something like this:\n",
    "```python\n",
    "y[:, :-1], y[:, -1] = x[:, 1:], x[:, 0]\n",
    "```\n",
    "where `x` is the input batch and `y` is the target batch.\n",
    "\n",
    "The way I like to do this window is use `range` to take steps of size `n_steps` from $0$ to `arr.shape[1]`, the total number of steps in each sequence. That way, the integers you get from `range` always point to the start of a batch, and each window is `n_steps` wide."
   ]
  },
  {
   "cell_type": "code",
   "execution_count": 7,
   "metadata": {
    "collapsed": true
   },
   "outputs": [],
   "source": [
    "def get_batches(arr, n_seqs, n_steps):\n",
    "    '''Create a generator that returns batches of size\n",
    "       n_seqs x n_steps from arr.\n",
    "       \n",
    "       Arguments\n",
    "       ---------\n",
    "       arr: Array you want to make batches from\n",
    "       n_seqs: Batch size, the number of sequences per batch\n",
    "       n_steps: Number of sequence steps per batch\n",
    "    '''\n",
    "    # Get the number of characters per batch and number of batches we can make\n",
    "    characters_per_batch = n_seqs * n_steps\n",
    "    n_batches = len(arr)//characters_per_batch\n",
    "    \n",
    "    # Keep only enough characters to make full batches\n",
    "    arr = arr[:n_batches * characters_per_batch]\n",
    "    \n",
    "    # Reshape into n_seqs rows\n",
    "    arr = arr.reshape((n_seqs, -1))\n",
    "    \n",
    "    for n in range(0, arr.shape[1], n_steps):\n",
    "        # The features\n",
    "        x = arr[:, n:n+n_steps]\n",
    "        # The targets, shifted by one\n",
    "        y = np.zeros_like(x)\n",
    "        y[:, :-1], y[:, -1] = x[:, 1:], x[:, 0]\n",
    "        yield x, y"
   ]
  },
  {
   "cell_type": "markdown",
   "metadata": {},
   "source": [
    "Now I'll make my data sets and we can check out what's going on here. Here I'm going to use a batch size of 10 and 50 sequence steps."
   ]
  },
  {
   "cell_type": "code",
   "execution_count": 8,
   "metadata": {
    "collapsed": true
   },
   "outputs": [],
   "source": [
    "batches = get_batches(encoded, 10, 50)\n",
    "x, y = next(batches)"
   ]
  },
  {
   "cell_type": "code",
   "execution_count": 9,
   "metadata": {},
   "outputs": [
    {
     "name": "stdout",
     "output_type": "stream",
     "text": [
      "x\n",
      " [[34 52 28 54 38 80 24 57  5 36]\n",
      " [57 28 25 57 15 45 38 57 73 45]\n",
      " [79  1 15 21 36 36  7 56 80 77]\n",
      " [15 57  6 48 24  1 15 73 57 52]\n",
      " [57  1 38 57  1 77 14 57 77  1]\n",
      " [57 35 38 57 44 28 77 36 45 15]\n",
      " [52 80 15 57 70 45 25 80 57 33]\n",
      " [46 57 37 48 38 57 15 45 44 57]\n",
      " [38 57  1 77 15 71 38 21 57 13]\n",
      " [57 77 28  1  6 57 38 45 57 52]]\n",
      "\n",
      "y\n",
      " [[52 28 54 38 80 24 57  5 36 36]\n",
      " [28 25 57 15 45 38 57 73 45  1]\n",
      " [ 1 15 21 36 36  7 56 80 77 14]\n",
      " [57  6 48 24  1 15 73 57 52  1]\n",
      " [ 1 38 57  1 77 14 57 77  1 24]\n",
      " [35 38 57 44 28 77 36 45 15 65]\n",
      " [80 15 57 70 45 25 80 57 33 45]\n",
      " [57 37 48 38 57 15 45 44 57 77]\n",
      " [57  1 77 15 71 38 21 57 13 52]\n",
      " [77 28  1  6 57 38 45 57 52 80]]\n"
     ]
    }
   ],
   "source": [
    "print('x\\n', x[:10, :10])\n",
    "print('\\ny\\n', y[:10, :10])"
   ]
  },
  {
   "cell_type": "markdown",
   "metadata": {},
   "source": [
    "If you implemented `get_batches` correctly, the above output should look something like \n",
    "```\n",
    "x\n",
    " [[55 63 69 22  6 76 45  5 16 35]\n",
    " [ 5 69  1  5 12 52  6  5 56 52]\n",
    " [48 29 12 61 35 35  8 64 76 78]\n",
    " [12  5 24 39 45 29 12 56  5 63]\n",
    " [ 5 29  6  5 29 78 28  5 78 29]\n",
    " [ 5 13  6  5 36 69 78 35 52 12]\n",
    " [63 76 12  5 18 52  1 76  5 58]\n",
    " [34  5 73 39  6  5 12 52 36  5]\n",
    " [ 6  5 29 78 12 79  6 61  5 59]\n",
    " [ 5 78 69 29 24  5  6 52  5 63]]\n",
    "\n",
    "y\n",
    " [[63 69 22  6 76 45  5 16 35 35]\n",
    " [69  1  5 12 52  6  5 56 52 29]\n",
    " [29 12 61 35 35  8 64 76 78 28]\n",
    " [ 5 24 39 45 29 12 56  5 63 29]\n",
    " [29  6  5 29 78 28  5 78 29 45]\n",
    " [13  6  5 36 69 78 35 52 12 43]\n",
    " [76 12  5 18 52  1 76  5 58 52]\n",
    " [ 5 73 39  6  5 12 52 36  5 78]\n",
    " [ 5 29 78 12 79  6 61  5 59 63]\n",
    " [78 69 29 24  5  6 52  5 63 76]]\n",
    " ```\n",
    " although the exact numbers will be different. Check to make sure the data is shifted over one step for `y`."
   ]
  },
  {
   "cell_type": "markdown",
   "metadata": {},
   "source": [
    "## Building the model\n",
    "\n",
    "Below is where you'll build the network. We'll break it up into parts so it's easier to reason about each bit. Then we can connect them up into the whole network.\n",
    "\n",
    "<img src=\"assets/charRNN.png\" width=500px>\n",
    "\n",
    "\n",
    "### Inputs\n",
    "\n",
    "First off we'll create our input placeholders. As usual we need placeholders for the training data and the targets. We'll also create a placeholder for dropout layers called `keep_prob`."
   ]
  },
  {
   "cell_type": "code",
   "execution_count": 10,
   "metadata": {
    "collapsed": true
   },
   "outputs": [],
   "source": [
    "def build_inputs(batch_size, num_steps):\n",
    "    ''' Define placeholders for inputs, targets, and dropout \n",
    "    \n",
    "        Arguments\n",
    "        ---------\n",
    "        batch_size: Batch size, number of sequences per batch\n",
    "        num_steps: Number of sequence steps in a batch\n",
    "        \n",
    "    '''\n",
    "    # Declare placeholders we'll feed into the graph\n",
    "    inputs = tf.placeholder(tf.int32, [batch_size, num_steps], name='inputs')\n",
    "    targets = tf.placeholder(tf.int32, [batch_size, num_steps], name='targets')\n",
    "    \n",
    "    # Keep probability placeholder for drop out layers\n",
    "    keep_prob = tf.placeholder(tf.float32, name='keep_prob')\n",
    "    \n",
    "    return inputs, targets, keep_prob"
   ]
  },
  {
   "cell_type": "markdown",
   "metadata": {},
   "source": [
    "### LSTM Cell\n",
    "\n",
    "Here we will create the LSTM cell we'll use in the hidden layer. We'll use this cell as a building block for the RNN. So we aren't actually defining the RNN here, just the type of cell we'll use in the hidden layer.\n",
    "\n",
    "We first create a basic LSTM cell with\n",
    "\n",
    "```python\n",
    "lstm = tf.contrib.rnn.BasicLSTMCell(num_units)\n",
    "```\n",
    "\n",
    "where `num_units` is the number of units in the hidden layers in the cell. Then we can add dropout by wrapping it with \n",
    "\n",
    "```python\n",
    "tf.contrib.rnn.DropoutWrapper(lstm, output_keep_prob=keep_prob)\n",
    "```\n",
    "You pass in a cell and it will automatically add dropout to the inputs or outputs. Finally, we can stack up the LSTM cells into layers with [`tf.contrib.rnn.MultiRNNCell`](https://www.tensorflow.org/versions/r1.0/api_docs/python/tf/contrib/rnn/MultiRNNCell). With this, you pass in a list of cells and it will send the output of one cell into the next cell. For example,\n",
    "\n",
    "```python\n",
    "tf.contrib.rnn.MultiRNNCell([cell]*num_layers)\n",
    "```\n",
    "\n",
    "This might look a little weird if you know Python well because this will create a list of the same `cell` object. However, TensorFlow will create different weight matrices for all `cell` objects. Even though this is actually multiple LSTM cells stacked on each other, you can treat the multiple layers as one cell.\n",
    "\n",
    "We also need to create an initial cell state of all zeros. This can be done like so\n",
    "\n",
    "```python\n",
    "initial_state = cell.zero_state(batch_size, tf.float32)\n",
    "```\n",
    "\n",
    "Below, we implement the `build_lstm` function to create these LSTM cells and the initial state."
   ]
  },
  {
   "cell_type": "code",
   "execution_count": 11,
   "metadata": {
    "collapsed": true
   },
   "outputs": [],
   "source": [
    "def build_lstm(lstm_size, num_layers, batch_size, keep_prob):\n",
    "    ''' Build LSTM cell.\n",
    "    \n",
    "        Arguments\n",
    "        ---------\n",
    "        keep_prob: Scalar tensor (tf.placeholder) for the dropout keep probability\n",
    "        lstm_size: Size of the hidden layers in the LSTM cells\n",
    "        num_layers: Number of LSTM layers\n",
    "        batch_size: Batch size\n",
    "\n",
    "    '''\n",
    "    ### Build the LSTM Cell\n",
    "    # Use a basic LSTM cell\n",
    "    lstm = tf.contrib.rnn.BasicLSTMCell(lstm_size)\n",
    "    \n",
    "    # Add dropout to the cell\n",
    "    drop = tf.contrib.rnn.DropoutWrapper(lstm, output_keep_prob=keep_prob)\n",
    "    \n",
    "    # Stack up multiple LSTM layers, for deep learning\n",
    "    cell = tf.contrib.rnn.MultiRNNCell([drop] * num_layers)\n",
    "    initial_state = cell.zero_state(batch_size, tf.float32)\n",
    "    \n",
    "    return cell, initial_state"
   ]
  },
  {
   "cell_type": "markdown",
   "metadata": {},
   "source": [
    "### RNN Output\n",
    "\n",
    "Here we'll create the output layer. We need to connect the output of the RNN cells to a full connected layer with a softmax output. The softmax output gives us a probability distribution we can use to predict the next character.\n",
    "\n",
    "If our input has batch size $N$, number of steps $M$, and the hidden layer has $L$ hidden units, then the output is a 3D tensor with size $N \\times M \\times L$. The output of each LSTM cell has size $L$, we have $M$ of them, one for each sequence step, and we have $N$ sequences. So the total size is $N \\times M \\times L$.\n",
    "\n",
    "We are using the same fully connected layer, the same weights, for each of the outputs. Then, to make things easier, we should reshape the outputs into a 2D tensor with shape $(M * N) \\times L$. That is, one row for each sequence and step, where the values of each row are the output from the LSTM cells.\n",
    "\n",
    "One we have the outputs reshaped, we can do the matrix multiplication with the weights. We need to wrap the weight and bias variables in a variable scope with `tf.variable_scope(scope_name)` because there are weights being created in the LSTM cells. TensorFlow will throw an error if the weights created here have the same names as the weights created in the LSTM cells, which they will be default. To avoid this, we wrap the variables in a variable scope so we can give them unique names."
   ]
  },
  {
   "cell_type": "code",
   "execution_count": 12,
   "metadata": {
    "collapsed": true
   },
   "outputs": [],
   "source": [
    "def build_output(lstm_output, in_size, out_size):\n",
    "    ''' Build a softmax layer, return the softmax output and logits.\n",
    "    \n",
    "        Arguments\n",
    "        ---------\n",
    "        \n",
    "        x: Input tensor\n",
    "        in_size: Size of the input tensor, for example, size of the LSTM cells\n",
    "        out_size: Size of this softmax layer\n",
    "    \n",
    "    '''\n",
    "\n",
    "    # Reshape output so it's a bunch of rows, one row for each step for each sequence.\n",
    "    # That is, the shape should be batch_size*num_steps rows by lstm_size columns\n",
    "    seq_output = tf.concat(lstm_output, axis=1)\n",
    "    x = tf.reshape(seq_output, [-1, in_size])\n",
    "    \n",
    "    # Connect the RNN outputs to a softmax layer\n",
    "    with tf.variable_scope('softmax'):\n",
    "        softmax_w = tf.Variable(tf.truncated_normal((in_size, out_size), stddev=0.1))\n",
    "        softmax_b = tf.Variable(tf.zeros(out_size))\n",
    "    \n",
    "    # Since output is a bunch of rows of RNN cell outputs, logits will be a bunch\n",
    "    # of rows of logit outputs, one for each step and sequence\n",
    "    logits = tf.matmul(x, softmax_w) + softmax_b\n",
    "    \n",
    "    # Use softmax to get the probabilities for predicted characters\n",
    "    out = tf.nn.softmax(logits, name='predictions')\n",
    "    \n",
    "    return out, logits"
   ]
  },
  {
   "cell_type": "markdown",
   "metadata": {},
   "source": [
    "### Training loss\n",
    "\n",
    "Next up is the training loss. We get the logits and targets and calculate the softmax cross-entropy loss. First we need to one-hot encode the targets, we're getting them as encoded characters. Then, reshape the one-hot targets so it's a 2D tensor with size $(M*N) \\times C$ where $C$ is the number of classes/characters we have. Remember that we reshaped the LSTM outputs and ran them through a fully connected layer with $C$ units. So our logits will also have size $(M*N) \\times C$.\n",
    "\n",
    "Then we run the logits and targets through `tf.nn.softmax_cross_entropy_with_logits` and find the mean to get the loss."
   ]
  },
  {
   "cell_type": "code",
   "execution_count": 13,
   "metadata": {
    "collapsed": true
   },
   "outputs": [],
   "source": [
    "def build_loss(logits, targets, lstm_size, num_classes):\n",
    "    ''' Calculate the loss from the logits and the targets.\n",
    "    \n",
    "        Arguments\n",
    "        ---------\n",
    "        logits: Logits from final fully connected layer\n",
    "        targets: Targets for supervised learning\n",
    "        lstm_size: Number of LSTM hidden units\n",
    "        num_classes: Number of classes in targets\n",
    "        \n",
    "    '''\n",
    "    \n",
    "    # One-hot encode targets and reshape to match logits, one row per batch_size per step\n",
    "    y_one_hot = tf.one_hot(targets, num_classes)\n",
    "    y_reshaped = tf.reshape(y_one_hot, logits.get_shape())\n",
    "    \n",
    "    # Softmax cross entropy loss\n",
    "    loss = tf.nn.softmax_cross_entropy_with_logits(logits=logits, labels=y_reshaped)\n",
    "    loss = tf.reduce_mean(loss)\n",
    "    return loss"
   ]
  },
  {
   "cell_type": "markdown",
   "metadata": {},
   "source": [
    "### Optimizer\n",
    "\n",
    "Here we build the optimizer. Normal RNNs have have issues gradients exploding and disappearing. LSTMs fix the disappearance problem, but the gradients can still grow without bound. To fix this, we can clip the gradients above some threshold. That is, if a gradient is larger than that threshold, we set it to the threshold. This will ensure the gradients never grow overly large. Then we use an AdamOptimizer for the learning step."
   ]
  },
  {
   "cell_type": "code",
   "execution_count": 14,
   "metadata": {
    "collapsed": true
   },
   "outputs": [],
   "source": [
    "def build_optimizer(loss, learning_rate, grad_clip):\n",
    "    ''' Build optmizer for training, using gradient clipping.\n",
    "    \n",
    "        Arguments:\n",
    "        loss: Network loss\n",
    "        learning_rate: Learning rate for optimizer\n",
    "    \n",
    "    '''\n",
    "    \n",
    "    # Optimizer for training, using gradient clipping to control exploding gradients\n",
    "    tvars = tf.trainable_variables()\n",
    "    grads, _ = tf.clip_by_global_norm(tf.gradients(loss, tvars), grad_clip)\n",
    "    train_op = tf.train.AdamOptimizer(learning_rate)\n",
    "    optimizer = train_op.apply_gradients(zip(grads, tvars))\n",
    "    \n",
    "    return optimizer"
   ]
  },
  {
   "cell_type": "markdown",
   "metadata": {},
   "source": [
    "### Build the network\n",
    "\n",
    "Now we can put all the pieces together and build a class for the network. To actually run data through the LSTM cells, we will use [`tf.nn.dynamic_rnn`](https://www.tensorflow.org/versions/r1.0/api_docs/python/tf/nn/dynamic_rnn). This function will pass the hidden and cell states across LSTM cells appropriately for us. It returns the outputs for each LSTM cell at each step for each sequence in the mini-batch. It also gives us the final LSTM state. We want to save this state as `final_state` so we can pass it to the first LSTM cell in the the next mini-batch run. For `tf.nn.dynamic_rnn`, we pass in the cell and initial state we get from `build_lstm`, as well as our input sequences. Also, we need to one-hot encode the inputs before going into the RNN. "
   ]
  },
  {
   "cell_type": "code",
   "execution_count": 15,
   "metadata": {
    "collapsed": true
   },
   "outputs": [],
   "source": [
    "class CharRNN:\n",
    "    \n",
    "    def __init__(self, num_classes, batch_size=64, num_steps=50, \n",
    "                       lstm_size=128, num_layers=2, learning_rate=0.001, \n",
    "                       grad_clip=5, sampling=False):\n",
    "    \n",
    "        # When we're using this network for sampling later, we'll be passing in\n",
    "        # one character at a time, so providing an option for that\n",
    "        if sampling == True:\n",
    "            batch_size, num_steps = 1, 1\n",
    "        else:\n",
    "            batch_size, num_steps = batch_size, num_steps\n",
    "\n",
    "        tf.reset_default_graph()\n",
    "        \n",
    "        # Build the input placeholder tensors\n",
    "        self.inputs, self.targets, self.keep_prob = build_inputs(batch_size, num_steps)\n",
    "\n",
    "        # Build the LSTM cell\n",
    "        cell, self.initial_state = build_lstm(lstm_size, num_layers, batch_size, self.keep_prob)\n",
    "\n",
    "        ### Run the data through the RNN layers\n",
    "        # First, one-hot encode the input tokens\n",
    "        x_one_hot = tf.one_hot(self.inputs, num_classes)\n",
    "        \n",
    "        # Run each sequence step through the RNN and collect the outputs\n",
    "        outputs, state = tf.nn.dynamic_rnn(cell, x_one_hot, initial_state=self.initial_state)\n",
    "        self.final_state = state\n",
    "        \n",
    "        # Get softmax predictions and logits\n",
    "        self.prediction, self.logits = build_output(outputs, lstm_size, num_classes)\n",
    "        \n",
    "        # Loss and optimizer (with gradient clipping)\n",
    "        self.loss = build_loss(self.logits, self.targets, lstm_size, num_classes)\n",
    "        self.optimizer = build_optimizer(self.loss, learning_rate, grad_clip)"
   ]
  },
  {
   "cell_type": "markdown",
   "metadata": {},
   "source": [
    "## Hyperparameters\n",
    "\n",
    "Here I'm defining the hyperparameters for the network. \n",
    "\n",
    "* `batch_size` - Number of sequences running through the network in one pass.\n",
    "* `num_steps` - Number of characters in the sequence the network is trained on. Larger is better typically, the network will learn more long range dependencies. But it takes longer to train. 100 is typically a good number here.\n",
    "* `lstm_size` - The number of units in the hidden layers.\n",
    "* `num_layers` - Number of hidden LSTM layers to use\n",
    "* `learning_rate` - Learning rate for training\n",
    "* `keep_prob` - The dropout keep probability when training. If you're network is overfitting, try decreasing this.\n",
    "\n",
    "Here's some good advice from Andrej Karpathy on training the network. I'm going to copy it in here for your benefit, but also link to [where it originally came from](https://github.com/karpathy/char-rnn#tips-and-tricks).\n",
    "\n",
    "> ## Tips and Tricks\n",
    "\n",
    ">### Monitoring Validation Loss vs. Training Loss\n",
    ">If you're somewhat new to Machine Learning or Neural Networks it can take a bit of expertise to get good models. The most important quantity to keep track of is the difference between your training loss (printed during training) and the validation loss (printed once in a while when the RNN is run on the validation data (by default every 1000 iterations)). In particular:\n",
    "\n",
    "> - If your training loss is much lower than validation loss then this means the network might be **overfitting**. Solutions to this are to decrease your network size, or to increase dropout. For example you could try dropout of 0.5 and so on.\n",
    "> - If your training/validation loss are about equal then your model is **underfitting**. Increase the size of your model (either number of layers or the raw number of neurons per layer)\n",
    "\n",
    "> ### Approximate number of parameters\n",
    "\n",
    "> The two most important parameters that control the model are `lstm_size` and `num_layers`. I would advise that you always use `num_layers` of either 2/3. The `lstm_size` can be adjusted based on how much data you have. The two important quantities to keep track of here are:\n",
    "\n",
    "> - The number of parameters in your model. This is printed when you start training.\n",
    "> - The size of your dataset. 1MB file is approximately 1 million characters.\n",
    "\n",
    ">These two should be about the same order of magnitude. It's a little tricky to tell. Here are some examples:\n",
    "\n",
    "> - I have a 100MB dataset and I'm using the default parameter settings (which currently print 150K parameters). My data size is significantly larger (100 mil >> 0.15 mil), so I expect to heavily underfit. I am thinking I can comfortably afford to make `lstm_size` larger.\n",
    "> - I have a 10MB dataset and running a 10 million parameter model. I'm slightly nervous and I'm carefully monitoring my validation loss. If it's larger than my training loss then I may want to try to increase dropout a bit and see if that helps the validation loss.\n",
    "\n",
    "> ### Best models strategy\n",
    "\n",
    ">The winning strategy to obtaining very good models (if you have the compute time) is to always err on making the network larger (as large as you're willing to wait for it to compute) and then try different dropout values (between 0,1). Whatever model has the best validation performance (the loss, written in the checkpoint filename, low is good) is the one you should use in the end.\n",
    "\n",
    ">It is very common in deep learning to run many different models with many different hyperparameter settings, and in the end take whatever checkpoint gave the best validation performance.\n",
    "\n",
    ">By the way, the size of your training and validation splits are also parameters. Make sure you have a decent amount of data in your validation set or otherwise the validation performance will be noisy and not very informative.\n"
   ]
  },
  {
   "cell_type": "code",
   "execution_count": 46,
   "metadata": {
    "collapsed": true
   },
   "outputs": [],
   "source": [
    "batch_size = 300       # Sequences per batch\n",
    "num_steps = 120         # Number of sequence steps per batch\n",
    "lstm_size = 1024         # Size of hidden layers in LSTMs\n",
    "num_layers = 2          # Number of LSTM layers\n",
    "learning_rate = 0.001   # Learning rate\n",
    "keep_prob = 0.5         # Dropout keep probability"
   ]
  },
  {
   "cell_type": "markdown",
   "metadata": {},
   "source": [
    "## Time for training\n",
    "\n",
    "This is typical training code, passing inputs and targets into the network, then running the optimizer. Here we also get back the final LSTM state for the mini-batch. Then, we pass that state back into the network so the next batch can continue the state from the previous batch. And every so often (set by `save_every_n`) I save a checkpoint.\n",
    "\n",
    "Here I'm saving checkpoints with the format\n",
    "\n",
    "`i{iteration number}_l{# hidden layer units}.ckpt`"
   ]
  },
  {
   "cell_type": "code",
   "execution_count": 47,
   "metadata": {
    "scrolled": true
   },
   "outputs": [
    {
     "name": "stdout",
     "output_type": "stream",
     "text": [
      "Epoch: 1/40...  Training Step: 20...  Training loss: 3.2159...  0.6574 sec/batch\n",
      "Epoch: 1/40...  Training Step: 40...  Training loss: 3.1322...  0.6781 sec/batch\n",
      "Epoch: 2/40...  Training Step: 60...  Training loss: 3.0851...  0.6659 sec/batch\n",
      "Epoch: 2/40...  Training Step: 80...  Training loss: 2.9818...  0.6587 sec/batch\n",
      "Epoch: 2/40...  Training Step: 100...  Training loss: 2.8744...  0.6613 sec/batch\n",
      "Epoch: 3/40...  Training Step: 120...  Training loss: 2.6395...  0.6836 sec/batch\n",
      "Epoch: 3/40...  Training Step: 140...  Training loss: 2.5188...  0.6603 sec/batch\n",
      "Epoch: 3/40...  Training Step: 160...  Training loss: 2.4081...  0.6682 sec/batch\n",
      "Epoch: 4/40...  Training Step: 180...  Training loss: 2.3609...  0.6630 sec/batch\n",
      "Epoch: 4/40...  Training Step: 200...  Training loss: 2.3022...  0.6615 sec/batch\n",
      "Epoch: 4/40...  Training Step: 220...  Training loss: 2.2285...  0.6598 sec/batch\n",
      "Epoch: 5/40...  Training Step: 240...  Training loss: 2.1954...  0.6611 sec/batch\n",
      "Epoch: 5/40...  Training Step: 260...  Training loss: 2.1296...  0.6623 sec/batch\n",
      "Epoch: 6/40...  Training Step: 280...  Training loss: 2.0993...  0.7028 sec/batch\n",
      "Epoch: 6/40...  Training Step: 300...  Training loss: 2.0638...  0.7034 sec/batch\n",
      "Epoch: 6/40...  Training Step: 320...  Training loss: 2.0171...  0.6767 sec/batch\n",
      "Epoch: 7/40...  Training Step: 340...  Training loss: 1.9787...  0.6776 sec/batch\n",
      "Epoch: 7/40...  Training Step: 360...  Training loss: 1.9746...  0.7020 sec/batch\n",
      "Epoch: 7/40...  Training Step: 380...  Training loss: 1.9089...  0.6825 sec/batch\n",
      "Epoch: 8/40...  Training Step: 400...  Training loss: 1.8914...  0.6721 sec/batch\n",
      "Epoch: 8/40...  Training Step: 420...  Training loss: 1.8661...  0.6788 sec/batch\n",
      "Epoch: 8/40...  Training Step: 440...  Training loss: 1.8183...  0.6787 sec/batch\n",
      "Epoch: 9/40...  Training Step: 460...  Training loss: 1.8051...  0.6735 sec/batch\n",
      "Epoch: 9/40...  Training Step: 480...  Training loss: 1.7572...  0.6842 sec/batch\n",
      "Epoch: 10/40...  Training Step: 500...  Training loss: 1.7482...  0.6739 sec/batch\n",
      "Epoch: 10/40...  Training Step: 520...  Training loss: 1.7360...  0.6784 sec/batch\n",
      "Epoch: 10/40...  Training Step: 540...  Training loss: 1.7048...  0.6769 sec/batch\n",
      "Epoch: 11/40...  Training Step: 560...  Training loss: 1.6801...  0.6775 sec/batch\n",
      "Epoch: 11/40...  Training Step: 580...  Training loss: 1.7004...  0.6724 sec/batch\n",
      "Epoch: 11/40...  Training Step: 600...  Training loss: 1.6292...  0.6746 sec/batch\n",
      "Epoch: 12/40...  Training Step: 620...  Training loss: 1.6278...  0.6791 sec/batch\n",
      "Epoch: 12/40...  Training Step: 640...  Training loss: 1.6142...  0.6699 sec/batch\n",
      "Epoch: 12/40...  Training Step: 660...  Training loss: 1.5687...  0.6846 sec/batch\n",
      "Epoch: 13/40...  Training Step: 680...  Training loss: 1.5799...  0.6768 sec/batch\n",
      "Epoch: 13/40...  Training Step: 700...  Training loss: 1.5401...  0.6727 sec/batch\n",
      "Epoch: 14/40...  Training Step: 720...  Training loss: 1.5362...  0.6791 sec/batch\n",
      "Epoch: 14/40...  Training Step: 740...  Training loss: 1.5394...  0.6739 sec/batch\n",
      "Epoch: 14/40...  Training Step: 760...  Training loss: 1.5048...  0.6804 sec/batch\n",
      "Epoch: 15/40...  Training Step: 780...  Training loss: 1.4997...  0.6744 sec/batch\n",
      "Epoch: 15/40...  Training Step: 800...  Training loss: 1.4998...  0.6811 sec/batch\n",
      "Epoch: 15/40...  Training Step: 820...  Training loss: 1.4580...  0.6826 sec/batch\n",
      "Epoch: 16/40...  Training Step: 840...  Training loss: 1.4567...  0.6720 sec/batch\n",
      "Epoch: 16/40...  Training Step: 860...  Training loss: 1.4720...  0.6755 sec/batch\n",
      "Epoch: 16/40...  Training Step: 880...  Training loss: 1.4201...  0.6757 sec/batch\n",
      "Epoch: 17/40...  Training Step: 900...  Training loss: 1.4321...  0.6745 sec/batch\n",
      "Epoch: 17/40...  Training Step: 920...  Training loss: 1.4007...  0.6781 sec/batch\n",
      "Epoch: 18/40...  Training Step: 940...  Training loss: 1.3997...  0.6841 sec/batch\n",
      "Epoch: 18/40...  Training Step: 960...  Training loss: 1.4004...  0.6786 sec/batch\n",
      "Epoch: 18/40...  Training Step: 980...  Training loss: 1.3765...  0.6767 sec/batch\n",
      "Epoch: 19/40...  Training Step: 1000...  Training loss: 1.3791...  0.6615 sec/batch\n",
      "Epoch: 19/40...  Training Step: 1020...  Training loss: 1.3894...  0.7018 sec/batch\n",
      "Epoch: 19/40...  Training Step: 1040...  Training loss: 1.3548...  0.6877 sec/batch\n",
      "Epoch: 20/40...  Training Step: 1060...  Training loss: 1.3478...  0.6655 sec/batch\n",
      "Epoch: 20/40...  Training Step: 1080...  Training loss: 1.3529...  0.6638 sec/batch\n",
      "Epoch: 20/40...  Training Step: 1100...  Training loss: 1.3194...  0.6604 sec/batch\n",
      "Epoch: 21/40...  Training Step: 1120...  Training loss: 1.3256...  0.6614 sec/batch\n",
      "Epoch: 21/40...  Training Step: 1140...  Training loss: 1.3015...  0.6606 sec/batch\n",
      "Epoch: 22/40...  Training Step: 1160...  Training loss: 1.3112...  0.6800 sec/batch\n",
      "Epoch: 22/40...  Training Step: 1180...  Training loss: 1.3240...  0.6742 sec/batch\n",
      "Epoch: 22/40...  Training Step: 1200...  Training loss: 1.2915...  0.6810 sec/batch\n",
      "Epoch: 23/40...  Training Step: 1220...  Training loss: 1.3011...  0.6796 sec/batch\n",
      "Epoch: 23/40...  Training Step: 1240...  Training loss: 1.3060...  0.6785 sec/batch\n",
      "Epoch: 23/40...  Training Step: 1260...  Training loss: 1.2715...  0.6746 sec/batch\n",
      "Epoch: 24/40...  Training Step: 1280...  Training loss: 1.2789...  0.6761 sec/batch\n",
      "Epoch: 24/40...  Training Step: 1300...  Training loss: 1.2728...  0.6831 sec/batch\n",
      "Epoch: 24/40...  Training Step: 1320...  Training loss: 1.2451...  0.6702 sec/batch\n",
      "Epoch: 25/40...  Training Step: 1340...  Training loss: 1.2579...  0.6794 sec/batch\n",
      "Epoch: 25/40...  Training Step: 1360...  Training loss: 1.2281...  0.6746 sec/batch\n",
      "Epoch: 26/40...  Training Step: 1380...  Training loss: 1.2357...  0.6802 sec/batch\n",
      "Epoch: 26/40...  Training Step: 1400...  Training loss: 1.2468...  0.6719 sec/batch\n",
      "Epoch: 26/40...  Training Step: 1420...  Training loss: 1.2201...  0.6773 sec/batch\n",
      "Epoch: 27/40...  Training Step: 1440...  Training loss: 1.2304...  0.6767 sec/batch\n",
      "Epoch: 27/40...  Training Step: 1460...  Training loss: 1.2220...  0.6803 sec/batch\n",
      "Epoch: 27/40...  Training Step: 1480...  Training loss: 1.1951...  0.6722 sec/batch\n",
      "Epoch: 28/40...  Training Step: 1500...  Training loss: 1.1998...  0.6800 sec/batch\n",
      "Epoch: 28/40...  Training Step: 1520...  Training loss: 1.1992...  0.6787 sec/batch\n",
      "Epoch: 28/40...  Training Step: 1540...  Training loss: 1.1741...  0.6731 sec/batch\n",
      "Epoch: 29/40...  Training Step: 1560...  Training loss: 1.1963...  0.6821 sec/batch\n",
      "Epoch: 29/40...  Training Step: 1580...  Training loss: 1.1646...  0.6706 sec/batch\n",
      "Epoch: 30/40...  Training Step: 1600...  Training loss: 1.1806...  0.7090 sec/batch\n",
      "Epoch: 30/40...  Training Step: 1620...  Training loss: 1.1824...  0.7136 sec/batch\n",
      "Epoch: 30/40...  Training Step: 1640...  Training loss: 1.1640...  0.6888 sec/batch\n",
      "Epoch: 31/40...  Training Step: 1660...  Training loss: 1.1745...  0.6750 sec/batch\n",
      "Epoch: 31/40...  Training Step: 1680...  Training loss: 1.1766...  0.6770 sec/batch\n",
      "Epoch: 31/40...  Training Step: 1700...  Training loss: 1.1486...  0.6747 sec/batch\n",
      "Epoch: 32/40...  Training Step: 1720...  Training loss: 1.1549...  0.6722 sec/batch\n",
      "Epoch: 32/40...  Training Step: 1740...  Training loss: 1.1534...  0.6798 sec/batch\n",
      "Epoch: 32/40...  Training Step: 1760...  Training loss: 1.1313...  0.6744 sec/batch\n",
      "Epoch: 33/40...  Training Step: 1780...  Training loss: 1.1574...  0.6747 sec/batch\n",
      "Epoch: 33/40...  Training Step: 1800...  Training loss: 1.1102...  0.6792 sec/batch\n",
      "Epoch: 34/40...  Training Step: 1820...  Training loss: 1.1374...  0.6781 sec/batch\n",
      "Epoch: 34/40...  Training Step: 1840...  Training loss: 1.1417...  0.6776 sec/batch\n",
      "Epoch: 34/40...  Training Step: 1860...  Training loss: 1.1162...  0.6711 sec/batch\n",
      "Epoch: 35/40...  Training Step: 1880...  Training loss: 1.1296...  0.6781 sec/batch\n",
      "Epoch: 35/40...  Training Step: 1900...  Training loss: 1.1287...  0.6594 sec/batch\n",
      "Epoch: 35/40...  Training Step: 1920...  Training loss: 1.1044...  0.6605 sec/batch\n",
      "Epoch: 36/40...  Training Step: 1940...  Training loss: 1.1113...  0.6866 sec/batch\n",
      "Epoch: 36/40...  Training Step: 1960...  Training loss: 1.1172...  0.6635 sec/batch\n",
      "Epoch: 36/40...  Training Step: 1980...  Training loss: 1.0918...  0.6782 sec/batch\n"
     ]
    },
    {
     "name": "stdout",
     "output_type": "stream",
     "text": [
      "Epoch: 37/40...  Training Step: 2000...  Training loss: 1.1066...  0.6587 sec/batch\n",
      "Epoch: 37/40...  Training Step: 2020...  Training loss: 1.0780...  0.6629 sec/batch\n",
      "Epoch: 38/40...  Training Step: 2040...  Training loss: 1.0978...  0.6606 sec/batch\n",
      "Epoch: 38/40...  Training Step: 2060...  Training loss: 1.1030...  0.6630 sec/batch\n",
      "Epoch: 38/40...  Training Step: 2080...  Training loss: 1.0810...  0.6615 sec/batch\n",
      "Epoch: 39/40...  Training Step: 2100...  Training loss: 1.0928...  0.6623 sec/batch\n",
      "Epoch: 39/40...  Training Step: 2120...  Training loss: 1.0874...  0.6619 sec/batch\n",
      "Epoch: 39/40...  Training Step: 2140...  Training loss: 1.0708...  0.6595 sec/batch\n",
      "Epoch: 40/40...  Training Step: 2160...  Training loss: 1.0750...  0.6780 sec/batch\n",
      "Epoch: 40/40...  Training Step: 2180...  Training loss: 1.0763...  0.6618 sec/batch\n",
      "Epoch: 40/40...  Training Step: 2200...  Training loss: 1.0513...  0.6617 sec/batch\n"
     ]
    }
   ],
   "source": [
    "epochs = 40\n",
    "# Save every N iterations\n",
    "save_every_n = 200\n",
    "print_every_n = 20\n",
    "\n",
    "model = CharRNN(len(vocab), batch_size=batch_size, num_steps=num_steps,\n",
    "                lstm_size=lstm_size, num_layers=num_layers, \n",
    "                learning_rate=learning_rate)\n",
    "\n",
    "saver = tf.train.Saver(max_to_keep=100)\n",
    "with tf.Session() as sess:\n",
    "    sess.run(tf.global_variables_initializer())\n",
    "    \n",
    "    # Use the line below to load a checkpoint and resume training\n",
    "    #saver.restore(sess, 'checkpoints/______.ckpt')\n",
    "    counter = 0\n",
    "    for e in range(epochs):\n",
    "        # Train network\n",
    "        new_state = sess.run(model.initial_state)\n",
    "        loss = 0\n",
    "        for x, y in get_batches(encoded, batch_size, num_steps):\n",
    "            counter += 1\n",
    "            start = time.time()\n",
    "            feed = {model.inputs: x,\n",
    "                    model.targets: y,\n",
    "                    model.keep_prob: keep_prob,\n",
    "                    model.initial_state: new_state}\n",
    "            batch_loss, new_state, _ = sess.run([model.loss, \n",
    "                                                 model.final_state, \n",
    "                                                 model.optimizer], \n",
    "                                                 feed_dict=feed)\n",
    "            \n",
    "            end = time.time()\n",
    "            if (counter % print_every_n == 0):\n",
    "                print('Epoch: {}/{}... '.format(e+1, epochs),\n",
    "                      'Training Step: {}... '.format(counter),\n",
    "                      'Training loss: {:.4f}... '.format(batch_loss),\n",
    "                      '{:.4f} sec/batch'.format((end-start)))\n",
    "\n",
    "            if (counter % save_every_n == 0):\n",
    "                saver.save(sess, \"checkpoints/i{}_l{}.ckpt\".format(counter, lstm_size))\n",
    "    \n",
    "    saver.save(sess, \"checkpoints/i{}_l{}.ckpt\".format(counter, lstm_size))"
   ]
  },
  {
   "cell_type": "markdown",
   "metadata": {},
   "source": [
    "#### Saved checkpoints\n",
    "\n",
    "Read up on saving and loading checkpoints here: https://www.tensorflow.org/programmers_guide/variables"
   ]
  },
  {
   "cell_type": "code",
   "execution_count": 48,
   "metadata": {},
   "outputs": [
    {
     "data": {
      "text/plain": [
       "model_checkpoint_path: \"checkpoints/i2200_l1024.ckpt\"\n",
       "all_model_checkpoint_paths: \"checkpoints/i200_l1024.ckpt\"\n",
       "all_model_checkpoint_paths: \"checkpoints/i400_l1024.ckpt\"\n",
       "all_model_checkpoint_paths: \"checkpoints/i600_l1024.ckpt\"\n",
       "all_model_checkpoint_paths: \"checkpoints/i800_l1024.ckpt\"\n",
       "all_model_checkpoint_paths: \"checkpoints/i1000_l1024.ckpt\"\n",
       "all_model_checkpoint_paths: \"checkpoints/i1200_l1024.ckpt\"\n",
       "all_model_checkpoint_paths: \"checkpoints/i1400_l1024.ckpt\"\n",
       "all_model_checkpoint_paths: \"checkpoints/i1600_l1024.ckpt\"\n",
       "all_model_checkpoint_paths: \"checkpoints/i1800_l1024.ckpt\"\n",
       "all_model_checkpoint_paths: \"checkpoints/i2000_l1024.ckpt\"\n",
       "all_model_checkpoint_paths: \"checkpoints/i2200_l1024.ckpt\""
      ]
     },
     "execution_count": 48,
     "metadata": {},
     "output_type": "execute_result"
    }
   ],
   "source": [
    "tf.train.get_checkpoint_state('checkpoints')"
   ]
  },
  {
   "cell_type": "markdown",
   "metadata": {},
   "source": [
    "## Sampling\n",
    "\n",
    "Now that the network is trained, we'll can use it to generate new text. The idea is that we pass in a character, then the network will predict the next character. We can use the new one, to predict the next one. And we keep doing this to generate all new text. I also included some functionality to prime the network with some text by passing in a string and building up a state from that.\n",
    "\n",
    "The network gives us predictions for each character. To reduce noise and make things a little less random, I'm going to only choose a new character from the top N most likely characters.\n",
    "\n"
   ]
  },
  {
   "cell_type": "code",
   "execution_count": 49,
   "metadata": {
    "collapsed": true
   },
   "outputs": [],
   "source": [
    "def pick_top_n(preds, vocab_size, top_n=5):\n",
    "    p = np.squeeze(preds)\n",
    "    p[np.argsort(p)[:-top_n]] = 0\n",
    "    p = p / np.sum(p)\n",
    "    c = np.random.choice(vocab_size, 1, p=p)[0]\n",
    "    return c"
   ]
  },
  {
   "cell_type": "code",
   "execution_count": 50,
   "metadata": {
    "collapsed": true
   },
   "outputs": [],
   "source": [
    "def sample(checkpoint, n_samples, lstm_size, vocab_size, prime=\"The \"):\n",
    "    samples = [c for c in prime]\n",
    "    model = CharRNN(len(vocab), lstm_size=lstm_size, sampling=True)\n",
    "    saver = tf.train.Saver()\n",
    "    with tf.Session() as sess:\n",
    "        saver.restore(sess, checkpoint)\n",
    "        new_state = sess.run(model.initial_state)\n",
    "        for c in prime:\n",
    "            x = np.zeros((1, 1))\n",
    "            x[0,0] = vocab_to_int[c]\n",
    "            feed = {model.inputs: x,\n",
    "                    model.keep_prob: 1.,\n",
    "                    model.initial_state: new_state}\n",
    "            preds, new_state = sess.run([model.prediction, model.final_state], \n",
    "                                         feed_dict=feed)\n",
    "\n",
    "        c = pick_top_n(preds, len(vocab))\n",
    "        samples.append(int_to_vocab[c])\n",
    "\n",
    "        for i in range(n_samples):\n",
    "            x[0,0] = c\n",
    "            feed = {model.inputs: x,\n",
    "                    model.keep_prob: 1.,\n",
    "                    model.initial_state: new_state}\n",
    "            preds, new_state = sess.run([model.prediction, model.final_state], \n",
    "                                         feed_dict=feed)\n",
    "\n",
    "            c = pick_top_n(preds, len(vocab))\n",
    "            samples.append(int_to_vocab[c])\n",
    "        \n",
    "    return ''.join(samples)"
   ]
  },
  {
   "cell_type": "markdown",
   "metadata": {},
   "source": [
    "Here, pass in the path to a checkpoint and sample from the network."
   ]
  },
  {
   "cell_type": "code",
   "execution_count": 51,
   "metadata": {},
   "outputs": [
    {
     "data": {
      "text/plain": [
       "'checkpoints/i2200_l1024.ckpt'"
      ]
     },
     "execution_count": 51,
     "metadata": {},
     "output_type": "execute_result"
    }
   ],
   "source": [
    "tf.train.latest_checkpoint('checkpoints')"
   ]
  },
  {
   "cell_type": "code",
   "execution_count": 52,
   "metadata": {},
   "outputs": [
    {
     "name": "stdout",
     "output_type": "stream",
     "text": [
      "Farling the money,\n",
      "which they had been suddenly bound the counting house, the mere he was\n",
      "the chief sense of the country, the salary in the face they were\n",
      "saying that he saw and was the offers that they are comfortable,\n",
      "indeed, husiarity, and wonderful stories in the moming to him. To\n",
      "what he was a man, of having seemed, as though in her face she\n",
      "went off.\n",
      "\n",
      "\"Well, he's the same.\"\n",
      "\n",
      "\"I was glud to go on like atyona women, because I have to dark her\n",
      "husband. Anything in the marsh, I'll come to the ladies. And I\n",
      "see you were to say to my son. I should be so gloomy, that's a\n",
      "prince.\"\n",
      "\n",
      "And he studged, hoping from her all her house through the children.\n",
      "\n",
      "\"A mustre! And she's sure, I don't know...\" She wanted to speak to\n",
      "him. He had tried to look at the summer at a certain expectation, he\n",
      "went to the subject. The sight of her side-bashien, with her shreams\n",
      "from her hands, he clutched at her as the most and gown, both, to\n",
      "humble, straight off that his father went on:\n",
      "\"And how about your sincer that he was in her fail,\" he\n",
      "said to herself, as he was, as he went in, he was a gleam and geating\n",
      "from the stable and a peaceful whitale of idlances. Anna stood still,\n",
      "standing, and sat down at the table. \"I shall go to her. I don't want.\"\n",
      "\n",
      "\"No, It's so much to be about to decide, but would be delightful.\"\n",
      "\n",
      "\"Oh, you must not look after than. It's not so much.\"\n",
      "\n",
      "\"What's a both of all minute,\" said Levin, going out of the doorweeter,\n",
      "sawing her a sharl wite fallow, but he heard his sister, and\n",
      "at the same time and struggling. \"Why shalls to be over, and have\n",
      "the same as though I can't believe it!\" Levin asked herself, as too much\n",
      "carelessly, asking all that, this was so lational to the coachman, she\n",
      "had been their father, and asking to a steps of those place in the window\n",
      "of the door. At the time the marsh as two shows and the strange things\n",
      "of the man walking to be so going to be at the service, of an instant what\n",
      "would have shown her friend that he had not set for him to leave out,\n",
      "what h\n"
     ]
    }
   ],
   "source": [
    "checkpoint = tf.train.latest_checkpoint('checkpoints')\n",
    "samp = sample(checkpoint, 2000, lstm_size, len(vocab), prime=\"Far\")\n",
    "print(samp)"
   ]
  },
  {
   "cell_type": "code",
   "execution_count": 54,
   "metadata": {},
   "outputs": [
    {
     "name": "stdout",
     "output_type": "stream",
     "text": [
      "Far hict on he sinesererad to he tome so could, his wore singorint, har\n",
      "deratiles. And ald he ther on tad tis ton with as af toulelly\n",
      "ate ald hes woressederend thad, sherise talig the has anderd thes\n",
      "hade tous altedens tart ing of her sof and ther hat hos wert an se ald tor and ofet had sinde the houd her sort he tasd ond\n",
      "thor se and oredith als\n",
      "too cele sharerdad than wathe ale thererd sot that so wath as war the wish ald andid hit her shimed ald the simered. \n",
      "And and the cond to somer the wore ar hit of on hing of ith ans worigten ar somid of he mane all thin sis ind aferens his horedenged hich sof to tins thet ald terth se with th the\n",
      "den therd ald wor sase sathing of he cestan her he sored\n",
      "ad to mored hin he tas to had sothe corener ta he\n",
      "derent hered ofrtithe has thichadd ard her soredit thanger of\n",
      "his hint has wat ald anthed sisid the sorese forisgot he pound ofrest thicered on ho shan soud he soudtered he sad ad thet so the he shad\n",
      "sond tharg ore thou houlse fretins, was the hemsand\n"
     ]
    }
   ],
   "source": [
    "checkpoint = 'checkpoints/i200_l1024.ckpt'\n",
    "samp = sample(checkpoint, 1000, lstm_size, len(vocab), prime=\"Far\")\n",
    "print(samp)"
   ]
  },
  {
   "cell_type": "code",
   "execution_count": 55,
   "metadata": {},
   "outputs": [
    {
     "name": "stdout",
     "output_type": "stream",
     "text": [
      "Farnch, and the\n",
      "cat he sad herself that stander to be instancious of the\n",
      "changer.\n",
      "\n",
      "\"You din't culf to some his his were and all said the sont at the sawe wenthe and himsell any the same of the was ald to tell the same, wellen to her for husbruad.\n",
      "\"As him to the sone as it all how here for the sarmed time the shooter and his\n",
      "his\n",
      "comprosants of a crailing his works of the cansent of sight, the wall, shild to as he such. \"They say so think is the chasing time or\n",
      "the she have as an a more., and stoppidions had his happone secold\n",
      "chisher, what were the poorer of the she day helt and sten that in the coundrens, as\n",
      "the cances it and that he\n",
      "stupped her has back, with the will a gars will to the hasters of his becoute, and him too her stopt, beting, he wist hosel abon any thingh at the word who head of the werest of the class to the somperess,\n",
      "when he was not a brome heald backer have, who went off toodichence, and to him thoughthing he had\n",
      "been to\n",
      "her histerfit, who was angeed one a supprias of t\n"
     ]
    }
   ],
   "source": [
    "checkpoint = 'checkpoints/i600_l1024.ckpt'\n",
    "samp = sample(checkpoint, 1000, lstm_size, len(vocab), prime=\"Far\")\n",
    "print(samp)"
   ]
  },
  {
   "cell_type": "code",
   "execution_count": 56,
   "metadata": {},
   "outputs": [
    {
     "name": "stdout",
     "output_type": "stream",
     "text": [
      "Farche in her side of her fore third, and he was string him on\n",
      "the that was no torry.\n",
      "\n",
      "\"Well, how harely\n",
      "you straighly, I don't know it you she seess triest and to despise\n",
      "it.\" Anna said still\n",
      "were all the same servant corrie whom his sort\n",
      "of her eyes of anyone, hearily was the consideritice of his mother were still that he could not subder\n",
      "what he had sutched to\n",
      "go to the sare that he was at once as\n",
      "to still the previous of the mistake, and seeing he wen one\n",
      "to be suffering, and still he could not still\n",
      "himself that the post of minute. And the prive of the chaighto as had never been a state from their province. She has hade in\n",
      "the cold to\n",
      "hava time. He came in with her hand in the same\n",
      "shamp.\n",
      "\n",
      "Alexey\n",
      "Alexandrovitch, and that she had noticed. And the momentss they had not\n",
      "been selicing it to him,\" she sat and deparmed in the\n",
      "company, and there was a\n",
      "strength a misulder the stopen often her starms she had no round on her. He had\n",
      "come out of the meading of the\n",
      "docror, who telled him to the s\n"
     ]
    }
   ],
   "source": [
    "checkpoint = 'checkpoints/i1200_l1024.ckpt'\n",
    "samp = sample(checkpoint, 1000, lstm_size, len(vocab), prime=\"Far\")\n",
    "print(samp)"
   ]
  },
  {
   "cell_type": "code",
   "execution_count": null,
   "metadata": {
    "collapsed": true
   },
   "outputs": [],
   "source": []
  }
 ],
 "metadata": {
  "kernelspec": {
   "display_name": "Python 3",
   "language": "python",
   "name": "python3"
  },
  "language_info": {
   "codemirror_mode": {
    "name": "ipython",
    "version": 3
   },
   "file_extension": ".py",
   "mimetype": "text/x-python",
   "name": "python",
   "nbconvert_exporter": "python",
   "pygments_lexer": "ipython3",
   "version": "3.6.1"
  }
 },
 "nbformat": 4,
 "nbformat_minor": 2
}
