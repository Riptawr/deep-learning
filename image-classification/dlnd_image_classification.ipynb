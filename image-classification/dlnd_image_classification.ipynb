{
 "cells": [
  {
   "cell_type": "markdown",
   "metadata": {
    "collapsed": true
   },
   "source": [
    "# Image Classification\n",
    "In this project, you'll classify images from the [CIFAR-10 dataset](https://www.cs.toronto.edu/~kriz/cifar.html).  The dataset consists of airplanes, dogs, cats, and other objects. You'll preprocess the images, then train a convolutional neural network on all the samples. The images need to be normalized and the labels need to be one-hot encoded.  You'll get to apply what you learned and build a convolutional, max pooling, dropout, and fully connected layers.  At the end, you'll get to see your neural network's predictions on the sample images.\n",
    "## Get the Data\n",
    "Run the following cell to download the [CIFAR-10 dataset for python](https://www.cs.toronto.edu/~kriz/cifar-10-python.tar.gz)."
   ]
  },
  {
   "cell_type": "code",
   "execution_count": 1,
   "metadata": {},
   "outputs": [
    {
     "name": "stdout",
     "output_type": "stream",
     "text": [
      "All files found!\n"
     ]
    }
   ],
   "source": [
    "\"\"\"\n",
    "DON'T MODIFY ANYTHING IN THIS CELL THAT IS BELOW THIS LINE\n",
    "\"\"\"\n",
    "from urllib.request import urlretrieve\n",
    "from os.path import isfile, isdir\n",
    "from tqdm import tqdm\n",
    "import problem_unittests as tests\n",
    "import tarfile\n",
    "\n",
    "cifar10_dataset_folder_path = 'cifar-10-batches-py'\n",
    "\n",
    "# Use Floyd's cifar-10 dataset if present\n",
    "floyd_cifar10_location = '/input/cifar-10/python.tar.gz'\n",
    "if isfile(floyd_cifar10_location):\n",
    "    tar_gz_path = floyd_cifar10_location\n",
    "else:\n",
    "    tar_gz_path = 'cifar-10-python.tar.gz'\n",
    "\n",
    "class DLProgress(tqdm):\n",
    "    last_block = 0\n",
    "\n",
    "    def hook(self, block_num=1, block_size=1, total_size=None):\n",
    "        self.total = total_size\n",
    "        self.update((block_num - self.last_block) * block_size)\n",
    "        self.last_block = block_num\n",
    "\n",
    "if not isfile(tar_gz_path):\n",
    "    with DLProgress(unit='B', unit_scale=True, miniters=1, desc='CIFAR-10 Dataset') as pbar:\n",
    "        urlretrieve(\n",
    "            'https://www.cs.toronto.edu/~kriz/cifar-10-python.tar.gz',\n",
    "            tar_gz_path,\n",
    "            pbar.hook)\n",
    "\n",
    "if not isdir(cifar10_dataset_folder_path):\n",
    "    with tarfile.open(tar_gz_path) as tar:\n",
    "        tar.extractall()\n",
    "        tar.close()\n",
    "\n",
    "\n",
    "tests.test_folder_path(cifar10_dataset_folder_path)"
   ]
  },
  {
   "cell_type": "markdown",
   "metadata": {},
   "source": [
    "## Explore the Data\n",
    "The dataset is broken into batches to prevent your machine from running out of memory.  The CIFAR-10 dataset consists of 5 batches, named `data_batch_1`, `data_batch_2`, etc.. Each batch contains the labels and images that are one of the following:\n",
    "* airplane\n",
    "* automobile\n",
    "* bird\n",
    "* cat\n",
    "* deer\n",
    "* dog\n",
    "* frog\n",
    "* horse\n",
    "* ship\n",
    "* truck\n",
    "\n",
    "Understanding a dataset is part of making predictions on the data.  Play around with the code cell below by changing the `batch_id` and `sample_id`. The `batch_id` is the id for a batch (1-5). The `sample_id` is the id for a image and label pair in the batch.\n",
    "\n",
    "Ask yourself \"What are all possible labels?\", \"What is the range of values for the image data?\", \"Are the labels in order or random?\".  Answers to questions like these will help you preprocess the data and end up with better predictions."
   ]
  },
  {
   "cell_type": "code",
   "execution_count": 2,
   "metadata": {},
   "outputs": [
    {
     "name": "stdout",
     "output_type": "stream",
     "text": [
      "\n",
      "Stats of batch 1:\n",
      "Samples: 10000\n",
      "Label Counts: {0: 1005, 1: 974, 2: 1032, 3: 1016, 4: 999, 5: 937, 6: 1030, 7: 1001, 8: 1025, 9: 981}\n",
      "First 20 Labels: [6, 9, 9, 4, 1, 1, 2, 7, 8, 3, 4, 7, 7, 2, 9, 9, 9, 3, 2, 6]\n",
      "\n",
      "Example of Image 5:\n",
      "Image - Min Value: 0 Max Value: 252\n",
      "Image - Shape: (32, 32, 3)\n",
      "Label - Label Id: 1 Name: automobile\n"
     ]
    },
    {
     "data": {
      "image/png": "[encoded data removed]",
      "text/plain": [
       "<matplotlib.figure.Figure at 0x7f4d53ebca58>"
      ]
     },
     "metadata": {
      "image/png": {
       "height": 250,
       "width": 253
      }
     },
     "output_type": "display_data"
    }
   ],
   "source": [
    "%matplotlib inline\n",
    "%config InlineBackend.figure_format = 'retina'\n",
    "\n",
    "import helper\n",
    "import numpy as np\n",
    "\n",
    "# Explore the dataset\n",
    "batch_id = 1\n",
    "sample_id = 5\n",
    "helper.display_stats(cifar10_dataset_folder_path, batch_id, sample_id)"
   ]
  },
  {
   "cell_type": "markdown",
   "metadata": {},
   "source": [
    "## Implement Preprocess Functions\n",
    "### Normalize\n",
    "In the cell below, implement the `normalize` function to take in image data, `x`, and return it as a normalized Numpy array. The values should be in the range of 0 to 1, inclusive.  The return object should be the same shape as `x`."
   ]
  },
  {
   "cell_type": "code",
   "execution_count": 3,
   "metadata": {},
   "outputs": [
    {
     "name": "stdout",
     "output_type": "stream",
     "text": [
      "Tests Passed\n"
     ]
    }
   ],
   "source": [
    "def normalize(x, range_min=0, range_max=255):\n",
    "    \"\"\"\n",
    "    Normalize a list of sample image data in the range of 0 to 1\n",
    "    : x: List of image data.  The image shape is (32, 32, 3)\n",
    "    : return: Numpy array of normalize data\n",
    "    \"\"\"\n",
    "    # Avoiding exactly zero and one, due to possible saturation issues with some activation functions\n",
    "    # or risks of underflow\n",
    "    a = 0.1\n",
    "    b = 0.9\n",
    "    range_min = 0\n",
    "    range_max = 255\n",
    "    return a + ( ( (x - range_min)*(b - a) )/( range_max - range_min ) )\n",
    "\n",
    "\n",
    "\"\"\"\n",
    "DON'T MODIFY ANYTHING IN THIS CELL THAT IS BELOW THIS LINE\n",
    "\"\"\"\n",
    "tests.test_normalize(normalize)"
   ]
  },
  {
   "cell_type": "markdown",
   "metadata": {},
   "source": [
    "### One-hot encode\n",
    "Just like the previous code cell, you'll be implementing a function for preprocessing.  This time, you'll implement the `one_hot_encode` function. The input, `x`, are a list of labels.  Implement the function to return the list of labels as One-Hot encoded Numpy array.  The possible values for labels are 0 to 9. The one-hot encoding function should return the same encoding for each value between each call to `one_hot_encode`.  Make sure to save the map of encodings outside the function.\n",
    "\n",
    "Hint: Don't reinvent the wheel."
   ]
  },
  {
   "cell_type": "code",
   "execution_count": 4,
   "metadata": {},
   "outputs": [
    {
     "name": "stdout",
     "output_type": "stream",
     "text": [
      "Tests Passed\n"
     ]
    }
   ],
   "source": [
    "def one_hot_encode(x, n_labels=10):\n",
    "    \"\"\"\n",
    "    One hot encode a list of sample labels. Return a one-hot encoded vector for each label.\n",
    "    : x: List of sample Labels\n",
    "    : return: Numpy array of one-hot encoded labels\n",
    "    \"\"\"\n",
    "    # ohe via identity matrix for labels times examples\n",
    "    # should not change between uses unless labels change and there is\n",
    "    # no need for outer scope mutation of variables\n",
    "    return np.eye(n_labels)[x]\n",
    "\n",
    "\n",
    "\"\"\"\n",
    "DON'T MODIFY ANYTHING IN THIS CELL THAT IS BELOW THIS LINE\n",
    "\"\"\"\n",
    "tests.test_one_hot_encode(one_hot_encode)"
   ]
  },
  {
   "cell_type": "markdown",
   "metadata": {},
   "source": [
    "### Randomize Data\n",
    "As you saw from exploring the data above, the order of the samples are randomized.  It doesn't hurt to randomize it again, but you don't need to for this dataset."
   ]
  },
  {
   "cell_type": "markdown",
   "metadata": {},
   "source": [
    "## Preprocess all the data and save it\n",
    "Running the code cell below will preprocess all the CIFAR-10 data and save it to file. The code below also uses 10% of the training data for validation."
   ]
  },
  {
   "cell_type": "code",
   "execution_count": 5,
   "metadata": {
    "collapsed": true
   },
   "outputs": [],
   "source": [
    "\"\"\"\n",
    "DON'T MODIFY ANYTHING IN THIS CELL\n",
    "\"\"\"\n",
    "# Preprocess Training, Validation, and Testing Data\n",
    "helper.preprocess_and_save_data(cifar10_dataset_folder_path, normalize, one_hot_encode)"
   ]
  },
  {
   "cell_type": "markdown",
   "metadata": {},
   "source": [
    "# Check Point\n",
    "This is your first checkpoint.  If you ever decide to come back to this notebook or have to restart the notebook, you can start from here.  The preprocessed data has been saved to disk."
   ]
  },
  {
   "cell_type": "code",
   "execution_count": 6,
   "metadata": {
    "collapsed": true
   },
   "outputs": [],
   "source": [
    "\"\"\"\n",
    "DON'T MODIFY ANYTHING IN THIS CELL\n",
    "\"\"\"\n",
    "import pickle\n",
    "import problem_unittests as tests\n",
    "import helper\n",
    "\n",
    "# Load the Preprocessed Validation data\n",
    "valid_features, valid_labels = pickle.load(open('preprocess_validation.p', mode='rb'))"
   ]
  },
  {
   "cell_type": "markdown",
   "metadata": {},
   "source": [
    "## Build the network\n",
    "For the neural network, you'll build each layer into a function.  Most of the code you've seen has been outside of functions. To test your code more thoroughly, we require that you put each layer in a function.  This allows us to give you better feedback and test for simple mistakes using our unittests before you submit your project.\n",
    "\n",
    ">**Note:** If you're finding it hard to dedicate enough time for this course each week, we've provided a small shortcut to this part of the project. In the next couple of problems, you'll have the option to use classes from the [TensorFlow Layers](https://www.tensorflow.org/api_docs/python/tf/layers) or [TensorFlow Layers (contrib)](https://www.tensorflow.org/api_guides/python/contrib.layers) packages to build each layer, except the layers you build in the \"Convolutional and Max Pooling Layer\" section.  TF Layers is similar to Keras's and TFLearn's abstraction to layers, so it's easy to pickup.\n",
    "\n",
    ">However, if you would like to get the most out of this course, try to solve all the problems _without_ using anything from the TF Layers packages. You **can** still use classes from other packages that happen to have the same name as ones you find in TF Layers! For example, instead of using the TF Layers version of the `conv2d` class, [tf.layers.conv2d](https://www.tensorflow.org/api_docs/python/tf/layers/conv2d), you would want to use the TF Neural Network version of `conv2d`, [tf.nn.conv2d](https://www.tensorflow.org/api_docs/python/tf/nn/conv2d). \n",
    "\n",
    "Let's begin!\n",
    "\n",
    "### Input\n",
    "The neural network needs to read the image data, one-hot encoded labels, and dropout keep probability. Implement the following functions\n",
    "* Implement `neural_net_image_input`\n",
    " * Return a [TF Placeholder](https://www.tensorflow.org/api_docs/python/tf/placeholder)\n",
    " * Set the shape using `image_shape` with batch size set to `None`.\n",
    " * Name the TensorFlow placeholder \"x\" using the TensorFlow `name` parameter in the [TF Placeholder](https://www.tensorflow.org/api_docs/python/tf/placeholder).\n",
    "* Implement `neural_net_label_input`\n",
    " * Return a [TF Placeholder](https://www.tensorflow.org/api_docs/python/tf/placeholder)\n",
    " * Set the shape using `n_classes` with batch size set to `None`.\n",
    " * Name the TensorFlow placeholder \"y\" using the TensorFlow `name` parameter in the [TF Placeholder](https://www.tensorflow.org/api_docs/python/tf/placeholder).\n",
    "* Implement `neural_net_keep_prob_input`\n",
    " * Return a [TF Placeholder](https://www.tensorflow.org/api_docs/python/tf/placeholder) for dropout keep probability.\n",
    " * Name the TensorFlow placeholder \"keep_prob\" using the TensorFlow `name` parameter in the [TF Placeholder](https://www.tensorflow.org/api_docs/python/tf/placeholder).\n",
    "\n",
    "These names will be used at the end of the project to load your saved model.\n",
    "\n",
    "Note: `None` for shapes in TensorFlow allow for a dynamic size."
   ]
  },
  {
   "cell_type": "code",
   "execution_count": 7,
   "metadata": {},
   "outputs": [
    {
     "name": "stdout",
     "output_type": "stream",
     "text": [
      "Image Input Tests Passed.\n",
      "Label Input Tests Passed.\n",
      "Keep Prob Tests Passed.\n"
     ]
    }
   ],
   "source": [
    "import tensorflow as tf\n",
    "\n",
    "def neural_net_image_input(image_shape):\n",
    "    \"\"\"\n",
    "    Return a Tensor for a batch of image input\n",
    "    : image_shape: Shape of the images\n",
    "    : return: Tensor for image input.\n",
    "    \"\"\"\n",
    "    return tf.placeholder(tf.float32, shape=[None, *image_shape], name=\"x\")\n",
    "\n",
    "\n",
    "def neural_net_label_input(n_classes, channels=3):\n",
    "    \"\"\"\n",
    "    Return a Tensor for a batch of label input\n",
    "    : n_classes: Number of classes\n",
    "    : return: Tensor for label input.\n",
    "    \"\"\"\n",
    "    return tf.placeholder(tf.float32, shape=[None, n_classes,], name=\"y\")\n",
    "\n",
    "\n",
    "def neural_net_keep_prob_input():\n",
    "    \"\"\"\n",
    "    Return a Tensor for keep probability\n",
    "    : return: Tensor for keep probability.\n",
    "    \"\"\"\n",
    "    return tf.placeholder(tf.float32, name=\"keep_prob\")\n",
    "\n",
    "\n",
    "\"\"\"\n",
    "DON'T MODIFY ANYTHING IN THIS CELL THAT IS BELOW THIS LINE\n",
    "\"\"\"\n",
    "tf.reset_default_graph()\n",
    "tests.test_nn_image_inputs(neural_net_image_input)\n",
    "tests.test_nn_label_inputs(neural_net_label_input)\n",
    "tests.test_nn_keep_prob_inputs(neural_net_keep_prob_input)"
   ]
  },
  {
   "cell_type": "markdown",
   "metadata": {},
   "source": [
    "### Convolution and Max Pooling Layer\n",
    "Convolution layers have a lot of success with images. For this code cell, you should implement the function `conv2d_maxpool` to apply convolution then max pooling:\n",
    "* Create the weight and bias using `conv_ksize`, `conv_num_outputs` and the shape of `x_tensor`.\n",
    "* Apply a convolution to `x_tensor` using weight and `conv_strides`.\n",
    " * We recommend you use same padding, but you're welcome to use any padding.\n",
    "* Add bias\n",
    "* Add a nonlinear activation to the convolution.\n",
    "* Apply Max Pooling using `pool_ksize` and `pool_strides`.\n",
    " * We recommend you use same padding, but you're welcome to use any padding.\n",
    "\n",
    "**Note:** You **can't** use [TensorFlow Layers](https://www.tensorflow.org/api_docs/python/tf/layers) or [TensorFlow Layers (contrib)](https://www.tensorflow.org/api_guides/python/contrib.layers) for **this** layer, but you can still use TensorFlow's [Neural Network](https://www.tensorflow.org/api_docs/python/tf/nn) package. You may still use the shortcut option for all the **other** layers."
   ]
  },
  {
   "cell_type": "code",
   "execution_count": 8,
   "metadata": {},
   "outputs": [
    {
     "name": "stdout",
     "output_type": "stream",
     "text": [
      "Tests Passed\n"
     ]
    }
   ],
   "source": [
    "def conv2d_maxpool(x_tensor, conv_num_outputs, conv_ksize, conv_strides, pool_ksize, pool_strides):\n",
    "    \"\"\"\n",
    "    Apply convolution then max pooling to x_tensor\n",
    "    :param x_tensor: TensorFlow Tensor\n",
    "    :param conv_num_outputs: Number of outputs for the convolutional layer\n",
    "    :param conv_ksize: kernal size 2-D Tuple for the convolutional layer\n",
    "    :param conv_strides: Stride 2-D Tuple for convolution\n",
    "    :param pool_ksize: kernal size 2-D Tuple for pool\n",
    "    :param pool_strides: Stride 2-D Tuple for pool\n",
    "    : return: A tensor that represents convolution and max pooling of x_tensor\n",
    "    \"\"\"\n",
    "    W = tf.Variable(tf.random_normal(\n",
    "        shape=[*x_tensor.get_shape().as_list()[1:], conv_num_outputs],\n",
    "        mean=0.0,\n",
    "        stddev=0.01,\n",
    "        dtype=tf.float32))\n",
    "    \n",
    "    b = tf.Variable(tf.zeros([conv_num_outputs]))\n",
    "    #print(conv_strides)\n",
    "    conv = tf.nn.conv2d(x_tensor, W, strides=[1, *conv_strides, 1], padding=\"SAME\")\n",
    "    conv = tf.nn.bias_add(conv, b)\n",
    "    conv = tf.nn.relu(conv)\n",
    "    \n",
    "    conv = tf.nn.max_pool(conv,\n",
    "                          [1, *pool_ksize, 1],\n",
    "                          [1, *pool_strides, 1],\n",
    "                          padding=\"SAME\")\n",
    "    \n",
    "    return conv\n",
    "\n",
    "\"\"\"\n",
    "DON'T MODIFY ANYTHING IN THIS CELL THAT IS BELOW THIS LINE\n",
    "\"\"\"\n",
    "tests.test_con_pool(conv2d_maxpool)"
   ]
  },
  {
   "cell_type": "markdown",
   "metadata": {},
   "source": [
    "### Flatten Layer\n",
    "Implement the `flatten` function to change the dimension of `x_tensor` from a 4-D tensor to a 2-D tensor.  The output should be the shape (*Batch Size*, *Flattened Image Size*). Shortcut option: you can use classes from the [TensorFlow Layers](https://www.tensorflow.org/api_docs/python/tf/layers) or [TensorFlow Layers (contrib)](https://www.tensorflow.org/api_guides/python/contrib.layers) packages for this layer. For more of a challenge, only use other TensorFlow packages."
   ]
  },
  {
   "cell_type": "code",
   "execution_count": 9,
   "metadata": {},
   "outputs": [
    {
     "name": "stdout",
     "output_type": "stream",
     "text": [
      "Tests Passed\n"
     ]
    }
   ],
   "source": [
    "def flatten(x_tensor):\n",
    "    \"\"\"\n",
    "    Flatten x_tensor to (Batch Size, Flattened Image Size)\n",
    "    : x_tensor: A tensor of size (Batch Size, ...), where ... are the image dimensions.\n",
    "    : return: A tensor of size (Batch Size, Flattened Image Size).\n",
    "    \"\"\"\n",
    "    # Highlevel is nice\n",
    "    return tf.contrib.layers.flatten(x_tensor)\n",
    "\n",
    "\n",
    "\"\"\"\n",
    "DON'T MODIFY ANYTHING IN THIS CELL THAT IS BELOW THIS LINE\n",
    "\"\"\"\n",
    "tests.test_flatten(flatten)"
   ]
  },
  {
   "cell_type": "markdown",
   "metadata": {},
   "source": [
    "### Fully-Connected Layer\n",
    "Implement the `fully_conn` function to apply a fully connected layer to `x_tensor` with the shape (*Batch Size*, *num_outputs*). Shortcut option: you can use classes from the [TensorFlow Layers](https://www.tensorflow.org/api_docs/python/tf/layers) or [TensorFlow Layers (contrib)](https://www.tensorflow.org/api_guides/python/contrib.layers) packages for this layer. For more of a challenge, only use other TensorFlow packages."
   ]
  },
  {
   "cell_type": "code",
   "execution_count": 10,
   "metadata": {},
   "outputs": [
    {
     "name": "stdout",
     "output_type": "stream",
     "text": [
      "Tests Passed\n"
     ]
    }
   ],
   "source": [
    "def fully_conn(x_tensor, num_outputs):\n",
    "    \"\"\"\n",
    "    Apply a fully connected layer to x_tensor using weight and bias\n",
    "    : x_tensor: A 2-D tensor where the first dimension is batch size.\n",
    "    : num_outputs: The number of output that the new tensor should be.\n",
    "    : return: A 2-D tensor where the second dimension is num_outputs.\n",
    "    \"\"\"\n",
    "    return tf.contrib.layers.fully_connected(x_tensor,\n",
    "                                            num_outputs,\n",
    "                                            weights_initializer=tf.random_normal_initializer(mean=0.0, stddev=0.1),\n",
    "                                            biases_initializer=tf.ones_initializer())\n",
    "\n",
    "\"\"\"\n",
    "DON'T MODIFY ANYTHING IN THIS CELL THAT IS BELOW THIS LINE\n",
    "\"\"\"\n",
    "tests.test_fully_conn(fully_conn)"
   ]
  },
  {
   "cell_type": "markdown",
   "metadata": {},
   "source": [
    "### Output Layer\n",
    "Implement the `output` function to apply a fully connected layer to `x_tensor` with the shape (*Batch Size*, *num_outputs*). Shortcut option: you can use classes from the [TensorFlow Layers](https://www.tensorflow.org/api_docs/python/tf/layers) or [TensorFlow Layers (contrib)](https://www.tensorflow.org/api_guides/python/contrib.layers) packages for this layer. For more of a challenge, only use other TensorFlow packages.\n",
    "\n",
    "**Note:** Activation, softmax, or cross entropy should **not** be applied to this."
   ]
  },
  {
   "cell_type": "code",
   "execution_count": 11,
   "metadata": {},
   "outputs": [
    {
     "name": "stdout",
     "output_type": "stream",
     "text": [
      "Tests Passed\n"
     ]
    }
   ],
   "source": [
    "def output(x_tensor, num_outputs):\n",
    "    \"\"\"\n",
    "    Apply a output layer to x_tensor using weight and bias\n",
    "    : x_tensor: A 2-D tensor where the first dimension is batch size.\n",
    "    : num_outputs: The number of output that the new tensor should be.\n",
    "    : return: A 2-D tensor where the second dimension is num_outputs.\n",
    "    \"\"\"\n",
    "    return tf.contrib.layers.fully_connected(x_tensor,\n",
    "                                            num_outputs,\n",
    "                                            weights_initializer=tf.random_normal_initializer(mean=0.0, stddev=0.01),\n",
    "                                            biases_initializer=tf.zeros_initializer(), activation_fn=None)             \n",
    "\n",
    "\n",
    "\"\"\"\n",
    "DON'T MODIFY ANYTHING IN THIS CELL THAT IS BELOW THIS LINE\n",
    "\"\"\"\n",
    "tests.test_output(output)"
   ]
  },
  {
   "cell_type": "markdown",
   "metadata": {},
   "source": [
    "### Create Convolutional Model\n",
    "Implement the function `conv_net` to create a convolutional neural network model. The function takes in a batch of images, `x`, and outputs logits.  Use the layers you created above to create this model:\n",
    "\n",
    "* Apply 1, 2, or 3 Convolution and Max Pool layers\n",
    "* Apply a Flatten Layer\n",
    "* Apply 1, 2, or 3 Fully Connected Layers\n",
    "* Apply an Output Layer\n",
    "* Return the output\n",
    "* Apply [TensorFlow's Dropout](https://www.tensorflow.org/api_docs/python/tf/nn/dropout) to one or more layers in the model using `keep_prob`. "
   ]
  },
  {
   "cell_type": "code",
   "execution_count": 115,
   "metadata": {},
   "outputs": [
    {
     "name": "stdout",
     "output_type": "stream",
     "text": [
      "Neural Network Built!\n"
     ]
    }
   ],
   "source": [
    "def conv_net(x, keep_prob):\n",
    "    \"\"\"\n",
    "    Create a convolutional neural network model\n",
    "    : x: Placeholder tensor that holds image data.\n",
    "    : keep_prob: Placeholder tensor that hold dropout keep probability.\n",
    "    : return: Tensor that represents logits\n",
    "    \"\"\"\n",
    "    #x_ = tf.cast(x, tf.float32)\n",
    "    # TODO: Apply 1, 2, or 3 Convolution and Max Pool layers\n",
    "    #    Play around with different number of outputs, kernel size and stride\n",
    "    # Function Definition from Above:\n",
    "    #    conv2d_maxpool(x_tensor, conv_num_outputs, conv_ksize, conv_strides, pool_ksize, pool_strides)\n",
    "    \n",
    "    conv1 = conv2d_maxpool(x, 96, (4,4), (3,3), (3,3), (2,2))\n",
    "    conv2 = conv2d_maxpool(conv1, 128, (4,4), (2,2), (3,3), (2,2))\n",
    "    conv3 = conv2d_maxpool(conv2, 196, (2,2), (2,2), (2,2), (2,2))\n",
    "    \n",
    "    # TODO: Apply a Flatten Layer\n",
    "    # Function Definition from Above:\n",
    "    #   flatten(x_tensor)\n",
    "    f1 = flatten(conv3)\n",
    "\n",
    "    # TODO: Apply 1, 2, or 3 Fully Connected Layers\n",
    "    #    Play around with different number of outputs\n",
    "    # Function Definition from Above:\n",
    "    #   fully_conn(x_tensor, num_outputs)\n",
    "    net = fully_conn(f1,400)\n",
    "    drop1 = tf.nn.dropout(net, keep_prob)\n",
    "    net2 = fully_conn(drop1,200)\n",
    "    drop2 = tf.nn.dropout(net2, keep_prob)\n",
    "    net3 = fully_conn(drop2,100)\n",
    "    drop3 = tf.nn.dropout(net3, keep_prob)\n",
    "    \n",
    "    \n",
    "    # TODO: Apply an Output Layer\n",
    "    #    Set this to the number of classes\n",
    "    # Function Definition from Above:\n",
    "    #   output(x_tensor, num_outputs)\n",
    "    return output(drop3,10)\n",
    "\n",
    "\n",
    "\"\"\"\n",
    "DON'T MODIFY ANYTHING IN THIS CELL THAT IS BELOW THIS LINE\n",
    "\"\"\"\n",
    "\n",
    "##############################\n",
    "## Build the Neural Network ##\n",
    "##############################\n",
    "\n",
    "# Remove previous weights, bias, inputs, etc..\n",
    "tf.reset_default_graph()\n",
    "\n",
    "# Inputs\n",
    "x = neural_net_image_input((32, 32, 3))\n",
    "y = neural_net_label_input(10)\n",
    "keep_prob = neural_net_keep_prob_input()\n",
    "\n",
    "# Model\n",
    "logits = conv_net(x, keep_prob)\n",
    "\n",
    "# Name logits Tensor, so that is can be loaded from disk after training\n",
    "logits = tf.identity(logits, name='logits')\n",
    "\n",
    "# Loss and Optimizer\n",
    "cost = tf.reduce_mean(tf.nn.softmax_cross_entropy_with_logits(logits=logits, labels=y))\n",
    "optimizer = tf.train.AdamOptimizer().minimize(cost)\n",
    "\n",
    "# Accuracy\n",
    "correct_pred = tf.equal(tf.argmax(logits, 1), tf.argmax(y, 1))\n",
    "accuracy = tf.reduce_mean(tf.cast(correct_pred, tf.float32), name='accuracy')\n",
    "\n",
    "tests.test_conv_net(conv_net)"
   ]
  },
  {
   "cell_type": "markdown",
   "metadata": {},
   "source": [
    "## Train the Neural Network\n",
    "### Single Optimization\n",
    "Implement the function `train_neural_network` to do a single optimization.  The optimization should use `optimizer` to optimize in `session` with a `feed_dict` of the following:\n",
    "* `x` for image input\n",
    "* `y` for labels\n",
    "* `keep_prob` for keep probability for dropout\n",
    "\n",
    "This function will be called for each batch, so `tf.global_variables_initializer()` has already been called.\n",
    "\n",
    "Note: Nothing needs to be returned. This function is only optimizing the neural network."
   ]
  },
  {
   "cell_type": "code",
   "execution_count": 102,
   "metadata": {},
   "outputs": [
    {
     "name": "stdout",
     "output_type": "stream",
     "text": [
      "Tests Passed\n"
     ]
    }
   ],
   "source": [
    "def train_neural_network(session, optimizer, keep_probability, feature_batch, label_batch):\n",
    "    \"\"\"\n",
    "    Optimize the session on a batch of images and labels\n",
    "    : session: Current TensorFlow session|\n",
    "    : optimizer: TensorFlow optimizer function\n",
    "    : keep_probability: keep probability\n",
    "    : feature_batch: Batch of Numpy image data\n",
    "    : label_batch: Batch of Numpy label data\n",
    "    \"\"\"\n",
    "    # Just the side-effect\n",
    "    session.run(optimizer, feed_dict={x:feature_batch, y:label_batch, keep_prob:keep_probability})\n",
    "\n",
    "\n",
    "\"\"\"\n",
    "DON'T MODIFY ANYTHING IN THIS CELL THAT IS BELOW THIS LINE\n",
    "\"\"\"\n",
    "tests.test_train_nn(train_neural_network)"
   ]
  },
  {
   "cell_type": "markdown",
   "metadata": {},
   "source": [
    "### Show Stats\n",
    "Implement the function `print_stats` to print loss and validation accuracy.  Use the global variables `valid_features` and `valid_labels` to calculate validation accuracy.  Use a keep probability of `1.0` to calculate the loss and validation accuracy."
   ]
  },
  {
   "cell_type": "code",
   "execution_count": 14,
   "metadata": {
    "collapsed": true
   },
   "outputs": [],
   "source": [
    "def print_stats(session, feature_batch, label_batch, cost, accuracy):\n",
    "    \"\"\"\n",
    "    Print information about loss and validation accuracy\n",
    "    : session: Current TensorFlow session\n",
    "    : feature_batch: Batch of Numpy image data\n",
    "    : label_batch: Batch of Numpy label data\n",
    "    : cost: TensorFlow cost function\n",
    "    : accuracy: TensorFlow accuracy function\n",
    "    \"\"\"\n",
    "    # TODO: Implement Function\n",
    "    loss = session.run(cost, feed_dict={x: feature_batch, y:label_batch, keep_prob:1.0})\n",
    "    valid_acc = session.run(accuracy, feed_dict={x:feature_batch, y:label_batch, keep_prob:1.0})\n",
    "    print(\"Current loss: {0}, validation accuracy: {1}\".format(loss, valid_acc))"
   ]
  },
  {
   "cell_type": "markdown",
   "metadata": {},
   "source": [
    "### Hyperparameters\n",
    "Tune the following parameters:\n",
    "* Set `epochs` to the number of iterations until the network stops learning or start overfitting\n",
    "* Set `batch_size` to the highest number that your machine has memory for.  Most people set them to common sizes of memory:\n",
    " * 64\n",
    " * 128\n",
    " * 256\n",
    " * ...\n",
    "* Set `keep_probability` to the probability of keeping a node using dropout"
   ]
  },
  {
   "cell_type": "code",
   "execution_count": 119,
   "metadata": {
    "collapsed": true
   },
   "outputs": [],
   "source": [
    "# TODO: Tune Parameters\n",
    "epochs = 50\n",
    "batch_size = 256\n",
    "keep_probability = 0.7"
   ]
  },
  {
   "cell_type": "markdown",
   "metadata": {},
   "source": [
    "### Train on a Single CIFAR-10 Batch\n",
    "Instead of training the neural network on all the CIFAR-10 batches of data, let's use a single batch. This should save time while you iterate on the model to get a better accuracy.  Once the final validation accuracy is 50% or greater, run the model on all the data in the next section."
   ]
  },
  {
   "cell_type": "code",
   "execution_count": 104,
   "metadata": {},
   "outputs": [
    {
     "name": "stdout",
     "output_type": "stream",
     "text": [
      "Checking the Training on a Single Batch...\n",
      "Epoch  1, CIFAR-10 Batch 1:  Current loss: 2.2440223693847656, validation accuracy: 0.17500001192092896\n",
      "Epoch  2, CIFAR-10 Batch 1:  Current loss: 2.1942543983459473, validation accuracy: 0.17500001192092896\n",
      "Epoch  3, CIFAR-10 Batch 1:  Current loss: 2.188596248626709, validation accuracy: 0.15000000596046448\n",
      "Epoch  4, CIFAR-10 Batch 1:  Current loss: 2.1446967124938965, validation accuracy: 0.17500001192092896\n",
      "Epoch  5, CIFAR-10 Batch 1:  Current loss: 2.0946617126464844, validation accuracy: 0.17500001192092896\n",
      "Epoch  6, CIFAR-10 Batch 1:  Current loss: 1.9742026329040527, validation accuracy: 0.30000001192092896\n",
      "Epoch  7, CIFAR-10 Batch 1:  Current loss: 1.9093308448791504, validation accuracy: 0.32500001788139343\n",
      "Epoch  8, CIFAR-10 Batch 1:  Current loss: 1.8471393585205078, validation accuracy: 0.375\n",
      "Epoch  9, CIFAR-10 Batch 1:  Current loss: 1.7846184968948364, validation accuracy: 0.42500001192092896\n",
      "Epoch 10, CIFAR-10 Batch 1:  Current loss: 1.6458792686462402, validation accuracy: 0.40000003576278687\n",
      "Epoch 11, CIFAR-10 Batch 1:  Current loss: 1.5953924655914307, validation accuracy: 0.44999998807907104\n",
      "Epoch 12, CIFAR-10 Batch 1:  Current loss: 1.6321300268173218, validation accuracy: 0.44999998807907104\n",
      "Epoch 13, CIFAR-10 Batch 1:  Current loss: 1.502811074256897, validation accuracy: 0.42499998211860657\n",
      "Epoch 14, CIFAR-10 Batch 1:  Current loss: 1.5185683965682983, validation accuracy: 0.44999998807907104\n",
      "Epoch 15, CIFAR-10 Batch 1:  Current loss: 1.513875961303711, validation accuracy: 0.5\n"
     ]
    }
   ],
   "source": [
    "\"\"\"\n",
    "DON'T MODIFY ANYTHING IN THIS CELL\n",
    "\"\"\"\n",
    "print('Checking the Training on a Single Batch...')\n",
    "with tf.Session() as sess:\n",
    "    # Initializing the variables\n",
    "    sess.run(tf.global_variables_initializer())\n",
    "    \n",
    "    # Training cycle\n",
    "    for epoch in range(epochs):\n",
    "        batch_i = 1\n",
    "        for batch_features, batch_labels in helper.load_preprocess_training_batch(batch_i, batch_size):\n",
    "            train_neural_network(sess, optimizer, keep_probability, batch_features, batch_labels)\n",
    "        print('Epoch {:>2}, CIFAR-10 Batch {}:  '.format(epoch + 1, batch_i), end='')\n",
    "        print_stats(sess, batch_features, batch_labels, cost, accuracy)"
   ]
  },
  {
   "cell_type": "markdown",
   "metadata": {},
   "source": [
    "### Fully Train the Model\n",
    "Now that you got a good accuracy with a single CIFAR-10 batch, try it with all five batches."
   ]
  },
  {
   "cell_type": "code",
   "execution_count": 120,
   "metadata": {},
   "outputs": [
    {
     "name": "stdout",
     "output_type": "stream",
     "text": [
      "Training...\n",
      "Epoch  1, CIFAR-10 Batch 1:  Current loss: 2.1772727966308594, validation accuracy: 0.2750000059604645\n",
      "Epoch  1, CIFAR-10 Batch 2:  Current loss: 2.122558832168579, validation accuracy: 0.25\n",
      "Epoch  1, CIFAR-10 Batch 3:  Current loss: 1.8735913038253784, validation accuracy: 0.10000000149011612\n",
      "Epoch  1, CIFAR-10 Batch 4:  Current loss: 2.0842020511627197, validation accuracy: 0.10000000149011612\n",
      "Epoch  1, CIFAR-10 Batch 5:  Current loss: 2.0535736083984375, validation accuracy: 0.22500000894069672\n",
      "Epoch  2, CIFAR-10 Batch 1:  Current loss: 2.164410352706909, validation accuracy: 0.22500000894069672\n",
      "Epoch  2, CIFAR-10 Batch 2:  Current loss: 1.89682936668396, validation accuracy: 0.32500001788139343\n",
      "Epoch  2, CIFAR-10 Batch 3:  Current loss: 1.7446670532226562, validation accuracy: 0.22499999403953552\n",
      "Epoch  2, CIFAR-10 Batch 4:  Current loss: 1.7782316207885742, validation accuracy: 0.32500001788139343\n",
      "Epoch  2, CIFAR-10 Batch 5:  Current loss: 1.7318180799484253, validation accuracy: 0.42500001192092896\n",
      "Epoch  3, CIFAR-10 Batch 1:  Current loss: 2.0424978733062744, validation accuracy: 0.22500000894069672\n",
      "Epoch  3, CIFAR-10 Batch 2:  Current loss: 1.839585781097412, validation accuracy: 0.32500001788139343\n",
      "Epoch  3, CIFAR-10 Batch 3:  Current loss: 1.4872512817382812, validation accuracy: 0.42499998211860657\n",
      "Epoch  3, CIFAR-10 Batch 4:  Current loss: 1.5938738584518433, validation accuracy: 0.32500001788139343\n",
      "Epoch  3, CIFAR-10 Batch 5:  Current loss: 1.642188310623169, validation accuracy: 0.4750000238418579\n",
      "Epoch  4, CIFAR-10 Batch 1:  Current loss: 1.8876359462738037, validation accuracy: 0.375\n",
      "Epoch  4, CIFAR-10 Batch 2:  Current loss: 1.6209584474563599, validation accuracy: 0.4500000476837158\n",
      "Epoch  4, CIFAR-10 Batch 3:  Current loss: 1.381742238998413, validation accuracy: 0.4749999940395355\n",
      "Epoch  4, CIFAR-10 Batch 4:  Current loss: 1.4942209720611572, validation accuracy: 0.3500000238418579\n",
      "Epoch  4, CIFAR-10 Batch 5:  Current loss: 1.5911455154418945, validation accuracy: 0.5\n",
      "Epoch  5, CIFAR-10 Batch 1:  Current loss: 1.6342089176177979, validation accuracy: 0.5\n",
      "Epoch  5, CIFAR-10 Batch 2:  Current loss: 1.4797438383102417, validation accuracy: 0.5249999761581421\n",
      "Epoch  5, CIFAR-10 Batch 3:  Current loss: 1.2048064470291138, validation accuracy: 0.6000000238418579\n",
      "Epoch  5, CIFAR-10 Batch 4:  Current loss: 1.3867542743682861, validation accuracy: 0.3999999761581421\n",
      "Epoch  5, CIFAR-10 Batch 5:  Current loss: 1.4665207862854004, validation accuracy: 0.4750000238418579\n",
      "Epoch  6, CIFAR-10 Batch 1:  Current loss: 1.4692907333374023, validation accuracy: 0.6000000238418579\n",
      "Epoch  6, CIFAR-10 Batch 2:  Current loss: 1.4043207168579102, validation accuracy: 0.5\n",
      "Epoch  6, CIFAR-10 Batch 3:  Current loss: 1.1104165315628052, validation accuracy: 0.625\n",
      "Epoch  6, CIFAR-10 Batch 4:  Current loss: 1.2472259998321533, validation accuracy: 0.550000011920929\n",
      "Epoch  6, CIFAR-10 Batch 5:  Current loss: 1.3990153074264526, validation accuracy: 0.5249999761581421\n",
      "Epoch  7, CIFAR-10 Batch 1:  Current loss: 1.2883555889129639, validation accuracy: 0.550000011920929\n",
      "Epoch  7, CIFAR-10 Batch 2:  Current loss: 1.261030673980713, validation accuracy: 0.625\n",
      "Epoch  7, CIFAR-10 Batch 3:  Current loss: 0.9963073134422302, validation accuracy: 0.625\n",
      "Epoch  7, CIFAR-10 Batch 4:  Current loss: 1.164745569229126, validation accuracy: 0.5750000476837158\n",
      "Epoch  7, CIFAR-10 Batch 5:  Current loss: 1.343277931213379, validation accuracy: 0.550000011920929\n",
      "Epoch  8, CIFAR-10 Batch 1:  Current loss: 1.2813951969146729, validation accuracy: 0.550000011920929\n",
      "Epoch  8, CIFAR-10 Batch 2:  Current loss: 1.1213911771774292, validation accuracy: 0.625\n",
      "Epoch  8, CIFAR-10 Batch 3:  Current loss: 0.9136406779289246, validation accuracy: 0.675000011920929\n",
      "Epoch  8, CIFAR-10 Batch 4:  Current loss: 1.1100572347640991, validation accuracy: 0.625\n",
      "Epoch  8, CIFAR-10 Batch 5:  Current loss: 1.2769354581832886, validation accuracy: 0.574999988079071\n",
      "Epoch  9, CIFAR-10 Batch 1:  Current loss: 1.1925485134124756, validation accuracy: 0.6499999761581421\n",
      "Epoch  9, CIFAR-10 Batch 2:  Current loss: 1.1191965341567993, validation accuracy: 0.6000000238418579\n",
      "Epoch  9, CIFAR-10 Batch 3:  Current loss: 0.8912250995635986, validation accuracy: 0.7250000238418579\n",
      "Epoch  9, CIFAR-10 Batch 4:  Current loss: 1.0990359783172607, validation accuracy: 0.7250000238418579\n",
      "Epoch  9, CIFAR-10 Batch 5:  Current loss: 1.2083932161331177, validation accuracy: 0.550000011920929\n",
      "Epoch 10, CIFAR-10 Batch 1:  Current loss: 1.1784656047821045, validation accuracy: 0.625\n",
      "Epoch 10, CIFAR-10 Batch 2:  Current loss: 1.0071790218353271, validation accuracy: 0.6500000357627869\n",
      "Epoch 10, CIFAR-10 Batch 3:  Current loss: 0.7658747434616089, validation accuracy: 0.7000000476837158\n",
      "Epoch 10, CIFAR-10 Batch 4:  Current loss: 1.0244719982147217, validation accuracy: 0.7000000476837158\n",
      "Epoch 10, CIFAR-10 Batch 5:  Current loss: 1.1934386491775513, validation accuracy: 0.574999988079071\n",
      "Epoch 11, CIFAR-10 Batch 1:  Current loss: 1.1195118427276611, validation accuracy: 0.550000011920929\n",
      "Epoch 11, CIFAR-10 Batch 2:  Current loss: 0.9644216895103455, validation accuracy: 0.6750000715255737\n",
      "Epoch 11, CIFAR-10 Batch 3:  Current loss: 0.8356478214263916, validation accuracy: 0.7250000238418579\n",
      "Epoch 11, CIFAR-10 Batch 4:  Current loss: 1.0371973514556885, validation accuracy: 0.6500000357627869\n",
      "Epoch 11, CIFAR-10 Batch 5:  Current loss: 1.0863139629364014, validation accuracy: 0.6750000715255737\n",
      "Epoch 12, CIFAR-10 Batch 1:  Current loss: 1.0587095022201538, validation accuracy: 0.625\n",
      "Epoch 12, CIFAR-10 Batch 2:  Current loss: 0.8381706476211548, validation accuracy: 0.7250000238418579\n",
      "Epoch 12, CIFAR-10 Batch 3:  Current loss: 0.6857505440711975, validation accuracy: 0.75\n",
      "Epoch 12, CIFAR-10 Batch 4:  Current loss: 0.9823792576789856, validation accuracy: 0.675000011920929\n",
      "Epoch 12, CIFAR-10 Batch 5:  Current loss: 1.0935468673706055, validation accuracy: 0.6499999761581421\n",
      "Epoch 13, CIFAR-10 Batch 1:  Current loss: 1.0927704572677612, validation accuracy: 0.7000000476837158\n",
      "Epoch 13, CIFAR-10 Batch 2:  Current loss: 0.8130648732185364, validation accuracy: 0.7750000357627869\n",
      "Epoch 13, CIFAR-10 Batch 3:  Current loss: 0.6917873024940491, validation accuracy: 0.7749999761581421\n",
      "Epoch 13, CIFAR-10 Batch 4:  Current loss: 0.9138344526290894, validation accuracy: 0.7250000238418579\n",
      "Epoch 13, CIFAR-10 Batch 5:  Current loss: 0.9855413436889648, validation accuracy: 0.6500000357627869\n",
      "Epoch 14, CIFAR-10 Batch 1:  Current loss: 1.0155832767486572, validation accuracy: 0.6000000238418579\n",
      "Epoch 14, CIFAR-10 Batch 2:  Current loss: 0.8042589426040649, validation accuracy: 0.8000000715255737\n",
      "Epoch 14, CIFAR-10 Batch 3:  Current loss: 0.6646357774734497, validation accuracy: 0.8250000476837158\n",
      "Epoch 14, CIFAR-10 Batch 4:  Current loss: 0.821808934211731, validation accuracy: 0.75\n",
      "Epoch 14, CIFAR-10 Batch 5:  Current loss: 0.8943523168563843, validation accuracy: 0.7250000238418579\n",
      "Epoch 15, CIFAR-10 Batch 1:  Current loss: 0.9941661357879639, validation accuracy: 0.7000000476837158\n",
      "Epoch 15, CIFAR-10 Batch 2:  Current loss: 0.7902957797050476, validation accuracy: 0.8000000715255737\n",
      "Epoch 15, CIFAR-10 Batch 3:  Current loss: 0.6519086360931396, validation accuracy: 0.800000011920929\n",
      "Epoch 15, CIFAR-10 Batch 4:  Current loss: 0.7997607588768005, validation accuracy: 0.7250000238418579\n",
      "Epoch 15, CIFAR-10 Batch 5:  Current loss: 0.8680504560470581, validation accuracy: 0.7999999523162842\n",
      "Epoch 16, CIFAR-10 Batch 1:  Current loss: 0.9238036870956421, validation accuracy: 0.6499999761581421\n",
      "Epoch 16, CIFAR-10 Batch 2:  Current loss: 0.7572058439254761, validation accuracy: 0.7750000357627869\n",
      "Epoch 16, CIFAR-10 Batch 3:  Current loss: 0.6071895360946655, validation accuracy: 0.875\n",
      "Epoch 16, CIFAR-10 Batch 4:  Current loss: 0.7393127679824829, validation accuracy: 0.800000011920929\n",
      "Epoch 16, CIFAR-10 Batch 5:  Current loss: 0.7766867280006409, validation accuracy: 0.8250000476837158\n",
      "Epoch 17, CIFAR-10 Batch 1:  Current loss: 0.9681971669197083, validation accuracy: 0.675000011920929\n",
      "Epoch 17, CIFAR-10 Batch 2:  Current loss: 0.6968813538551331, validation accuracy: 0.75\n"
     ]
    },
    {
     "name": "stdout",
     "output_type": "stream",
     "text": [
      "Epoch 17, CIFAR-10 Batch 3:  Current loss: 0.5935016870498657, validation accuracy: 0.8750000596046448\n",
      "Epoch 17, CIFAR-10 Batch 4:  Current loss: 0.679911196231842, validation accuracy: 0.7749999761581421\n",
      "Epoch 17, CIFAR-10 Batch 5:  Current loss: 0.6905457973480225, validation accuracy: 0.800000011920929\n",
      "Epoch 18, CIFAR-10 Batch 1:  Current loss: 0.8112942576408386, validation accuracy: 0.75\n",
      "Epoch 18, CIFAR-10 Batch 2:  Current loss: 0.6348574161529541, validation accuracy: 0.8000000715255737\n",
      "Epoch 18, CIFAR-10 Batch 3:  Current loss: 0.5616515278816223, validation accuracy: 0.8000000715255737\n",
      "Epoch 18, CIFAR-10 Batch 4:  Current loss: 0.681004524230957, validation accuracy: 0.8250000476837158\n",
      "Epoch 18, CIFAR-10 Batch 5:  Current loss: 0.6767305135726929, validation accuracy: 0.800000011920929\n",
      "Epoch 19, CIFAR-10 Batch 1:  Current loss: 0.7359251976013184, validation accuracy: 0.75\n",
      "Epoch 19, CIFAR-10 Batch 2:  Current loss: 0.5650551319122314, validation accuracy: 0.8500000238418579\n",
      "Epoch 19, CIFAR-10 Batch 3:  Current loss: 0.5528469085693359, validation accuracy: 0.8500000238418579\n",
      "Epoch 19, CIFAR-10 Batch 4:  Current loss: 0.6918944716453552, validation accuracy: 0.800000011920929\n",
      "Epoch 19, CIFAR-10 Batch 5:  Current loss: 0.7427550554275513, validation accuracy: 0.7999999523162842\n",
      "Epoch 20, CIFAR-10 Batch 1:  Current loss: 0.6990478038787842, validation accuracy: 0.7250000238418579\n",
      "Epoch 20, CIFAR-10 Batch 2:  Current loss: 0.6599668264389038, validation accuracy: 0.8500000238418579\n",
      "Epoch 20, CIFAR-10 Batch 3:  Current loss: 0.5662627816200256, validation accuracy: 0.8500000238418579\n",
      "Epoch 20, CIFAR-10 Batch 4:  Current loss: 0.6552448272705078, validation accuracy: 0.800000011920929\n",
      "Epoch 20, CIFAR-10 Batch 5:  Current loss: 0.7043570280075073, validation accuracy: 0.8000000715255737\n",
      "Epoch 21, CIFAR-10 Batch 1:  Current loss: 0.6997271776199341, validation accuracy: 0.7750000357627869\n",
      "Epoch 21, CIFAR-10 Batch 2:  Current loss: 0.5849023461341858, validation accuracy: 0.8250000476837158\n",
      "Epoch 21, CIFAR-10 Batch 3:  Current loss: 0.5010690689086914, validation accuracy: 0.8250000476837158\n",
      "Epoch 21, CIFAR-10 Batch 4:  Current loss: 0.6551632285118103, validation accuracy: 0.7999999523162842\n",
      "Epoch 21, CIFAR-10 Batch 5:  Current loss: 0.6044817566871643, validation accuracy: 0.8500000834465027\n",
      "Epoch 22, CIFAR-10 Batch 1:  Current loss: 0.6576390266418457, validation accuracy: 0.8250000476837158\n",
      "Epoch 22, CIFAR-10 Batch 2:  Current loss: 0.5976454019546509, validation accuracy: 0.8500000238418579\n",
      "Epoch 22, CIFAR-10 Batch 3:  Current loss: 0.5042957067489624, validation accuracy: 0.8250000476837158\n",
      "Epoch 22, CIFAR-10 Batch 4:  Current loss: 0.5694003105163574, validation accuracy: 0.8250000476837158\n",
      "Epoch 22, CIFAR-10 Batch 5:  Current loss: 0.5555679798126221, validation accuracy: 0.8750000596046448\n",
      "Epoch 23, CIFAR-10 Batch 1:  Current loss: 0.5656877756118774, validation accuracy: 0.8250000476837158\n",
      "Epoch 23, CIFAR-10 Batch 2:  Current loss: 0.49863696098327637, validation accuracy: 0.875\n",
      "Epoch 23, CIFAR-10 Batch 3:  Current loss: 0.45287176966667175, validation accuracy: 0.8750000596046448\n",
      "Epoch 23, CIFAR-10 Batch 4:  Current loss: 0.5618624091148376, validation accuracy: 0.875\n",
      "Epoch 23, CIFAR-10 Batch 5:  Current loss: 0.53534996509552, validation accuracy: 0.800000011920929\n",
      "Epoch 24, CIFAR-10 Batch 1:  Current loss: 0.5497661232948303, validation accuracy: 0.8500000238418579\n",
      "Epoch 24, CIFAR-10 Batch 2:  Current loss: 0.5204216241836548, validation accuracy: 0.8500000238418579\n",
      "Epoch 24, CIFAR-10 Batch 3:  Current loss: 0.43844878673553467, validation accuracy: 0.8500000238418579\n",
      "Epoch 24, CIFAR-10 Batch 4:  Current loss: 0.5164552330970764, validation accuracy: 0.875\n",
      "Epoch 24, CIFAR-10 Batch 5:  Current loss: 0.5069782733917236, validation accuracy: 0.8500000238418579\n",
      "Epoch 25, CIFAR-10 Batch 1:  Current loss: 0.5382090210914612, validation accuracy: 0.8250000476837158\n",
      "Epoch 25, CIFAR-10 Batch 2:  Current loss: 0.507704496383667, validation accuracy: 0.8500000238418579\n",
      "Epoch 25, CIFAR-10 Batch 3:  Current loss: 0.4376009404659271, validation accuracy: 0.875\n",
      "Epoch 25, CIFAR-10 Batch 4:  Current loss: 0.5165384411811829, validation accuracy: 0.8250000476837158\n",
      "Epoch 25, CIFAR-10 Batch 5:  Current loss: 0.4951910376548767, validation accuracy: 0.8750000596046448\n",
      "Epoch 26, CIFAR-10 Batch 1:  Current loss: 0.537680983543396, validation accuracy: 0.8250000476837158\n",
      "Epoch 26, CIFAR-10 Batch 2:  Current loss: 0.47063255310058594, validation accuracy: 0.875\n",
      "Epoch 26, CIFAR-10 Batch 3:  Current loss: 0.39228320121765137, validation accuracy: 0.925000011920929\n",
      "Epoch 26, CIFAR-10 Batch 4:  Current loss: 0.44766896963119507, validation accuracy: 0.8999999761581421\n",
      "Epoch 26, CIFAR-10 Batch 5:  Current loss: 0.5197535157203674, validation accuracy: 0.8750000596046448\n",
      "Epoch 27, CIFAR-10 Batch 1:  Current loss: 0.5373226404190063, validation accuracy: 0.7750000357627869\n",
      "Epoch 27, CIFAR-10 Batch 2:  Current loss: 0.47776323556900024, validation accuracy: 0.875\n",
      "Epoch 27, CIFAR-10 Batch 3:  Current loss: 0.3776748478412628, validation accuracy: 0.925000011920929\n",
      "Epoch 27, CIFAR-10 Batch 4:  Current loss: 0.447773814201355, validation accuracy: 0.8750000596046448\n",
      "Epoch 27, CIFAR-10 Batch 5:  Current loss: 0.4826551675796509, validation accuracy: 0.8750000596046448\n",
      "Epoch 28, CIFAR-10 Batch 1:  Current loss: 0.483514666557312, validation accuracy: 0.8250000476837158\n",
      "Epoch 28, CIFAR-10 Batch 2:  Current loss: 0.4787522852420807, validation accuracy: 0.875\n",
      "Epoch 28, CIFAR-10 Batch 3:  Current loss: 0.3738778233528137, validation accuracy: 0.925000011920929\n",
      "Epoch 28, CIFAR-10 Batch 4:  Current loss: 0.472686767578125, validation accuracy: 0.925000011920929\n",
      "Epoch 28, CIFAR-10 Batch 5:  Current loss: 0.47795239090919495, validation accuracy: 0.8750000596046448\n",
      "Epoch 29, CIFAR-10 Batch 1:  Current loss: 0.4497104585170746, validation accuracy: 0.875\n",
      "Epoch 29, CIFAR-10 Batch 2:  Current loss: 0.4668150544166565, validation accuracy: 0.8999999761581421\n",
      "Epoch 29, CIFAR-10 Batch 3:  Current loss: 0.3867102861404419, validation accuracy: 0.925000011920929\n",
      "Epoch 29, CIFAR-10 Batch 4:  Current loss: 0.45580679178237915, validation accuracy: 0.875\n",
      "Epoch 29, CIFAR-10 Batch 5:  Current loss: 0.4550372064113617, validation accuracy: 0.8750000596046448\n",
      "Epoch 30, CIFAR-10 Batch 1:  Current loss: 0.4234194755554199, validation accuracy: 0.925000011920929\n",
      "Epoch 30, CIFAR-10 Batch 2:  Current loss: 0.48633694648742676, validation accuracy: 0.8999999761581421\n",
      "Epoch 30, CIFAR-10 Batch 3:  Current loss: 0.34484124183654785, validation accuracy: 0.8999999761581421\n",
      "Epoch 30, CIFAR-10 Batch 4:  Current loss: 0.3995072841644287, validation accuracy: 0.9000000357627869\n",
      "Epoch 30, CIFAR-10 Batch 5:  Current loss: 0.45146414637565613, validation accuracy: 0.875\n",
      "Epoch 31, CIFAR-10 Batch 1:  Current loss: 0.43480512499809265, validation accuracy: 0.875\n",
      "Epoch 31, CIFAR-10 Batch 2:  Current loss: 0.4285631775856018, validation accuracy: 0.925000011920929\n",
      "Epoch 31, CIFAR-10 Batch 3:  Current loss: 0.34346523880958557, validation accuracy: 0.9000000357627869\n",
      "Epoch 31, CIFAR-10 Batch 4:  Current loss: 0.39577609300613403, validation accuracy: 0.8999999761581421\n",
      "Epoch 31, CIFAR-10 Batch 5:  Current loss: 0.41046708822250366, validation accuracy: 0.9000000357627869\n",
      "Epoch 32, CIFAR-10 Batch 1:  Current loss: 0.4510824680328369, validation accuracy: 0.8999999761581421\n",
      "Epoch 32, CIFAR-10 Batch 2:  Current loss: 0.482383668422699, validation accuracy: 0.9000000357627869\n",
      "Epoch 32, CIFAR-10 Batch 3:  Current loss: 0.31792253255844116, validation accuracy: 0.875\n",
      "Epoch 32, CIFAR-10 Batch 4:  Current loss: 0.38227206468582153, validation accuracy: 0.8999999761581421\n",
      "Epoch 32, CIFAR-10 Batch 5:  Current loss: 0.4646624028682709, validation accuracy: 0.9000000357627869\n",
      "Epoch 33, CIFAR-10 Batch 1:  Current loss: 0.4448733925819397, validation accuracy: 0.9000000357627869\n",
      "Epoch 33, CIFAR-10 Batch 2:  Current loss: 0.46194806694984436, validation accuracy: 0.925000011920929\n",
      "Epoch 33, CIFAR-10 Batch 3:  Current loss: 0.33236104249954224, validation accuracy: 0.8999999761581421\n",
      "Epoch 33, CIFAR-10 Batch 4:  Current loss: 0.3333032727241516, validation accuracy: 0.8999999761581421\n"
     ]
    },
    {
     "name": "stdout",
     "output_type": "stream",
     "text": [
      "Epoch 33, CIFAR-10 Batch 5:  Current loss: 0.33410191535949707, validation accuracy: 0.949999988079071\n",
      "Epoch 34, CIFAR-10 Batch 1:  Current loss: 0.3550868332386017, validation accuracy: 0.9749999642372131\n",
      "Epoch 34, CIFAR-10 Batch 2:  Current loss: 0.45228999853134155, validation accuracy: 0.9000000357627869\n",
      "Epoch 34, CIFAR-10 Batch 3:  Current loss: 0.31451594829559326, validation accuracy: 0.9249999523162842\n",
      "Epoch 34, CIFAR-10 Batch 4:  Current loss: 0.36524152755737305, validation accuracy: 0.9249999523162842\n",
      "Epoch 34, CIFAR-10 Batch 5:  Current loss: 0.41201886534690857, validation accuracy: 0.8500000238418579\n",
      "Epoch 35, CIFAR-10 Batch 1:  Current loss: 0.40377700328826904, validation accuracy: 0.875\n",
      "Epoch 35, CIFAR-10 Batch 2:  Current loss: 0.4454783797264099, validation accuracy: 0.875\n",
      "Epoch 35, CIFAR-10 Batch 3:  Current loss: 0.2783423662185669, validation accuracy: 0.9249999523162842\n",
      "Epoch 35, CIFAR-10 Batch 4:  Current loss: 0.3408815860748291, validation accuracy: 0.8999999761581421\n",
      "Epoch 35, CIFAR-10 Batch 5:  Current loss: 0.39435768127441406, validation accuracy: 0.8500000834465027\n",
      "Epoch 36, CIFAR-10 Batch 1:  Current loss: 0.40584659576416016, validation accuracy: 0.925000011920929\n",
      "Epoch 36, CIFAR-10 Batch 2:  Current loss: 0.4325536787509918, validation accuracy: 0.925000011920929\n",
      "Epoch 36, CIFAR-10 Batch 3:  Current loss: 0.27288565039634705, validation accuracy: 0.9749999642372131\n",
      "Epoch 36, CIFAR-10 Batch 4:  Current loss: 0.3009544014930725, validation accuracy: 0.8999999761581421\n",
      "Epoch 36, CIFAR-10 Batch 5:  Current loss: 0.3434027433395386, validation accuracy: 0.8999999761581421\n",
      "Epoch 37, CIFAR-10 Batch 1:  Current loss: 0.34311988949775696, validation accuracy: 0.9000000357627869\n",
      "Epoch 37, CIFAR-10 Batch 2:  Current loss: 0.3604903519153595, validation accuracy: 0.949999988079071\n",
      "Epoch 37, CIFAR-10 Batch 3:  Current loss: 0.2798246443271637, validation accuracy: 0.9000000357627869\n",
      "Epoch 37, CIFAR-10 Batch 4:  Current loss: 0.3258870244026184, validation accuracy: 0.925000011920929\n",
      "Epoch 37, CIFAR-10 Batch 5:  Current loss: 0.32283708453178406, validation accuracy: 0.925000011920929\n",
      "Epoch 38, CIFAR-10 Batch 1:  Current loss: 0.33034640550613403, validation accuracy: 0.9750000238418579\n",
      "Epoch 38, CIFAR-10 Batch 2:  Current loss: 0.32007861137390137, validation accuracy: 0.925000011920929\n",
      "Epoch 38, CIFAR-10 Batch 3:  Current loss: 0.2469862550497055, validation accuracy: 0.925000011920929\n",
      "Epoch 38, CIFAR-10 Batch 4:  Current loss: 0.33877965807914734, validation accuracy: 0.949999988079071\n",
      "Epoch 38, CIFAR-10 Batch 5:  Current loss: 0.2852553725242615, validation accuracy: 0.9000000357627869\n",
      "Epoch 39, CIFAR-10 Batch 1:  Current loss: 0.3291053771972656, validation accuracy: 0.925000011920929\n",
      "Epoch 39, CIFAR-10 Batch 2:  Current loss: 0.31735852360725403, validation accuracy: 0.925000011920929\n",
      "Epoch 39, CIFAR-10 Batch 3:  Current loss: 0.2847099304199219, validation accuracy: 0.9750000238418579\n",
      "Epoch 39, CIFAR-10 Batch 4:  Current loss: 0.3135955035686493, validation accuracy: 0.8999999761581421\n",
      "Epoch 39, CIFAR-10 Batch 5:  Current loss: 0.39640697836875916, validation accuracy: 0.8999999761581421\n",
      "Epoch 40, CIFAR-10 Batch 1:  Current loss: 0.3153539299964905, validation accuracy: 0.925000011920929\n",
      "Epoch 40, CIFAR-10 Batch 2:  Current loss: 0.3305290639400482, validation accuracy: 0.9749999642372131\n",
      "Epoch 40, CIFAR-10 Batch 3:  Current loss: 0.23991656303405762, validation accuracy: 0.9750000238418579\n",
      "Epoch 40, CIFAR-10 Batch 4:  Current loss: 0.3345477879047394, validation accuracy: 0.925000011920929\n",
      "Epoch 40, CIFAR-10 Batch 5:  Current loss: 0.3442436158657074, validation accuracy: 0.925000011920929\n",
      "Epoch 41, CIFAR-10 Batch 1:  Current loss: 0.3048448860645294, validation accuracy: 0.9750000238418579\n",
      "Epoch 41, CIFAR-10 Batch 2:  Current loss: 0.28927016258239746, validation accuracy: 0.949999988079071\n",
      "Epoch 41, CIFAR-10 Batch 3:  Current loss: 0.2423630654811859, validation accuracy: 0.9750000238418579\n",
      "Epoch 41, CIFAR-10 Batch 4:  Current loss: 0.3177410662174225, validation accuracy: 0.925000011920929\n",
      "Epoch 41, CIFAR-10 Batch 5:  Current loss: 0.2809668779373169, validation accuracy: 0.925000011920929\n",
      "Epoch 42, CIFAR-10 Batch 1:  Current loss: 0.23936976492404938, validation accuracy: 0.9750000238418579\n",
      "Epoch 42, CIFAR-10 Batch 2:  Current loss: 0.3460671305656433, validation accuracy: 0.925000011920929\n",
      "Epoch 42, CIFAR-10 Batch 3:  Current loss: 0.2464967668056488, validation accuracy: 0.9750000238418579\n",
      "Epoch 42, CIFAR-10 Batch 4:  Current loss: 0.31378883123397827, validation accuracy: 0.9000000357627869\n",
      "Epoch 42, CIFAR-10 Batch 5:  Current loss: 0.2460857331752777, validation accuracy: 0.925000011920929\n",
      "Epoch 43, CIFAR-10 Batch 1:  Current loss: 0.311196506023407, validation accuracy: 0.9750000238418579\n",
      "Epoch 43, CIFAR-10 Batch 2:  Current loss: 0.2616587281227112, validation accuracy: 0.949999988079071\n",
      "Epoch 43, CIFAR-10 Batch 3:  Current loss: 0.21865642070770264, validation accuracy: 0.9750000238418579\n",
      "Epoch 43, CIFAR-10 Batch 4:  Current loss: 0.3238913118839264, validation accuracy: 0.925000011920929\n",
      "Epoch 43, CIFAR-10 Batch 5:  Current loss: 0.24951854348182678, validation accuracy: 0.9749999642372131\n",
      "Epoch 44, CIFAR-10 Batch 1:  Current loss: 0.3498835563659668, validation accuracy: 0.949999988079071\n",
      "Epoch 44, CIFAR-10 Batch 2:  Current loss: 0.2798934578895569, validation accuracy: 0.949999988079071\n",
      "Epoch 44, CIFAR-10 Batch 3:  Current loss: 0.27319517731666565, validation accuracy: 0.9749999642372131\n",
      "Epoch 44, CIFAR-10 Batch 4:  Current loss: 0.3128504157066345, validation accuracy: 0.9000000357627869\n",
      "Epoch 44, CIFAR-10 Batch 5:  Current loss: 0.18656301498413086, validation accuracy: 1.0\n",
      "Epoch 45, CIFAR-10 Batch 1:  Current loss: 0.26704466342926025, validation accuracy: 0.9750000238418579\n",
      "Epoch 45, CIFAR-10 Batch 2:  Current loss: 0.2715926468372345, validation accuracy: 0.949999988079071\n",
      "Epoch 45, CIFAR-10 Batch 3:  Current loss: 0.1767275482416153, validation accuracy: 0.9750000238418579\n",
      "Epoch 45, CIFAR-10 Batch 4:  Current loss: 0.42401760816574097, validation accuracy: 0.9249999523162842\n",
      "Epoch 45, CIFAR-10 Batch 5:  Current loss: 0.22006678581237793, validation accuracy: 0.9749999642372131\n",
      "Epoch 46, CIFAR-10 Batch 1:  Current loss: 0.25763511657714844, validation accuracy: 1.0\n",
      "Epoch 46, CIFAR-10 Batch 2:  Current loss: 0.2633167505264282, validation accuracy: 0.9749999642372131\n",
      "Epoch 46, CIFAR-10 Batch 3:  Current loss: 0.18846890330314636, validation accuracy: 0.9750000238418579\n",
      "Epoch 46, CIFAR-10 Batch 4:  Current loss: 0.39148086309432983, validation accuracy: 0.925000011920929\n",
      "Epoch 46, CIFAR-10 Batch 5:  Current loss: 0.17344938218593597, validation accuracy: 0.949999988079071\n",
      "Epoch 47, CIFAR-10 Batch 1:  Current loss: 0.2844183146953583, validation accuracy: 0.949999988079071\n",
      "Epoch 47, CIFAR-10 Batch 2:  Current loss: 0.29410839080810547, validation accuracy: 0.9749999642372131\n",
      "Epoch 47, CIFAR-10 Batch 3:  Current loss: 0.1717713624238968, validation accuracy: 1.0\n",
      "Epoch 47, CIFAR-10 Batch 4:  Current loss: 0.4047181010246277, validation accuracy: 0.9000000357627869\n",
      "Epoch 47, CIFAR-10 Batch 5:  Current loss: 0.15976761281490326, validation accuracy: 1.0\n",
      "Epoch 48, CIFAR-10 Batch 1:  Current loss: 0.22882212698459625, validation accuracy: 0.9749999642372131\n",
      "Epoch 48, CIFAR-10 Batch 2:  Current loss: 0.2905743718147278, validation accuracy: 0.925000011920929\n",
      "Epoch 48, CIFAR-10 Batch 3:  Current loss: 0.17294646799564362, validation accuracy: 1.0\n",
      "Epoch 48, CIFAR-10 Batch 4:  Current loss: 0.31922394037246704, validation accuracy: 0.925000011920929\n",
      "Epoch 48, CIFAR-10 Batch 5:  Current loss: 0.12458846718072891, validation accuracy: 1.0\n",
      "Epoch 49, CIFAR-10 Batch 1:  Current loss: 0.22294211387634277, validation accuracy: 1.0\n",
      "Epoch 49, CIFAR-10 Batch 2:  Current loss: 0.32666534185409546, validation accuracy: 0.9249999523162842\n",
      "Epoch 49, CIFAR-10 Batch 3:  Current loss: 0.1906680464744568, validation accuracy: 0.9749999642372131\n",
      "Epoch 49, CIFAR-10 Batch 4:  Current loss: 0.3129737973213196, validation accuracy: 0.949999988079071\n",
      "Epoch 49, CIFAR-10 Batch 5:  Current loss: 0.1654057502746582, validation accuracy: 1.0\n"
     ]
    },
    {
     "name": "stdout",
     "output_type": "stream",
     "text": [
      "Epoch 50, CIFAR-10 Batch 1:  Current loss: 0.29018715023994446, validation accuracy: 0.9749999642372131\n",
      "Epoch 50, CIFAR-10 Batch 2:  Current loss: 0.3233923614025116, validation accuracy: 0.8999999761581421\n",
      "Epoch 50, CIFAR-10 Batch 3:  Current loss: 0.2028302103281021, validation accuracy: 1.0\n",
      "Epoch 50, CIFAR-10 Batch 4:  Current loss: 0.33211714029312134, validation accuracy: 0.9000000357627869\n",
      "Epoch 50, CIFAR-10 Batch 5:  Current loss: 0.13226042687892914, validation accuracy: 1.0\n"
     ]
    }
   ],
   "source": [
    "\"\"\"\n",
    "DON'T MODIFY ANYTHING IN THIS CELL\n",
    "\"\"\"\n",
    "save_model_path = './image_classification'\n",
    "\n",
    "print('Training...')\n",
    "with tf.Session() as sess:\n",
    "    # Initializing the variables\n",
    "    sess.run(tf.global_variables_initializer())\n",
    "    \n",
    "    # Training cycle\n",
    "    for epoch in range(epochs):\n",
    "        # Loop over all batches\n",
    "        n_batches = 5\n",
    "        for batch_i in range(1, n_batches + 1):\n",
    "            for batch_features, batch_labels in helper.load_preprocess_training_batch(batch_i, batch_size):\n",
    "                train_neural_network(sess, optimizer, keep_probability, batch_features, batch_labels)\n",
    "            print('Epoch {:>2}, CIFAR-10 Batch {}:  '.format(epoch + 1, batch_i), end='')\n",
    "            print_stats(sess, batch_features, batch_labels, cost, accuracy)\n",
    "            \n",
    "    # Save Model\n",
    "    saver = tf.train.Saver()\n",
    "    save_path = saver.save(sess, save_model_path)"
   ]
  },
  {
   "cell_type": "markdown",
   "metadata": {},
   "source": [
    "# Checkpoint\n",
    "The model has been saved to disk.\n",
    "## Test Model\n",
    "Test your model against the test dataset.  This will be your final accuracy. You should have an accuracy greater than 50%. If you don't, keep tweaking the model architecture and parameters."
   ]
  },
  {
   "cell_type": "code",
   "execution_count": 121,
   "metadata": {},
   "outputs": [
    {
     "name": "stdout",
     "output_type": "stream",
     "text": [
      "Testing Accuracy: 0.51572265625\n",
      "\n"
     ]
    },
    {
     "data": {
      "image/png": "[encoded data removed]",
      "text/plain": [
       "<matplotlib.figure.Figure at 0x7f4d1037e320>"
      ]
     },
     "metadata": {
      "image/png": {
       "height": 319,
       "width": 355
      }
     },
     "output_type": "display_data"
    }
   ],
   "source": [
    "\"\"\"\n",
    "DON'T MODIFY ANYTHING IN THIS CELL\n",
    "\"\"\"\n",
    "%matplotlib inline\n",
    "%config InlineBackend.figure_format = 'retina'\n",
    "\n",
    "import tensorflow as tf\n",
    "import pickle\n",
    "import helper\n",
    "import random\n",
    "\n",
    "# Set batch size if not already set\n",
    "try:\n",
    "    if batch_size:\n",
    "        pass\n",
    "except NameError:\n",
    "    batch_size = 64\n",
    "\n",
    "save_model_path = './image_classification'\n",
    "n_samples = 4\n",
    "top_n_predictions = 3\n",
    "\n",
    "def test_model():\n",
    "    \"\"\"\n",
    "    Test the saved model against the test dataset\n",
    "    \"\"\"\n",
    "\n",
    "    test_features, test_labels = pickle.load(open('preprocess_test.p', mode='rb'))\n",
    "    loaded_graph = tf.Graph()\n",
    "\n",
    "    with tf.Session(graph=loaded_graph) as sess:\n",
    "        # Load model\n",
    "        loader = tf.train.import_meta_graph(save_model_path + '.meta')\n",
    "        loader.restore(sess, save_model_path)\n",
    "\n",
    "        # Get Tensors from loaded model\n",
    "        loaded_x = loaded_graph.get_tensor_by_name('x:0')\n",
    "        loaded_y = loaded_graph.get_tensor_by_name('y:0')\n",
    "        loaded_keep_prob = loaded_graph.get_tensor_by_name('keep_prob:0')\n",
    "        loaded_logits = loaded_graph.get_tensor_by_name('logits:0')\n",
    "        loaded_acc = loaded_graph.get_tensor_by_name('accuracy:0')\n",
    "        \n",
    "        # Get accuracy in batches for memory limitations\n",
    "        test_batch_acc_total = 0\n",
    "        test_batch_count = 0\n",
    "        \n",
    "        for test_feature_batch, test_label_batch in helper.batch_features_labels(test_features, test_labels, batch_size):\n",
    "            test_batch_acc_total += sess.run(\n",
    "                loaded_acc,\n",
    "                feed_dict={loaded_x: test_feature_batch, loaded_y: test_label_batch, loaded_keep_prob: 1.0})\n",
    "            test_batch_count += 1\n",
    "\n",
    "        print('Testing Accuracy: {}\\n'.format(test_batch_acc_total/test_batch_count))\n",
    "\n",
    "        # Print Random Samples\n",
    "        random_test_features, random_test_labels = tuple(zip(*random.sample(list(zip(test_features, test_labels)), n_samples)))\n",
    "        random_test_predictions = sess.run(\n",
    "            tf.nn.top_k(tf.nn.softmax(loaded_logits), top_n_predictions),\n",
    "            feed_dict={loaded_x: random_test_features, loaded_y: random_test_labels, loaded_keep_prob: 1.0})\n",
    "        helper.display_image_predictions(random_test_features, random_test_labels, random_test_predictions)\n",
    "\n",
    "\n",
    "test_model()"
   ]
  },
  {
   "cell_type": "markdown",
   "metadata": {},
   "source": [
    "## Why 50-80% Accuracy?\n",
    "You might be wondering why you can't get an accuracy any higher. First things first, 50% isn't bad for a simple CNN.  Pure guessing would get you 10% accuracy. However, you might notice people are getting scores [well above 80%](http://rodrigob.github.io/are_we_there_yet/build/classification_datasets_results.html#43494641522d3130).  That's because we haven't taught you all there is to know about neural networks. We still need to cover a few more techniques.\n",
    "## Submitting This Project\n",
    "When submitting this project, make sure to run all the cells before saving the notebook.  Save the notebook file as \"dlnd_image_classification.ipynb\" and save it as a HTML file under \"File\" -> \"Download as\".  Include the \"helper.py\" and \"problem_unittests.py\" files in your submission."
   ]
  }
 ],
 "metadata": {
  "kernelspec": {
   "display_name": "Python 3",
   "language": "python",
   "name": "python3"
  },
  "language_info": {
   "codemirror_mode": {
    "name": "ipython",
    "version": 3
   },
   "file_extension": ".py",
   "mimetype": "text/x-python",
   "name": "python",
   "nbconvert_exporter": "python",
   "pygments_lexer": "ipython3",
   "version": "3.6.1"
  }
 },
 "nbformat": 4,
 "nbformat_minor": 1
}
