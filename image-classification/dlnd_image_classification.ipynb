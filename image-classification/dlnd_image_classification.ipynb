{
 "cells": [
  {
   "cell_type": "markdown",
   "metadata": {
    "collapsed": true
   },
   "source": [
    "# Image Classification\n",
    "In this project, you'll classify images from the [CIFAR-10 dataset](https://www.cs.toronto.edu/~kriz/cifar.html).  The dataset consists of airplanes, dogs, cats, and other objects. You'll preprocess the images, then train a convolutional neural network on all the samples. The images need to be normalized and the labels need to be one-hot encoded.  You'll get to apply what you learned and build a convolutional, max pooling, dropout, and fully connected layers.  At the end, you'll get to see your neural network's predictions on the sample images.\n",
    "## Get the Data\n",
    "Run the following cell to download the [CIFAR-10 dataset for python](https://www.cs.toronto.edu/~kriz/cifar-10-python.tar.gz)."
   ]
  },
  {
   "cell_type": "code",
   "execution_count": 1,
   "metadata": {},
   "outputs": [
    {
     "name": "stdout",
     "output_type": "stream",
     "text": [
      "All files found!\n"
     ]
    }
   ],
   "source": [
    "\"\"\"\n",
    "DON'T MODIFY ANYTHING IN THIS CELL THAT IS BELOW THIS LINE\n",
    "\"\"\"\n",
    "from urllib.request import urlretrieve\n",
    "from os.path import isfile, isdir\n",
    "from tqdm import tqdm\n",
    "import problem_unittests as tests\n",
    "import tarfile\n",
    "\n",
    "cifar10_dataset_folder_path = 'cifar-10-batches-py'\n",
    "\n",
    "# Use Floyd's cifar-10 dataset if present\n",
    "floyd_cifar10_location = '/input/cifar-10/python.tar.gz'\n",
    "if isfile(floyd_cifar10_location):\n",
    "    tar_gz_path = floyd_cifar10_location\n",
    "else:\n",
    "    tar_gz_path = 'cifar-10-python.tar.gz'\n",
    "\n",
    "class DLProgress(tqdm):\n",
    "    last_block = 0\n",
    "\n",
    "    def hook(self, block_num=1, block_size=1, total_size=None):\n",
    "        self.total = total_size\n",
    "        self.update((block_num - self.last_block) * block_size)\n",
    "        self.last_block = block_num\n",
    "\n",
    "if not isfile(tar_gz_path):\n",
    "    with DLProgress(unit='B', unit_scale=True, miniters=1, desc='CIFAR-10 Dataset') as pbar:\n",
    "        urlretrieve(\n",
    "            'https://www.cs.toronto.edu/~kriz/cifar-10-python.tar.gz',\n",
    "            tar_gz_path,\n",
    "            pbar.hook)\n",
    "\n",
    "if not isdir(cifar10_dataset_folder_path):\n",
    "    with tarfile.open(tar_gz_path) as tar:\n",
    "        tar.extractall()\n",
    "        tar.close()\n",
    "\n",
    "\n",
    "tests.test_folder_path(cifar10_dataset_folder_path)"
   ]
  },
  {
   "cell_type": "markdown",
   "metadata": {},
   "source": [
    "## Explore the Data\n",
    "The dataset is broken into batches to prevent your machine from running out of memory.  The CIFAR-10 dataset consists of 5 batches, named `data_batch_1`, `data_batch_2`, etc.. Each batch contains the labels and images that are one of the following:\n",
    "* airplane\n",
    "* automobile\n",
    "* bird\n",
    "* cat\n",
    "* deer\n",
    "* dog\n",
    "* frog\n",
    "* horse\n",
    "* ship\n",
    "* truck\n",
    "\n",
    "Understanding a dataset is part of making predictions on the data.  Play around with the code cell below by changing the `batch_id` and `sample_id`. The `batch_id` is the id for a batch (1-5). The `sample_id` is the id for a image and label pair in the batch.\n",
    "\n",
    "Ask yourself \"What are all possible labels?\", \"What is the range of values for the image data?\", \"Are the labels in order or random?\".  Answers to questions like these will help you preprocess the data and end up with better predictions."
   ]
  },
  {
   "cell_type": "code",
   "execution_count": 2,
   "metadata": {},
   "outputs": [
    {
     "name": "stdout",
     "output_type": "stream",
     "text": [
      "\n",
      "Stats of batch 1:\n",
      "Samples: 10000\n",
      "Label Counts: {0: 1005, 1: 974, 2: 1032, 3: 1016, 4: 999, 5: 937, 6: 1030, 7: 1001, 8: 1025, 9: 981}\n",
      "First 20 Labels: [6, 9, 9, 4, 1, 1, 2, 7, 8, 3, 4, 7, 7, 2, 9, 9, 9, 3, 2, 6]\n",
      "\n",
      "Example of Image 5:\n",
      "Image - Min Value: 0 Max Value: 252\n",
      "Image - Shape: (32, 32, 3)\n",
      "Label - Label Id: 1 Name: automobile\n"
     ]
    },
    {
     "data": {
      "image/png": "[encoded data removed]",
      "text/plain": [
       "<matplotlib.figure.Figure at 0x7faa1bd6eac8>"
      ]
     },
     "metadata": {
      "image/png": {
       "height": 250,
       "width": 253
      }
     },
     "output_type": "display_data"
    }
   ],
   "source": [
    "%matplotlib inline\n",
    "%config InlineBackend.figure_format = 'retina'\n",
    "\n",
    "import helper\n",
    "import numpy as np\n",
    "\n",
    "# Explore the dataset\n",
    "batch_id = 1\n",
    "sample_id = 5\n",
    "helper.display_stats(cifar10_dataset_folder_path, batch_id, sample_id)"
   ]
  },
  {
   "cell_type": "markdown",
   "metadata": {},
   "source": [
    "## Implement Preprocess Functions\n",
    "### Normalize\n",
    "In the cell below, implement the `normalize` function to take in image data, `x`, and return it as a normalized Numpy array. The values should be in the range of 0 to 1, inclusive.  The return object should be the same shape as `x`."
   ]
  },
  {
   "cell_type": "code",
   "execution_count": 3,
   "metadata": {},
   "outputs": [
    {
     "name": "stdout",
     "output_type": "stream",
     "text": [
      "Tests Passed\n"
     ]
    }
   ],
   "source": [
    "def normalize(x, range_min=0, range_max=255):\n",
    "    \"\"\"\n",
    "    Normalize a list of sample image data in the range of 0 to 1\n",
    "    : x: List of image data.  The image shape is (32, 32, 3)\n",
    "    : return: Numpy array of normalize data\n",
    "    \"\"\"\n",
    "    # Avoiding exactly zero and one, due to possible saturation issues with some activation functions\n",
    "    # or risks of underflow\n",
    "    a = 0\n",
    "    b = 1.0\n",
    "    range_min = 0\n",
    "    range_max = 255\n",
    "    return a + ( ( (x - range_min)*(b - a) )/( range_max - range_min ) )\n",
    "\n",
    "\n",
    "\"\"\"\n",
    "DON'T MODIFY ANYTHING IN THIS CELL THAT IS BELOW THIS LINE\n",
    "\"\"\"\n",
    "tests.test_normalize(normalize)"
   ]
  },
  {
   "cell_type": "markdown",
   "metadata": {},
   "source": [
    "### One-hot encode\n",
    "Just like the previous code cell, you'll be implementing a function for preprocessing.  This time, you'll implement the `one_hot_encode` function. The input, `x`, are a list of labels.  Implement the function to return the list of labels as One-Hot encoded Numpy array.  The possible values for labels are 0 to 9. The one-hot encoding function should return the same encoding for each value between each call to `one_hot_encode`.  Make sure to save the map of encodings outside the function.\n",
    "\n",
    "Hint: Don't reinvent the wheel."
   ]
  },
  {
   "cell_type": "code",
   "execution_count": 4,
   "metadata": {},
   "outputs": [
    {
     "name": "stdout",
     "output_type": "stream",
     "text": [
      "Tests Passed\n"
     ]
    }
   ],
   "source": [
    "def one_hot_encode(x, n_labels=10):\n",
    "    \"\"\"\n",
    "    One hot encode a list of sample labels. Return a one-hot encoded vector for each label.\n",
    "    : x: List of sample Labels\n",
    "    : return: Numpy array of one-hot encoded labels\n",
    "    \"\"\"\n",
    "    # ohe via identity matrix for labels times examples\n",
    "    # should not change between uses unless labels change and there is\n",
    "    # no need for outer scope mutation of variables\n",
    "    return np.eye(n_labels)[x]\n",
    "\n",
    "\n",
    "\"\"\"\n",
    "DON'T MODIFY ANYTHING IN THIS CELL THAT IS BELOW THIS LINE\n",
    "\"\"\"\n",
    "tests.test_one_hot_encode(one_hot_encode)"
   ]
  },
  {
   "cell_type": "markdown",
   "metadata": {},
   "source": [
    "### Randomize Data\n",
    "As you saw from exploring the data above, the order of the samples are randomized.  It doesn't hurt to randomize it again, but you don't need to for this dataset."
   ]
  },
  {
   "cell_type": "markdown",
   "metadata": {},
   "source": [
    "## Preprocess all the data and save it\n",
    "Running the code cell below will preprocess all the CIFAR-10 data and save it to file. The code below also uses 10% of the training data for validation."
   ]
  },
  {
   "cell_type": "code",
   "execution_count": 5,
   "metadata": {
    "collapsed": true
   },
   "outputs": [],
   "source": [
    "\"\"\"\n",
    "DON'T MODIFY ANYTHING IN THIS CELL\n",
    "\"\"\"\n",
    "# Preprocess Training, Validation, and Testing Data\n",
    "helper.preprocess_and_save_data(cifar10_dataset_folder_path, normalize, one_hot_encode)"
   ]
  },
  {
   "cell_type": "markdown",
   "metadata": {},
   "source": [
    "# Check Point\n",
    "This is your first checkpoint.  If you ever decide to come back to this notebook or have to restart the notebook, you can start from here.  The preprocessed data has been saved to disk."
   ]
  },
  {
   "cell_type": "code",
   "execution_count": 6,
   "metadata": {
    "collapsed": true
   },
   "outputs": [],
   "source": [
    "\"\"\"\n",
    "DON'T MODIFY ANYTHING IN THIS CELL\n",
    "\"\"\"\n",
    "import pickle\n",
    "import problem_unittests as tests\n",
    "import helper\n",
    "\n",
    "# Load the Preprocessed Validation data\n",
    "valid_features, valid_labels = pickle.load(open('preprocess_validation.p', mode='rb'))"
   ]
  },
  {
   "cell_type": "markdown",
   "metadata": {},
   "source": [
    "## Build the network\n",
    "For the neural network, you'll build each layer into a function.  Most of the code you've seen has been outside of functions. To test your code more thoroughly, we require that you put each layer in a function.  This allows us to give you better feedback and test for simple mistakes using our unittests before you submit your project.\n",
    "\n",
    ">**Note:** If you're finding it hard to dedicate enough time for this course each week, we've provided a small shortcut to this part of the project. In the next couple of problems, you'll have the option to use classes from the [TensorFlow Layers](https://www.tensorflow.org/api_docs/python/tf/layers) or [TensorFlow Layers (contrib)](https://www.tensorflow.org/api_guides/python/contrib.layers) packages to build each layer, except the layers you build in the \"Convolutional and Max Pooling Layer\" section.  TF Layers is similar to Keras's and TFLearn's abstraction to layers, so it's easy to pickup.\n",
    "\n",
    ">However, if you would like to get the most out of this course, try to solve all the problems _without_ using anything from the TF Layers packages. You **can** still use classes from other packages that happen to have the same name as ones you find in TF Layers! For example, instead of using the TF Layers version of the `conv2d` class, [tf.layers.conv2d](https://www.tensorflow.org/api_docs/python/tf/layers/conv2d), you would want to use the TF Neural Network version of `conv2d`, [tf.nn.conv2d](https://www.tensorflow.org/api_docs/python/tf/nn/conv2d). \n",
    "\n",
    "Let's begin!\n",
    "\n",
    "### Input\n",
    "The neural network needs to read the image data, one-hot encoded labels, and dropout keep probability. Implement the following functions\n",
    "* Implement `neural_net_image_input`\n",
    " * Return a [TF Placeholder](https://www.tensorflow.org/api_docs/python/tf/placeholder)\n",
    " * Set the shape using `image_shape` with batch size set to `None`.\n",
    " * Name the TensorFlow placeholder \"x\" using the TensorFlow `name` parameter in the [TF Placeholder](https://www.tensorflow.org/api_docs/python/tf/placeholder).\n",
    "* Implement `neural_net_label_input`\n",
    " * Return a [TF Placeholder](https://www.tensorflow.org/api_docs/python/tf/placeholder)\n",
    " * Set the shape using `n_classes` with batch size set to `None`.\n",
    " * Name the TensorFlow placeholder \"y\" using the TensorFlow `name` parameter in the [TF Placeholder](https://www.tensorflow.org/api_docs/python/tf/placeholder).\n",
    "* Implement `neural_net_keep_prob_input`\n",
    " * Return a [TF Placeholder](https://www.tensorflow.org/api_docs/python/tf/placeholder) for dropout keep probability.\n",
    " * Name the TensorFlow placeholder \"keep_prob\" using the TensorFlow `name` parameter in the [TF Placeholder](https://www.tensorflow.org/api_docs/python/tf/placeholder).\n",
    "\n",
    "These names will be used at the end of the project to load your saved model.\n",
    "\n",
    "Note: `None` for shapes in TensorFlow allow for a dynamic size."
   ]
  },
  {
   "cell_type": "code",
   "execution_count": 7,
   "metadata": {},
   "outputs": [
    {
     "name": "stdout",
     "output_type": "stream",
     "text": [
      "Image Input Tests Passed.\n",
      "Label Input Tests Passed.\n",
      "Keep Prob Tests Passed.\n"
     ]
    }
   ],
   "source": [
    "import tensorflow as tf\n",
    "\n",
    "def neural_net_image_input(image_shape):\n",
    "    \"\"\"\n",
    "    Return a Tensor for a batch of image input\n",
    "    : image_shape: Shape of the images\n",
    "    : return: Tensor for image input.\n",
    "    \"\"\"\n",
    "    return tf.placeholder(tf.float32, shape=[None, *image_shape], name=\"x\")\n",
    "\n",
    "\n",
    "def neural_net_label_input(n_classes, channels=3):\n",
    "    \"\"\"\n",
    "    Return a Tensor for a batch of label input\n",
    "    : n_classes: Number of classes\n",
    "    : return: Tensor for label input.\n",
    "    \"\"\"\n",
    "    return tf.placeholder(tf.float32, shape=[None, n_classes,], name=\"y\")\n",
    "\n",
    "\n",
    "def neural_net_keep_prob_input():\n",
    "    \"\"\"\n",
    "    Return a Tensor for keep probability\n",
    "    : return: Tensor for keep probability.\n",
    "    \"\"\"\n",
    "    return tf.placeholder(tf.float32, name=\"keep_prob\")\n",
    "\n",
    "\n",
    "\"\"\"\n",
    "DON'T MODIFY ANYTHING IN THIS CELL THAT IS BELOW THIS LINE\n",
    "\"\"\"\n",
    "tf.reset_default_graph()\n",
    "tests.test_nn_image_inputs(neural_net_image_input)\n",
    "tests.test_nn_label_inputs(neural_net_label_input)\n",
    "tests.test_nn_keep_prob_inputs(neural_net_keep_prob_input)"
   ]
  },
  {
   "cell_type": "markdown",
   "metadata": {},
   "source": [
    "### Convolution and Max Pooling Layer\n",
    "Convolution layers have a lot of success with images. For this code cell, you should implement the function `conv2d_maxpool` to apply convolution then max pooling:\n",
    "* Create the weight and bias using `conv_ksize`, `conv_num_outputs` and the shape of `x_tensor`.\n",
    "* Apply a convolution to `x_tensor` using weight and `conv_strides`.\n",
    " * We recommend you use same padding, but you're welcome to use any padding.\n",
    "* Add bias\n",
    "* Add a nonlinear activation to the convolution.\n",
    "* Apply Max Pooling using `pool_ksize` and `pool_strides`.\n",
    " * We recommend you use same padding, but you're welcome to use any padding.\n",
    "\n",
    "**Note:** You **can't** use [TensorFlow Layers](https://www.tensorflow.org/api_docs/python/tf/layers) or [TensorFlow Layers (contrib)](https://www.tensorflow.org/api_guides/python/contrib.layers) for **this** layer, but you can still use TensorFlow's [Neural Network](https://www.tensorflow.org/api_docs/python/tf/nn) package. You may still use the shortcut option for all the **other** layers."
   ]
  },
  {
   "cell_type": "code",
   "execution_count": 8,
   "metadata": {},
   "outputs": [
    {
     "name": "stdout",
     "output_type": "stream",
     "text": [
      "Tests Passed\n"
     ]
    }
   ],
   "source": [
    "def conv2d_maxpool(x_tensor, conv_num_outputs, conv_ksize, conv_strides, pool_ksize, pool_strides):\n",
    "    \"\"\"\n",
    "    Apply convolution then max pooling to x_tensor\n",
    "    :param x_tensor: TensorFlow Tensor\n",
    "    :param conv_num_outputs: Number of outputs for the convolutional layer\n",
    "    :param conv_ksize: kernal size 2-D Tuple for the convolutional layer\n",
    "    :param conv_strides: Stride 2-D Tuple for convolution\n",
    "    :param pool_ksize: kernal size 2-D Tuple for pool\n",
    "    :param pool_strides: Stride 2-D Tuple for pool\n",
    "    : return: A tensor that represents convolution and max pooling of x_tensor\n",
    "    \"\"\"\n",
    "    W = tf.Variable(tf.random_normal(\n",
    "        shape=[*x_tensor.get_shape().as_list()[1:], conv_num_outputs],\n",
    "        mean=0.0,\n",
    "        stddev=0.01,\n",
    "        dtype=tf.float32))\n",
    "    \n",
    "    b = tf.Variable(tf.zeros([conv_num_outputs]))\n",
    "    #print(conv_strides)\n",
    "    conv = tf.nn.conv2d(x_tensor, W, strides=[1, *conv_strides, 1], padding=\"SAME\")\n",
    "    conv = tf.nn.bias_add(conv, b)\n",
    "    conv = tf.nn.relu(conv)\n",
    "    \n",
    "    conv = tf.nn.max_pool(conv,\n",
    "                          [1, *pool_ksize, 1],\n",
    "                          [1, *pool_strides, 1],\n",
    "                          padding=\"SAME\")\n",
    "    \n",
    "    return conv\n",
    "\n",
    "\"\"\"\n",
    "DON'T MODIFY ANYTHING IN THIS CELL THAT IS BELOW THIS LINE\n",
    "\"\"\"\n",
    "tests.test_con_pool(conv2d_maxpool)"
   ]
  },
  {
   "cell_type": "markdown",
   "metadata": {},
   "source": [
    "### Flatten Layer\n",
    "Implement the `flatten` function to change the dimension of `x_tensor` from a 4-D tensor to a 2-D tensor.  The output should be the shape (*Batch Size*, *Flattened Image Size*). Shortcut option: you can use classes from the [TensorFlow Layers](https://www.tensorflow.org/api_docs/python/tf/layers) or [TensorFlow Layers (contrib)](https://www.tensorflow.org/api_guides/python/contrib.layers) packages for this layer. For more of a challenge, only use other TensorFlow packages."
   ]
  },
  {
   "cell_type": "code",
   "execution_count": 9,
   "metadata": {},
   "outputs": [
    {
     "name": "stdout",
     "output_type": "stream",
     "text": [
      "Tests Passed\n"
     ]
    }
   ],
   "source": [
    "def flatten(x_tensor):\n",
    "    \"\"\"\n",
    "    Flatten x_tensor to (Batch Size, Flattened Image Size)\n",
    "    : x_tensor: A tensor of size (Batch Size, ...), where ... are the image dimensions.\n",
    "    : return: A tensor of size (Batch Size, Flattened Image Size).\n",
    "    \"\"\"\n",
    "    # Highlevel is nice\n",
    "    return tf.contrib.layers.flatten(x_tensor)\n",
    "\n",
    "\n",
    "\"\"\"\n",
    "DON'T MODIFY ANYTHING IN THIS CELL THAT IS BELOW THIS LINE\n",
    "\"\"\"\n",
    "tests.test_flatten(flatten)"
   ]
  },
  {
   "cell_type": "markdown",
   "metadata": {},
   "source": [
    "### Fully-Connected Layer\n",
    "Implement the `fully_conn` function to apply a fully connected layer to `x_tensor` with the shape (*Batch Size*, *num_outputs*). Shortcut option: you can use classes from the [TensorFlow Layers](https://www.tensorflow.org/api_docs/python/tf/layers) or [TensorFlow Layers (contrib)](https://www.tensorflow.org/api_guides/python/contrib.layers) packages for this layer. For more of a challenge, only use other TensorFlow packages."
   ]
  },
  {
   "cell_type": "code",
   "execution_count": 12,
   "metadata": {},
   "outputs": [
    {
     "name": "stdout",
     "output_type": "stream",
     "text": [
      "Tests Passed\n"
     ]
    }
   ],
   "source": [
    "def fully_conn(x_tensor, num_outputs):\n",
    "    \"\"\"\n",
    "    Apply a fully connected layer to x_tensor using weight and bias\n",
    "    : x_tensor: A 2-D tensor where the first dimension is batch size.\n",
    "    : num_outputs: The number of output that the new tensor should be.\n",
    "    : return: A 2-D tensor where the second dimension is num_outputs.\n",
    "    \"\"\"\n",
    "    return tf.contrib.layers.fully_connected(x_tensor,\n",
    "                                            num_outputs,\n",
    "                                            weights_initializer=tf.random_normal_initializer(mean=0.0, stddev=0.1),\n",
    "                                            #biased in favor of activating, with biases > 0, since we use relu \n",
    "                                            biases_initializer=tf.random_normal_initializer(mean=0.1, stddev=0.01),\n",
    "                                            activation_fn=tf.nn.relu)\n",
    "\n",
    "\"\"\"\n",
    "DON'T MODIFY ANYTHING IN THIS CELL THAT IS BELOW THIS LINE\n",
    "\"\"\"\n",
    "tests.test_fully_conn(fully_conn)"
   ]
  },
  {
   "cell_type": "markdown",
   "metadata": {},
   "source": [
    "### Output Layer\n",
    "Implement the `output` function to apply a fully connected layer to `x_tensor` with the shape (*Batch Size*, *num_outputs*). Shortcut option: you can use classes from the [TensorFlow Layers](https://www.tensorflow.org/api_docs/python/tf/layers) or [TensorFlow Layers (contrib)](https://www.tensorflow.org/api_guides/python/contrib.layers) packages for this layer. For more of a challenge, only use other TensorFlow packages.\n",
    "\n",
    "**Note:** Activation, softmax, or cross entropy should **not** be applied to this."
   ]
  },
  {
   "cell_type": "code",
   "execution_count": 13,
   "metadata": {},
   "outputs": [
    {
     "name": "stdout",
     "output_type": "stream",
     "text": [
      "Tests Passed\n"
     ]
    }
   ],
   "source": [
    "def output(x_tensor, num_outputs):\n",
    "    \"\"\"\n",
    "    Apply a output layer to x_tensor using weight and bias\n",
    "    : x_tensor: A 2-D tensor where the first dimension is batch size.\n",
    "    : num_outputs: The number of output that the new tensor should be.\n",
    "    : return: A 2-D tensor where the second dimension is num_outputs.\n",
    "    \"\"\"\n",
    "    return tf.contrib.layers.fully_connected(x_tensor,\n",
    "                                            num_outputs,\n",
    "                                            weights_initializer=tf.random_normal_initializer(mean=0.0, stddev=0.01),\n",
    "                                            biases_initializer=tf.zeros_initializer(), activation_fn=None)             \n",
    "\n",
    "\n",
    "\"\"\"\n",
    "DON'T MODIFY ANYTHING IN THIS CELL THAT IS BELOW THIS LINE\n",
    "\"\"\"\n",
    "tests.test_output(output)"
   ]
  },
  {
   "cell_type": "markdown",
   "metadata": {},
   "source": [
    "### Create Convolutional Model\n",
    "Implement the function `conv_net` to create a convolutional neural network model. The function takes in a batch of images, `x`, and outputs logits.  Use the layers you created above to create this model:\n",
    "\n",
    "* Apply 1, 2, or 3 Convolution and Max Pool layers\n",
    "* Apply a Flatten Layer\n",
    "* Apply 1, 2, or 3 Fully Connected Layers\n",
    "* Apply an Output Layer\n",
    "* Return the output\n",
    "* Apply [TensorFlow's Dropout](https://www.tensorflow.org/api_docs/python/tf/nn/dropout) to one or more layers in the model using `keep_prob`. "
   ]
  },
  {
   "cell_type": "code",
   "execution_count": 14,
   "metadata": {},
   "outputs": [
    {
     "name": "stdout",
     "output_type": "stream",
     "text": [
      "Neural Network Built!\n"
     ]
    }
   ],
   "source": [
    "def conv_net(x, keep_prob):\n",
    "    \"\"\"\n",
    "    Create a convolutional neural network model\n",
    "    : x: Placeholder tensor that holds image data.\n",
    "    : keep_prob: Placeholder tensor that hold dropout keep probability.\n",
    "    : return: Tensor that represents logits\n",
    "    \"\"\"\n",
    "    #x_ = tf.cast(x, tf.float32)\n",
    "    # TODO: Apply 1, 2, or 3 Convolution and Max Pool layers\n",
    "    #    Play around with different number of outputs, kernel size and stride\n",
    "    # Function Definition from Above:\n",
    "    #    conv2d_maxpool(x_tensor, conv_num_outputs, conv_ksize, conv_strides, pool_ksize, pool_strides)\n",
    "    \n",
    "    conv1 = conv2d_maxpool(x, 96, (6,6), (3,3), (3,3), (2,2))\n",
    "    conv2 = conv2d_maxpool(conv1, 128, (4,4), (3,3), (3,3), (2,2))\n",
    "    conv3 = conv2d_maxpool(conv2, 192, (2,2), (2,2), (2,2), (2,2))\n",
    "    \n",
    "    # TODO: Apply a Flatten Layer\n",
    "    # Function Definition from Above:\n",
    "    #   flatten(x_tensor)\n",
    "    f1 = flatten(conv3)\n",
    "\n",
    "    # TODO: Apply 1, 2, or 3 Fully Connected Layers\n",
    "    #    Play around with different number of outputs\n",
    "    # Function Definition from Above:\n",
    "    #   fully_conn(x_tensor, num_outputs)\n",
    "    net = fully_conn(f1,400)\n",
    "    drop1 = tf.nn.dropout(net, keep_prob)\n",
    "    net2 = fully_conn(drop1,200)\n",
    "    drop2 = tf.nn.dropout(net2, keep_prob)\n",
    "    net3 = fully_conn(drop2,100)\n",
    "    drop3 = tf.nn.dropout(net3, keep_prob)\n",
    "    \n",
    "    \n",
    "    # TODO: Apply an Output Layer\n",
    "    #    Set this to the number of classes\n",
    "    # Function Definition from Above:\n",
    "    #   output(x_tensor, num_outputs)\n",
    "    return output(drop3,10)\n",
    "\n",
    "\n",
    "\"\"\"\n",
    "DON'T MODIFY ANYTHING IN THIS CELL THAT IS BELOW THIS LINE\n",
    "\"\"\"\n",
    "\n",
    "##############################\n",
    "## Build the Neural Network ##\n",
    "##############################\n",
    "\n",
    "# Remove previous weights, bias, inputs, etc..\n",
    "tf.reset_default_graph()\n",
    "\n",
    "# Inputs\n",
    "x = neural_net_image_input((32, 32, 3))\n",
    "y = neural_net_label_input(10)\n",
    "keep_prob = neural_net_keep_prob_input()\n",
    "\n",
    "# Model\n",
    "logits = conv_net(x, keep_prob)\n",
    "\n",
    "# Name logits Tensor, so that is can be loaded from disk after training\n",
    "logits = tf.identity(logits, name='logits')\n",
    "\n",
    "# Loss and Optimizer\n",
    "cost = tf.reduce_mean(tf.nn.softmax_cross_entropy_with_logits(logits=logits, labels=y))\n",
    "optimizer = tf.train.AdamOptimizer().minimize(cost)\n",
    "\n",
    "# Accuracy\n",
    "correct_pred = tf.equal(tf.argmax(logits, 1), tf.argmax(y, 1))\n",
    "accuracy = tf.reduce_mean(tf.cast(correct_pred, tf.float32), name='accuracy')\n",
    "\n",
    "tests.test_conv_net(conv_net)"
   ]
  },
  {
   "cell_type": "markdown",
   "metadata": {},
   "source": [
    "## Train the Neural Network\n",
    "### Single Optimization\n",
    "Implement the function `train_neural_network` to do a single optimization.  The optimization should use `optimizer` to optimize in `session` with a `feed_dict` of the following:\n",
    "* `x` for image input\n",
    "* `y` for labels\n",
    "* `keep_prob` for keep probability for dropout\n",
    "\n",
    "This function will be called for each batch, so `tf.global_variables_initializer()` has already been called.\n",
    "\n",
    "Note: Nothing needs to be returned. This function is only optimizing the neural network."
   ]
  },
  {
   "cell_type": "code",
   "execution_count": 15,
   "metadata": {},
   "outputs": [
    {
     "name": "stdout",
     "output_type": "stream",
     "text": [
      "Tests Passed\n"
     ]
    }
   ],
   "source": [
    "def train_neural_network(session, optimizer, keep_probability, feature_batch, label_batch):\n",
    "    \"\"\"\n",
    "    Optimize the session on a batch of images and labels\n",
    "    : session: Current TensorFlow session|\n",
    "    : optimizer: TensorFlow optimizer function\n",
    "    : keep_probability: keep probability\n",
    "    : feature_batch: Batch of Numpy image data\n",
    "    : label_batch: Batch of Numpy label data\n",
    "    \"\"\"\n",
    "    # Just the side-effect\n",
    "    session.run(optimizer, feed_dict={x:feature_batch, y:label_batch, keep_prob:keep_probability})\n",
    "\n",
    "\n",
    "\"\"\"\n",
    "DON'T MODIFY ANYTHING IN THIS CELL THAT IS BELOW THIS LINE\n",
    "\"\"\"\n",
    "tests.test_train_nn(train_neural_network)"
   ]
  },
  {
   "cell_type": "markdown",
   "metadata": {},
   "source": [
    "### Show Stats\n",
    "Implement the function `print_stats` to print loss and validation accuracy.  Use the global variables `valid_features` and `valid_labels` to calculate validation accuracy.  Use a keep probability of `1.0` to calculate the loss and validation accuracy."
   ]
  },
  {
   "cell_type": "code",
   "execution_count": 16,
   "metadata": {
    "collapsed": true
   },
   "outputs": [],
   "source": [
    "def print_stats(session, feature_batch, label_batch, cost, accuracy):\n",
    "    \"\"\"\n",
    "    Print information about loss and validation accuracy\n",
    "    : session: Current TensorFlow session\n",
    "    : feature_batch: Batch of Numpy image data\n",
    "    : label_batch: Batch of Numpy label data\n",
    "    : cost: TensorFlow cost function\n",
    "    : accuracy: TensorFlow accuracy function\n",
    "    \"\"\"\n",
    "    # TODO: Implement Function\n",
    "    loss = session.run(cost, feed_dict={x: feature_batch, y:label_batch, keep_prob:1.0})\n",
    "    valid_acc = session.run(accuracy, feed_dict={x:valid_features, y:valid_labels, keep_prob:1.0})\n",
    "    print(\"Current loss: {0}, validation accuracy: {1}\".format(loss, valid_acc))"
   ]
  },
  {
   "cell_type": "markdown",
   "metadata": {},
   "source": [
    "### Hyperparameters\n",
    "Tune the following parameters:\n",
    "* Set `epochs` to the number of iterations until the network stops learning or start overfitting\n",
    "* Set `batch_size` to the highest number that your machine has memory for.  Most people set them to common sizes of memory:\n",
    " * 64\n",
    " * 128\n",
    " * 256\n",
    " * ...\n",
    "* Set `keep_probability` to the probability of keeping a node using dropout"
   ]
  },
  {
   "cell_type": "code",
   "execution_count": 23,
   "metadata": {
    "collapsed": true
   },
   "outputs": [],
   "source": [
    "# TODO: Tune Parameters\n",
    "epochs = 50\n",
    "batch_size = 256\n",
    "keep_probability = 0.7"
   ]
  },
  {
   "cell_type": "markdown",
   "metadata": {},
   "source": [
    "### Train on a Single CIFAR-10 Batch\n",
    "Instead of training the neural network on all the CIFAR-10 batches of data, let's use a single batch. This should save time while you iterate on the model to get a better accuracy.  Once the final validation accuracy is 50% or greater, run the model on all the data in the next section."
   ]
  },
  {
   "cell_type": "code",
   "execution_count": 18,
   "metadata": {},
   "outputs": [
    {
     "name": "stdout",
     "output_type": "stream",
     "text": [
      "Checking the Training on a Single Batch...\n",
      "Epoch  1, CIFAR-10 Batch 1:  Current loss: 2.236746072769165, validation accuracy: 0.20080000162124634\n",
      "Epoch  2, CIFAR-10 Batch 1:  Current loss: 2.191073179244995, validation accuracy: 0.2070000171661377\n",
      "Epoch  3, CIFAR-10 Batch 1:  Current loss: 2.1158361434936523, validation accuracy: 0.2711999714374542\n",
      "Epoch  4, CIFAR-10 Batch 1:  Current loss: 2.017017364501953, validation accuracy: 0.29999998211860657\n",
      "Epoch  5, CIFAR-10 Batch 1:  Current loss: 1.842881202697754, validation accuracy: 0.31859996914863586\n",
      "Epoch  6, CIFAR-10 Batch 1:  Current loss: 1.7450922727584839, validation accuracy: 0.3417999744415283\n",
      "Epoch  7, CIFAR-10 Batch 1:  Current loss: 1.6006710529327393, validation accuracy: 0.36100003123283386\n",
      "Epoch  8, CIFAR-10 Batch 1:  Current loss: 1.483040452003479, validation accuracy: 0.3933999836444855\n",
      "Epoch  9, CIFAR-10 Batch 1:  Current loss: 1.4174906015396118, validation accuracy: 0.37959998846054077\n",
      "Epoch 10, CIFAR-10 Batch 1:  Current loss: 1.3889507055282593, validation accuracy: 0.3625999689102173\n",
      "Epoch 11, CIFAR-10 Batch 1:  Current loss: 1.1355977058410645, validation accuracy: 0.4034000039100647\n",
      "Epoch 12, CIFAR-10 Batch 1:  Current loss: 1.0662765502929688, validation accuracy: 0.4065999984741211\n",
      "Epoch 13, CIFAR-10 Batch 1:  Current loss: 1.1397813558578491, validation accuracy: 0.38919997215270996\n",
      "Epoch 14, CIFAR-10 Batch 1:  Current loss: 1.0715975761413574, validation accuracy: 0.3877999782562256\n",
      "Epoch 15, CIFAR-10 Batch 1:  Current loss: 0.9304351806640625, validation accuracy: 0.40880000591278076\n",
      "Epoch 16, CIFAR-10 Batch 1:  Current loss: 0.9125327467918396, validation accuracy: 0.4097999930381775\n",
      "Epoch 17, CIFAR-10 Batch 1:  Current loss: 0.8833146691322327, validation accuracy: 0.43139997124671936\n",
      "Epoch 18, CIFAR-10 Batch 1:  Current loss: 0.7376186847686768, validation accuracy: 0.41819995641708374\n",
      "Epoch 19, CIFAR-10 Batch 1:  Current loss: 0.732944667339325, validation accuracy: 0.44119998812675476\n",
      "Epoch 20, CIFAR-10 Batch 1:  Current loss: 0.6935474276542664, validation accuracy: 0.43459999561309814\n",
      "Epoch 21, CIFAR-10 Batch 1:  Current loss: 0.6121149659156799, validation accuracy: 0.4339999556541443\n",
      "Epoch 22, CIFAR-10 Batch 1:  Current loss: 0.6690852642059326, validation accuracy: 0.44279998540878296\n",
      "Epoch 23, CIFAR-10 Batch 1:  Current loss: 0.6122788190841675, validation accuracy: 0.4123999774456024\n",
      "Epoch 24, CIFAR-10 Batch 1:  Current loss: 0.5812922716140747, validation accuracy: 0.43939995765686035\n",
      "Epoch 25, CIFAR-10 Batch 1:  Current loss: 0.6212195158004761, validation accuracy: 0.3993999660015106\n",
      "Epoch 26, CIFAR-10 Batch 1:  Current loss: 0.484191358089447, validation accuracy: 0.4325999915599823\n",
      "Epoch 27, CIFAR-10 Batch 1:  Current loss: 0.436365008354187, validation accuracy: 0.4285999834537506\n",
      "Epoch 28, CIFAR-10 Batch 1:  Current loss: 0.4829607903957367, validation accuracy: 0.40219995379447937\n",
      "Epoch 29, CIFAR-10 Batch 1:  Current loss: 0.402971088886261, validation accuracy: 0.4209999442100525\n",
      "Epoch 30, CIFAR-10 Batch 1:  Current loss: 0.3647949695587158, validation accuracy: 0.42379993200302124\n",
      "Epoch 31, CIFAR-10 Batch 1:  Current loss: 0.36137083172798157, validation accuracy: 0.4297999441623688\n",
      "Epoch 32, CIFAR-10 Batch 1:  Current loss: 0.3481166362762451, validation accuracy: 0.4323999881744385\n",
      "Epoch 33, CIFAR-10 Batch 1:  Current loss: 0.3912307322025299, validation accuracy: 0.4185999631881714\n",
      "Epoch 34, CIFAR-10 Batch 1:  Current loss: 0.3716512620449066, validation accuracy: 0.44999998807907104\n",
      "Epoch 35, CIFAR-10 Batch 1:  Current loss: 0.3692859411239624, validation accuracy: 0.4261999726295471\n",
      "Epoch 36, CIFAR-10 Batch 1:  Current loss: 0.38363683223724365, validation accuracy: 0.4023999571800232\n",
      "Epoch 37, CIFAR-10 Batch 1:  Current loss: 0.34403473138809204, validation accuracy: 0.40540000796318054\n",
      "Epoch 38, CIFAR-10 Batch 1:  Current loss: 0.2524930536746979, validation accuracy: 0.42379996180534363\n",
      "Epoch 39, CIFAR-10 Batch 1:  Current loss: 0.25032827258110046, validation accuracy: 0.4209999442100525\n",
      "Epoch 40, CIFAR-10 Batch 1:  Current loss: 0.268385648727417, validation accuracy: 0.4357999563217163\n",
      "Epoch 41, CIFAR-10 Batch 1:  Current loss: 0.2479386180639267, validation accuracy: 0.4228000044822693\n",
      "Epoch 42, CIFAR-10 Batch 1:  Current loss: 0.2762831151485443, validation accuracy: 0.4145999550819397\n",
      "Epoch 43, CIFAR-10 Batch 1:  Current loss: 0.1723501831293106, validation accuracy: 0.4253999590873718\n",
      "Epoch 44, CIFAR-10 Batch 1:  Current loss: 0.15510985255241394, validation accuracy: 0.43059998750686646\n",
      "Epoch 45, CIFAR-10 Batch 1:  Current loss: 0.14666128158569336, validation accuracy: 0.42079997062683105\n",
      "Epoch 46, CIFAR-10 Batch 1:  Current loss: 0.22593888640403748, validation accuracy: 0.4139999747276306\n",
      "Epoch 47, CIFAR-10 Batch 1:  Current loss: 0.21470873057842255, validation accuracy: 0.4357999861240387\n",
      "Epoch 48, CIFAR-10 Batch 1:  Current loss: 0.141038179397583, validation accuracy: 0.43459996581077576\n",
      "Epoch 49, CIFAR-10 Batch 1:  Current loss: 0.14776825904846191, validation accuracy: 0.42579999566078186\n",
      "Epoch 50, CIFAR-10 Batch 1:  Current loss: 0.12022589892148972, validation accuracy: 0.4347999691963196\n",
      "Epoch 51, CIFAR-10 Batch 1:  Current loss: 0.16108544170856476, validation accuracy: 0.4197999835014343\n",
      "Epoch 52, CIFAR-10 Batch 1:  Current loss: 0.1504756510257721, validation accuracy: 0.4368000030517578\n",
      "Epoch 53, CIFAR-10 Batch 1:  Current loss: 0.13992856442928314, validation accuracy: 0.44199997186660767\n",
      "Epoch 54, CIFAR-10 Batch 1:  Current loss: 0.1615196019411087, validation accuracy: 0.4228000044822693\n",
      "Epoch 55, CIFAR-10 Batch 1:  Current loss: 0.13211265206336975, validation accuracy: 0.42899999022483826\n",
      "Epoch 56, CIFAR-10 Batch 1:  Current loss: 0.12676791846752167, validation accuracy: 0.4229999780654907\n",
      "Epoch 57, CIFAR-10 Batch 1:  Current loss: 0.10535016655921936, validation accuracy: 0.4148000180721283\n",
      "Epoch 58, CIFAR-10 Batch 1:  Current loss: 0.10069109499454498, validation accuracy: 0.4097999334335327\n",
      "Epoch 59, CIFAR-10 Batch 1:  Current loss: 0.1893635392189026, validation accuracy: 0.4185999631881714\n",
      "Epoch 60, CIFAR-10 Batch 1:  Current loss: 0.07902765274047852, validation accuracy: 0.43880000710487366\n",
      "Epoch 61, CIFAR-10 Batch 1:  Current loss: 0.08458705991506577, validation accuracy: 0.4203999638557434\n",
      "Epoch 62, CIFAR-10 Batch 1:  Current loss: 0.1296480894088745, validation accuracy: 0.41439998149871826\n",
      "Epoch 63, CIFAR-10 Batch 1:  Current loss: 0.09714977443218231, validation accuracy: 0.43519994616508484\n",
      "Epoch 64, CIFAR-10 Batch 1:  Current loss: 0.07276065647602081, validation accuracy: 0.4453999698162079\n",
      "Epoch 65, CIFAR-10 Batch 1:  Current loss: 0.08929069340229034, validation accuracy: 0.4431999921798706\n",
      "Epoch 66, CIFAR-10 Batch 1:  Current loss: 0.11202292889356613, validation accuracy: 0.4367999732494354\n",
      "Epoch 67, CIFAR-10 Batch 1:  Current loss: 0.09581402689218521, validation accuracy: 0.4351999759674072\n",
      "Epoch 68, CIFAR-10 Batch 1:  Current loss: 0.09449499100446701, validation accuracy: 0.43779999017715454\n",
      "Epoch 69, CIFAR-10 Batch 1:  Current loss: 0.10544819384813309, validation accuracy: 0.4285999834537506\n",
      "Epoch 70, CIFAR-10 Batch 1:  Current loss: 0.10217300802469254, validation accuracy: 0.43779996037483215\n"
     ]
    }
   ],
   "source": [
    "\"\"\"\n",
    "DON'T MODIFY ANYTHING IN THIS CELL\n",
    "\"\"\"\n",
    "print('Checking the Training on a Single Batch...')\n",
    "with tf.Session() as sess:\n",
    "    # Initializing the variables\n",
    "    sess.run(tf.global_variables_initializer())\n",
    "    \n",
    "    # Training cycle\n",
    "    for epoch in range(epochs):\n",
    "        batch_i = 1\n",
    "        for batch_features, batch_labels in helper.load_preprocess_training_batch(batch_i, batch_size):\n",
    "            train_neural_network(sess, optimizer, keep_probability, batch_features, batch_labels)\n",
    "        print('Epoch {:>2}, CIFAR-10 Batch {}:  '.format(epoch + 1, batch_i), end='')\n",
    "        print_stats(sess, batch_features, batch_labels, cost, accuracy)"
   ]
  },
  {
   "cell_type": "markdown",
   "metadata": {},
   "source": [
    "### Fully Train the Model\n",
    "Now that you got a good accuracy with a single CIFAR-10 batch, try it with all five batches."
   ]
  },
  {
   "cell_type": "code",
   "execution_count": 24,
   "metadata": {},
   "outputs": [
    {
     "name": "stdout",
     "output_type": "stream",
     "text": [
      "Training...\n",
      "Epoch  1, CIFAR-10 Batch 1:  Current loss: 2.2221193313598633, validation accuracy: 0.19339999556541443\n",
      "Epoch  1, CIFAR-10 Batch 2:  Current loss: 2.1536810398101807, validation accuracy: 0.18039999902248383\n",
      "Epoch  1, CIFAR-10 Batch 3:  Current loss: 1.8480327129364014, validation accuracy: 0.20839999616146088\n",
      "Epoch  1, CIFAR-10 Batch 4:  Current loss: 1.9127581119537354, validation accuracy: 0.24239997565746307\n",
      "Epoch  1, CIFAR-10 Batch 5:  Current loss: 1.8331587314605713, validation accuracy: 0.2667999565601349\n",
      "Epoch  2, CIFAR-10 Batch 1:  Current loss: 1.942681074142456, validation accuracy: 0.3141999840736389\n",
      "Epoch  2, CIFAR-10 Batch 2:  Current loss: 1.8863019943237305, validation accuracy: 0.259799987077713\n",
      "Epoch  2, CIFAR-10 Batch 3:  Current loss: 1.5531527996063232, validation accuracy: 0.3333999812602997\n",
      "Epoch  2, CIFAR-10 Batch 4:  Current loss: 1.5687452554702759, validation accuracy: 0.3610000014305115\n",
      "Epoch  2, CIFAR-10 Batch 5:  Current loss: 1.6358104944229126, validation accuracy: 0.36419999599456787\n",
      "Epoch  3, CIFAR-10 Batch 1:  Current loss: 1.814721703529358, validation accuracy: 0.36879995465278625\n",
      "Epoch  3, CIFAR-10 Batch 2:  Current loss: 1.688753604888916, validation accuracy: 0.37619999051094055\n",
      "Epoch  3, CIFAR-10 Batch 3:  Current loss: 1.3648431301116943, validation accuracy: 0.3999999761581421\n",
      "Epoch  3, CIFAR-10 Batch 4:  Current loss: 1.452686071395874, validation accuracy: 0.39259999990463257\n",
      "Epoch  3, CIFAR-10 Batch 5:  Current loss: 1.5761828422546387, validation accuracy: 0.4050000011920929\n",
      "Epoch  4, CIFAR-10 Batch 1:  Current loss: 1.6297073364257812, validation accuracy: 0.417199969291687\n",
      "Epoch  4, CIFAR-10 Batch 2:  Current loss: 1.47938871383667, validation accuracy: 0.4097999930381775\n",
      "Epoch  4, CIFAR-10 Batch 3:  Current loss: 1.1229802370071411, validation accuracy: 0.4213999807834625\n",
      "Epoch  4, CIFAR-10 Batch 4:  Current loss: 1.3454930782318115, validation accuracy: 0.42459994554519653\n",
      "Epoch  4, CIFAR-10 Batch 5:  Current loss: 1.4973077774047852, validation accuracy: 0.43959999084472656\n",
      "Epoch  5, CIFAR-10 Batch 1:  Current loss: 1.52195405960083, validation accuracy: 0.45659998059272766\n",
      "Epoch  5, CIFAR-10 Batch 2:  Current loss: 1.2988786697387695, validation accuracy: 0.4315999448299408\n",
      "Epoch  5, CIFAR-10 Batch 3:  Current loss: 1.1637749671936035, validation accuracy: 0.43320000171661377\n",
      "Epoch  5, CIFAR-10 Batch 4:  Current loss: 1.192947268486023, validation accuracy: 0.448199987411499\n",
      "Epoch  5, CIFAR-10 Batch 5:  Current loss: 1.3768775463104248, validation accuracy: 0.4649999737739563\n",
      "Epoch  6, CIFAR-10 Batch 1:  Current loss: 1.388298511505127, validation accuracy: 0.47540000081062317\n",
      "Epoch  6, CIFAR-10 Batch 2:  Current loss: 1.1529604196548462, validation accuracy: 0.45559996366500854\n",
      "Epoch  6, CIFAR-10 Batch 3:  Current loss: 1.0231666564941406, validation accuracy: 0.4214000105857849\n",
      "Epoch  6, CIFAR-10 Batch 4:  Current loss: 1.0624035596847534, validation accuracy: 0.4797999858856201\n",
      "Epoch  6, CIFAR-10 Batch 5:  Current loss: 1.2651352882385254, validation accuracy: 0.4737999737262726\n",
      "Epoch  7, CIFAR-10 Batch 1:  Current loss: 1.292311668395996, validation accuracy: 0.4809999465942383\n",
      "Epoch  7, CIFAR-10 Batch 2:  Current loss: 0.9967519640922546, validation accuracy: 0.46279996633529663\n",
      "Epoch  7, CIFAR-10 Batch 3:  Current loss: 0.9383740425109863, validation accuracy: 0.4705999493598938\n",
      "Epoch  7, CIFAR-10 Batch 4:  Current loss: 1.0280934572219849, validation accuracy: 0.4955999553203583\n",
      "Epoch  7, CIFAR-10 Batch 5:  Current loss: 1.169769048690796, validation accuracy: 0.488599956035614\n",
      "Epoch  8, CIFAR-10 Batch 1:  Current loss: 1.2189271450042725, validation accuracy: 0.4811999499797821\n",
      "Epoch  8, CIFAR-10 Batch 2:  Current loss: 0.8945407867431641, validation accuracy: 0.483599990606308\n",
      "Epoch  8, CIFAR-10 Batch 3:  Current loss: 0.8591110706329346, validation accuracy: 0.4844000041484833\n",
      "Epoch  8, CIFAR-10 Batch 4:  Current loss: 0.944791316986084, validation accuracy: 0.4963999390602112\n",
      "Epoch  8, CIFAR-10 Batch 5:  Current loss: 1.0423386096954346, validation accuracy: 0.5073999762535095\n",
      "Epoch  9, CIFAR-10 Batch 1:  Current loss: 1.1339678764343262, validation accuracy: 0.49119997024536133\n",
      "Epoch  9, CIFAR-10 Batch 2:  Current loss: 0.8640307188034058, validation accuracy: 0.48639994859695435\n",
      "Epoch  9, CIFAR-10 Batch 3:  Current loss: 0.7599675059318542, validation accuracy: 0.4939999580383301\n",
      "Epoch  9, CIFAR-10 Batch 4:  Current loss: 0.917527437210083, validation accuracy: 0.5151998996734619\n",
      "Epoch  9, CIFAR-10 Batch 5:  Current loss: 0.9945530891418457, validation accuracy: 0.5069999694824219\n",
      "Epoch 10, CIFAR-10 Batch 1:  Current loss: 1.0332868099212646, validation accuracy: 0.5017999410629272\n",
      "Epoch 10, CIFAR-10 Batch 2:  Current loss: 0.741140604019165, validation accuracy: 0.49599993228912354\n",
      "Epoch 10, CIFAR-10 Batch 3:  Current loss: 0.7392489314079285, validation accuracy: 0.504599928855896\n",
      "Epoch 10, CIFAR-10 Batch 4:  Current loss: 0.8822987079620361, validation accuracy: 0.5065999627113342\n",
      "Epoch 10, CIFAR-10 Batch 5:  Current loss: 0.9474465847015381, validation accuracy: 0.5013999342918396\n",
      "Epoch 11, CIFAR-10 Batch 1:  Current loss: 0.9365246295928955, validation accuracy: 0.5047999620437622\n",
      "Epoch 11, CIFAR-10 Batch 2:  Current loss: 0.6874651908874512, validation accuracy: 0.507599949836731\n",
      "Epoch 11, CIFAR-10 Batch 3:  Current loss: 0.6872062087059021, validation accuracy: 0.4995999336242676\n",
      "Epoch 11, CIFAR-10 Batch 4:  Current loss: 0.8034430742263794, validation accuracy: 0.5163999795913696\n",
      "Epoch 11, CIFAR-10 Batch 5:  Current loss: 0.852742075920105, validation accuracy: 0.5105999112129211\n",
      "Epoch 12, CIFAR-10 Batch 1:  Current loss: 0.868709146976471, validation accuracy: 0.5163999199867249\n",
      "Epoch 12, CIFAR-10 Batch 2:  Current loss: 0.66663658618927, validation accuracy: 0.5133999586105347\n",
      "Epoch 12, CIFAR-10 Batch 3:  Current loss: 0.6370285153388977, validation accuracy: 0.5103999376296997\n",
      "Epoch 12, CIFAR-10 Batch 4:  Current loss: 0.7529311776161194, validation accuracy: 0.5181999802589417\n",
      "Epoch 12, CIFAR-10 Batch 5:  Current loss: 0.7942390441894531, validation accuracy: 0.5265999436378479\n",
      "Epoch 13, CIFAR-10 Batch 1:  Current loss: 0.9226219654083252, validation accuracy: 0.5167999267578125\n",
      "Epoch 13, CIFAR-10 Batch 2:  Current loss: 0.678008496761322, validation accuracy: 0.5227999687194824\n",
      "Epoch 13, CIFAR-10 Batch 3:  Current loss: 0.6334847211837769, validation accuracy: 0.5235999822616577\n",
      "Epoch 13, CIFAR-10 Batch 4:  Current loss: 0.6732387542724609, validation accuracy: 0.5229999423027039\n",
      "Epoch 13, CIFAR-10 Batch 5:  Current loss: 0.77308589220047, validation accuracy: 0.5217999219894409\n",
      "Epoch 14, CIFAR-10 Batch 1:  Current loss: 0.8376273512840271, validation accuracy: 0.5307999849319458\n",
      "Epoch 14, CIFAR-10 Batch 2:  Current loss: 0.5901904106140137, validation accuracy: 0.5145999193191528\n",
      "Epoch 14, CIFAR-10 Batch 3:  Current loss: 0.5540754199028015, validation accuracy: 0.5269999504089355\n",
      "Epoch 14, CIFAR-10 Batch 4:  Current loss: 0.7085268497467041, validation accuracy: 0.5183999538421631\n",
      "Epoch 14, CIFAR-10 Batch 5:  Current loss: 0.7088701725006104, validation accuracy: 0.5211999416351318\n",
      "Epoch 15, CIFAR-10 Batch 1:  Current loss: 0.8116456270217896, validation accuracy: 0.5177999138832092\n",
      "Epoch 15, CIFAR-10 Batch 2:  Current loss: 0.5836179256439209, validation accuracy: 0.5207999348640442\n",
      "Epoch 15, CIFAR-10 Batch 3:  Current loss: 0.5255947709083557, validation accuracy: 0.5207998752593994\n",
      "Epoch 15, CIFAR-10 Batch 4:  Current loss: 0.6006913185119629, validation accuracy: 0.5203999280929565\n",
      "Epoch 15, CIFAR-10 Batch 5:  Current loss: 0.7310526371002197, validation accuracy: 0.5275999307632446\n",
      "Epoch 16, CIFAR-10 Batch 1:  Current loss: 0.8156059384346008, validation accuracy: 0.5349999070167542\n",
      "Epoch 16, CIFAR-10 Batch 2:  Current loss: 0.5367729067802429, validation accuracy: 0.5399999618530273\n",
      "Epoch 16, CIFAR-10 Batch 3:  Current loss: 0.49962103366851807, validation accuracy: 0.5261999368667603\n",
      "Epoch 16, CIFAR-10 Batch 4:  Current loss: 0.7111338973045349, validation accuracy: 0.5267999172210693\n",
      "Epoch 16, CIFAR-10 Batch 5:  Current loss: 0.7011865973472595, validation accuracy: 0.5283999443054199\n"
     ]
    },
    {
     "name": "stdout",
     "output_type": "stream",
     "text": [
      "Epoch 17, CIFAR-10 Batch 1:  Current loss: 0.6738021969795227, validation accuracy: 0.5291999578475952\n",
      "Epoch 17, CIFAR-10 Batch 2:  Current loss: 0.5288373231887817, validation accuracy: 0.5295999646186829\n",
      "Epoch 17, CIFAR-10 Batch 3:  Current loss: 0.454387366771698, validation accuracy: 0.5117999315261841\n",
      "Epoch 17, CIFAR-10 Batch 4:  Current loss: 0.6930272579193115, validation accuracy: 0.49779996275901794\n",
      "Epoch 17, CIFAR-10 Batch 5:  Current loss: 0.6145967245101929, validation accuracy: 0.5259999632835388\n",
      "Epoch 18, CIFAR-10 Batch 1:  Current loss: 0.6615021228790283, validation accuracy: 0.5219999551773071\n",
      "Epoch 18, CIFAR-10 Batch 2:  Current loss: 0.47003114223480225, validation accuracy: 0.5203999280929565\n",
      "Epoch 18, CIFAR-10 Batch 3:  Current loss: 0.412142276763916, validation accuracy: 0.5229999423027039\n",
      "Epoch 18, CIFAR-10 Batch 4:  Current loss: 0.5483663082122803, validation accuracy: 0.5255999565124512\n",
      "Epoch 18, CIFAR-10 Batch 5:  Current loss: 0.5867887735366821, validation accuracy: 0.5375999212265015\n",
      "Epoch 19, CIFAR-10 Batch 1:  Current loss: 0.6592235565185547, validation accuracy: 0.5283999443054199\n",
      "Epoch 19, CIFAR-10 Batch 2:  Current loss: 0.4247150123119354, validation accuracy: 0.533799946308136\n",
      "Epoch 19, CIFAR-10 Batch 3:  Current loss: 0.4189774990081787, validation accuracy: 0.5249999761581421\n",
      "Epoch 19, CIFAR-10 Batch 4:  Current loss: 0.5542623996734619, validation accuracy: 0.5245999693870544\n",
      "Epoch 19, CIFAR-10 Batch 5:  Current loss: 0.5715312957763672, validation accuracy: 0.5401999354362488\n",
      "Epoch 20, CIFAR-10 Batch 1:  Current loss: 0.5841805934906006, validation accuracy: 0.5169999599456787\n",
      "Epoch 20, CIFAR-10 Batch 2:  Current loss: 0.437467098236084, validation accuracy: 0.5281999707221985\n",
      "Epoch 20, CIFAR-10 Batch 3:  Current loss: 0.4389798045158386, validation accuracy: 0.5141999125480652\n",
      "Epoch 20, CIFAR-10 Batch 4:  Current loss: 0.5344452857971191, validation accuracy: 0.5305999517440796\n",
      "Epoch 20, CIFAR-10 Batch 5:  Current loss: 0.553557813167572, validation accuracy: 0.5173999667167664\n",
      "Epoch 21, CIFAR-10 Batch 1:  Current loss: 0.5396627187728882, validation accuracy: 0.5277999043464661\n",
      "Epoch 21, CIFAR-10 Batch 2:  Current loss: 0.45955997705459595, validation accuracy: 0.5267999172210693\n",
      "Epoch 21, CIFAR-10 Batch 3:  Current loss: 0.3476102948188782, validation accuracy: 0.5305999517440796\n",
      "Epoch 21, CIFAR-10 Batch 4:  Current loss: 0.5397535562515259, validation accuracy: 0.5137999057769775\n",
      "Epoch 21, CIFAR-10 Batch 5:  Current loss: 0.5158198475837708, validation accuracy: 0.5235999226570129\n",
      "Epoch 22, CIFAR-10 Batch 1:  Current loss: 0.5397406220436096, validation accuracy: 0.5291999578475952\n",
      "Epoch 22, CIFAR-10 Batch 2:  Current loss: 0.41725677251815796, validation accuracy: 0.5363999605178833\n",
      "Epoch 22, CIFAR-10 Batch 3:  Current loss: 0.3892641067504883, validation accuracy: 0.525999903678894\n",
      "Epoch 22, CIFAR-10 Batch 4:  Current loss: 0.47581326961517334, validation accuracy: 0.518799901008606\n",
      "Epoch 22, CIFAR-10 Batch 5:  Current loss: 0.47103291749954224, validation accuracy: 0.5205999612808228\n",
      "Epoch 23, CIFAR-10 Batch 1:  Current loss: 0.5019416213035583, validation accuracy: 0.5161999464035034\n",
      "Epoch 23, CIFAR-10 Batch 2:  Current loss: 0.47663331031799316, validation accuracy: 0.5267999172210693\n",
      "Epoch 23, CIFAR-10 Batch 3:  Current loss: 0.36559364199638367, validation accuracy: 0.5275999903678894\n",
      "Epoch 23, CIFAR-10 Batch 4:  Current loss: 0.4698888063430786, validation accuracy: 0.5101999044418335\n",
      "Epoch 23, CIFAR-10 Batch 5:  Current loss: 0.4807741940021515, validation accuracy: 0.5181999802589417\n",
      "Epoch 24, CIFAR-10 Batch 1:  Current loss: 0.5781843066215515, validation accuracy: 0.5303999185562134\n",
      "Epoch 24, CIFAR-10 Batch 2:  Current loss: 0.4203341007232666, validation accuracy: 0.5245999693870544\n",
      "Epoch 24, CIFAR-10 Batch 3:  Current loss: 0.35842183232307434, validation accuracy: 0.5215999484062195\n",
      "Epoch 24, CIFAR-10 Batch 4:  Current loss: 0.3702145218849182, validation accuracy: 0.5149999856948853\n",
      "Epoch 24, CIFAR-10 Batch 5:  Current loss: 0.4658938944339752, validation accuracy: 0.5345999002456665\n",
      "Epoch 25, CIFAR-10 Batch 1:  Current loss: 0.5565781593322754, validation accuracy: 0.5125999450683594\n",
      "Epoch 25, CIFAR-10 Batch 2:  Current loss: 0.3892780542373657, validation accuracy: 0.5247999429702759\n",
      "Epoch 25, CIFAR-10 Batch 3:  Current loss: 0.41143736243247986, validation accuracy: 0.5287999510765076\n",
      "Epoch 25, CIFAR-10 Batch 4:  Current loss: 0.5200740098953247, validation accuracy: 0.5207998752593994\n",
      "Epoch 25, CIFAR-10 Batch 5:  Current loss: 0.4077431857585907, validation accuracy: 0.5247999429702759\n",
      "Epoch 26, CIFAR-10 Batch 1:  Current loss: 0.4425567388534546, validation accuracy: 0.5267999172210693\n",
      "Epoch 26, CIFAR-10 Batch 2:  Current loss: 0.44235533475875854, validation accuracy: 0.528999924659729\n",
      "Epoch 26, CIFAR-10 Batch 3:  Current loss: 0.3527607321739197, validation accuracy: 0.5273998975753784\n",
      "Epoch 26, CIFAR-10 Batch 4:  Current loss: 0.5054992437362671, validation accuracy: 0.5377999544143677\n",
      "Epoch 26, CIFAR-10 Batch 5:  Current loss: 0.38722723722457886, validation accuracy: 0.538599967956543\n",
      "Epoch 27, CIFAR-10 Batch 1:  Current loss: 0.44348636269569397, validation accuracy: 0.5389999151229858\n",
      "Epoch 27, CIFAR-10 Batch 2:  Current loss: 0.3736862540245056, validation accuracy: 0.5277999639511108\n",
      "Epoch 27, CIFAR-10 Batch 3:  Current loss: 0.3181465268135071, validation accuracy: 0.5287999510765076\n",
      "Epoch 27, CIFAR-10 Batch 4:  Current loss: 0.39025557041168213, validation accuracy: 0.538599967956543\n",
      "Epoch 27, CIFAR-10 Batch 5:  Current loss: 0.37373828887939453, validation accuracy: 0.5375999808311462\n",
      "Epoch 28, CIFAR-10 Batch 1:  Current loss: 0.5203030705451965, validation accuracy: 0.5425999760627747\n",
      "Epoch 28, CIFAR-10 Batch 2:  Current loss: 0.39446717500686646, validation accuracy: 0.54339998960495\n",
      "Epoch 28, CIFAR-10 Batch 3:  Current loss: 0.34112387895584106, validation accuracy: 0.5145999193191528\n",
      "Epoch 28, CIFAR-10 Batch 4:  Current loss: 0.3761368989944458, validation accuracy: 0.5283999443054199\n",
      "Epoch 28, CIFAR-10 Batch 5:  Current loss: 0.3483510911464691, validation accuracy: 0.5379999279975891\n",
      "Epoch 29, CIFAR-10 Batch 1:  Current loss: 0.4560370147228241, validation accuracy: 0.5433999300003052\n",
      "Epoch 29, CIFAR-10 Batch 2:  Current loss: 0.36139410734176636, validation accuracy: 0.5321999788284302\n",
      "Epoch 29, CIFAR-10 Batch 3:  Current loss: 0.312168151140213, validation accuracy: 0.5335999131202698\n",
      "Epoch 29, CIFAR-10 Batch 4:  Current loss: 0.3506636917591095, validation accuracy: 0.5389999151229858\n",
      "Epoch 29, CIFAR-10 Batch 5:  Current loss: 0.3636627197265625, validation accuracy: 0.538599967956543\n",
      "Epoch 30, CIFAR-10 Batch 1:  Current loss: 0.364043265581131, validation accuracy: 0.5439999103546143\n",
      "Epoch 30, CIFAR-10 Batch 2:  Current loss: 0.3130614459514618, validation accuracy: 0.5409999489784241\n",
      "Epoch 30, CIFAR-10 Batch 3:  Current loss: 0.29110556840896606, validation accuracy: 0.5329999923706055\n",
      "Epoch 30, CIFAR-10 Batch 4:  Current loss: 0.3472480773925781, validation accuracy: 0.5403999090194702\n",
      "Epoch 30, CIFAR-10 Batch 5:  Current loss: 0.3343837857246399, validation accuracy: 0.539199948310852\n",
      "Epoch 31, CIFAR-10 Batch 1:  Current loss: 0.39449989795684814, validation accuracy: 0.5419999361038208\n",
      "Epoch 31, CIFAR-10 Batch 2:  Current loss: 0.2755216956138611, validation accuracy: 0.5333999395370483\n",
      "Epoch 31, CIFAR-10 Batch 3:  Current loss: 0.2347559928894043, validation accuracy: 0.5279999375343323\n",
      "Epoch 31, CIFAR-10 Batch 4:  Current loss: 0.3187066316604614, validation accuracy: 0.5397999882698059\n",
      "Epoch 31, CIFAR-10 Batch 5:  Current loss: 0.3037225604057312, validation accuracy: 0.5499999523162842\n",
      "Epoch 32, CIFAR-10 Batch 1:  Current loss: 0.39689260721206665, validation accuracy: 0.5341999530792236\n",
      "Epoch 32, CIFAR-10 Batch 2:  Current loss: 0.3235279321670532, validation accuracy: 0.5357999205589294\n",
      "Epoch 32, CIFAR-10 Batch 3:  Current loss: 0.24255308508872986, validation accuracy: 0.5309999585151672\n",
      "Epoch 32, CIFAR-10 Batch 4:  Current loss: 0.42814528942108154, validation accuracy: 0.5213999152183533\n",
      "Epoch 32, CIFAR-10 Batch 5:  Current loss: 0.34334975481033325, validation accuracy: 0.5555999279022217\n"
     ]
    },
    {
     "name": "stdout",
     "output_type": "stream",
     "text": [
      "Epoch 33, CIFAR-10 Batch 1:  Current loss: 0.3645019233226776, validation accuracy: 0.5335999131202698\n",
      "Epoch 33, CIFAR-10 Batch 2:  Current loss: 0.3102084994316101, validation accuracy: 0.5417999625205994\n",
      "Epoch 33, CIFAR-10 Batch 3:  Current loss: 0.24883274734020233, validation accuracy: 0.5427999496459961\n",
      "Epoch 33, CIFAR-10 Batch 4:  Current loss: 0.3237020969390869, validation accuracy: 0.5273999571800232\n",
      "Epoch 33, CIFAR-10 Batch 5:  Current loss: 0.2989410161972046, validation accuracy: 0.5491999387741089\n",
      "Epoch 34, CIFAR-10 Batch 1:  Current loss: 0.38285449147224426, validation accuracy: 0.532599925994873\n",
      "Epoch 34, CIFAR-10 Batch 2:  Current loss: 0.25205084681510925, validation accuracy: 0.5299999117851257\n",
      "Epoch 34, CIFAR-10 Batch 3:  Current loss: 0.2510424852371216, validation accuracy: 0.5387999415397644\n",
      "Epoch 34, CIFAR-10 Batch 4:  Current loss: 0.36139976978302, validation accuracy: 0.5381999611854553\n",
      "Epoch 34, CIFAR-10 Batch 5:  Current loss: 0.3246985077857971, validation accuracy: 0.5463999509811401\n",
      "Epoch 35, CIFAR-10 Batch 1:  Current loss: 0.331948459148407, validation accuracy: 0.5267999172210693\n",
      "Epoch 35, CIFAR-10 Batch 2:  Current loss: 0.28190839290618896, validation accuracy: 0.527999997138977\n",
      "Epoch 35, CIFAR-10 Batch 3:  Current loss: 0.21692371368408203, validation accuracy: 0.5427999496459961\n",
      "Epoch 35, CIFAR-10 Batch 4:  Current loss: 0.32049667835235596, validation accuracy: 0.5303999185562134\n",
      "Epoch 35, CIFAR-10 Batch 5:  Current loss: 0.25145989656448364, validation accuracy: 0.5459999442100525\n",
      "Epoch 36, CIFAR-10 Batch 1:  Current loss: 0.3359554708003998, validation accuracy: 0.5305998921394348\n",
      "Epoch 36, CIFAR-10 Batch 2:  Current loss: 0.2508588135242462, validation accuracy: 0.5401999354362488\n",
      "Epoch 36, CIFAR-10 Batch 3:  Current loss: 0.19917704164981842, validation accuracy: 0.5295999050140381\n",
      "Epoch 36, CIFAR-10 Batch 4:  Current loss: 0.31788042187690735, validation accuracy: 0.5359999537467957\n",
      "Epoch 36, CIFAR-10 Batch 5:  Current loss: 0.2544426918029785, validation accuracy: 0.5509999394416809\n",
      "Epoch 37, CIFAR-10 Batch 1:  Current loss: 0.28664296865463257, validation accuracy: 0.5345999598503113\n",
      "Epoch 37, CIFAR-10 Batch 2:  Current loss: 0.26974597573280334, validation accuracy: 0.5339999198913574\n",
      "Epoch 37, CIFAR-10 Batch 3:  Current loss: 0.2151312232017517, validation accuracy: 0.5341999530792236\n",
      "Epoch 37, CIFAR-10 Batch 4:  Current loss: 0.2823965549468994, validation accuracy: 0.5417999029159546\n",
      "Epoch 37, CIFAR-10 Batch 5:  Current loss: 0.22869837284088135, validation accuracy: 0.5477999448776245\n",
      "Epoch 38, CIFAR-10 Batch 1:  Current loss: 0.28196921944618225, validation accuracy: 0.5293999314308167\n",
      "Epoch 38, CIFAR-10 Batch 2:  Current loss: 0.320245623588562, validation accuracy: 0.546799898147583\n",
      "Epoch 38, CIFAR-10 Batch 3:  Current loss: 0.2386687695980072, validation accuracy: 0.5345999598503113\n",
      "Epoch 38, CIFAR-10 Batch 4:  Current loss: 0.25912755727767944, validation accuracy: 0.5365999937057495\n",
      "Epoch 38, CIFAR-10 Batch 5:  Current loss: 0.21497216820716858, validation accuracy: 0.5495999455451965\n",
      "Epoch 39, CIFAR-10 Batch 1:  Current loss: 0.29813453555107117, validation accuracy: 0.5181999206542969\n",
      "Epoch 39, CIFAR-10 Batch 2:  Current loss: 0.3025425970554352, validation accuracy: 0.5361999869346619\n",
      "Epoch 39, CIFAR-10 Batch 3:  Current loss: 0.24808166921138763, validation accuracy: 0.5343999862670898\n",
      "Epoch 39, CIFAR-10 Batch 4:  Current loss: 0.23625633120536804, validation accuracy: 0.5359999537467957\n",
      "Epoch 39, CIFAR-10 Batch 5:  Current loss: 0.26307007670402527, validation accuracy: 0.5433999300003052\n",
      "Epoch 40, CIFAR-10 Batch 1:  Current loss: 0.285201758146286, validation accuracy: 0.5167999267578125\n",
      "Epoch 40, CIFAR-10 Batch 2:  Current loss: 0.3154129385948181, validation accuracy: 0.5297999978065491\n",
      "Epoch 40, CIFAR-10 Batch 3:  Current loss: 0.22597754001617432, validation accuracy: 0.5211999416351318\n",
      "Epoch 40, CIFAR-10 Batch 4:  Current loss: 0.23999619483947754, validation accuracy: 0.5409999489784241\n",
      "Epoch 40, CIFAR-10 Batch 5:  Current loss: 0.24250449240207672, validation accuracy: 0.5481998920440674\n",
      "Epoch 41, CIFAR-10 Batch 1:  Current loss: 0.2685551345348358, validation accuracy: 0.5269999504089355\n",
      "Epoch 41, CIFAR-10 Batch 2:  Current loss: 0.23100073635578156, validation accuracy: 0.531999945640564\n",
      "Epoch 41, CIFAR-10 Batch 3:  Current loss: 0.18247926235198975, validation accuracy: 0.5313999056816101\n",
      "Epoch 41, CIFAR-10 Batch 4:  Current loss: 0.22245576977729797, validation accuracy: 0.5389999747276306\n",
      "Epoch 41, CIFAR-10 Batch 5:  Current loss: 0.20366238057613373, validation accuracy: 0.5407999157905579\n",
      "Epoch 42, CIFAR-10 Batch 1:  Current loss: 0.2580953538417816, validation accuracy: 0.5269999504089355\n",
      "Epoch 42, CIFAR-10 Batch 2:  Current loss: 0.24880380928516388, validation accuracy: 0.5285999774932861\n",
      "Epoch 42, CIFAR-10 Batch 3:  Current loss: 0.183834046125412, validation accuracy: 0.5323999524116516\n",
      "Epoch 42, CIFAR-10 Batch 4:  Current loss: 0.24106255173683167, validation accuracy: 0.5451999306678772\n",
      "Epoch 42, CIFAR-10 Batch 5:  Current loss: 0.1741228997707367, validation accuracy: 0.5437999963760376\n",
      "Epoch 43, CIFAR-10 Batch 1:  Current loss: 0.2478598952293396, validation accuracy: 0.5377999544143677\n",
      "Epoch 43, CIFAR-10 Batch 2:  Current loss: 0.3017784655094147, validation accuracy: 0.5291999578475952\n",
      "Epoch 43, CIFAR-10 Batch 3:  Current loss: 0.2516859173774719, validation accuracy: 0.5297999382019043\n",
      "Epoch 43, CIFAR-10 Batch 4:  Current loss: 0.26804694533348083, validation accuracy: 0.535599946975708\n",
      "Epoch 43, CIFAR-10 Batch 5:  Current loss: 0.2138320654630661, validation accuracy: 0.5363999009132385\n",
      "Epoch 44, CIFAR-10 Batch 1:  Current loss: 0.31326448917388916, validation accuracy: 0.525399923324585\n",
      "Epoch 44, CIFAR-10 Batch 2:  Current loss: 0.2574976086616516, validation accuracy: 0.5266000032424927\n",
      "Epoch 44, CIFAR-10 Batch 3:  Current loss: 0.26063406467437744, validation accuracy: 0.5233999490737915\n",
      "Epoch 44, CIFAR-10 Batch 4:  Current loss: 0.20497876405715942, validation accuracy: 0.5403999090194702\n",
      "Epoch 44, CIFAR-10 Batch 5:  Current loss: 0.21555589139461517, validation accuracy: 0.5357999205589294\n",
      "Epoch 45, CIFAR-10 Batch 1:  Current loss: 0.27799296379089355, validation accuracy: 0.5443999171257019\n",
      "Epoch 45, CIFAR-10 Batch 2:  Current loss: 0.26488256454467773, validation accuracy: 0.5353999137878418\n",
      "Epoch 45, CIFAR-10 Batch 3:  Current loss: 0.2476654350757599, validation accuracy: 0.5315998792648315\n",
      "Epoch 45, CIFAR-10 Batch 4:  Current loss: 0.18985003232955933, validation accuracy: 0.5345999002456665\n",
      "Epoch 45, CIFAR-10 Batch 5:  Current loss: 0.16766642034053802, validation accuracy: 0.5521999597549438\n",
      "Epoch 46, CIFAR-10 Batch 1:  Current loss: 0.26807963848114014, validation accuracy: 0.5225999355316162\n",
      "Epoch 46, CIFAR-10 Batch 2:  Current loss: 0.24845124781131744, validation accuracy: 0.5281999111175537\n",
      "Epoch 46, CIFAR-10 Batch 3:  Current loss: 0.20694924890995026, validation accuracy: 0.5283999443054199\n",
      "Epoch 46, CIFAR-10 Batch 4:  Current loss: 0.2090284377336502, validation accuracy: 0.5397999286651611\n",
      "Epoch 46, CIFAR-10 Batch 5:  Current loss: 0.1894053965806961, validation accuracy: 0.5428000092506409\n",
      "Epoch 47, CIFAR-10 Batch 1:  Current loss: 0.29418477416038513, validation accuracy: 0.5291999578475952\n",
      "Epoch 47, CIFAR-10 Batch 2:  Current loss: 0.22593018412590027, validation accuracy: 0.5177999138832092\n",
      "Epoch 47, CIFAR-10 Batch 3:  Current loss: 0.2280668169260025, validation accuracy: 0.5265999436378479\n",
      "Epoch 47, CIFAR-10 Batch 4:  Current loss: 0.19630257785320282, validation accuracy: 0.5443999171257019\n",
      "Epoch 47, CIFAR-10 Batch 5:  Current loss: 0.1677512228488922, validation accuracy: 0.539199948310852\n",
      "Epoch 48, CIFAR-10 Batch 1:  Current loss: 0.2681126296520233, validation accuracy: 0.5309999585151672\n",
      "Epoch 48, CIFAR-10 Batch 2:  Current loss: 0.2351071685552597, validation accuracy: 0.5323998928070068\n",
      "Epoch 48, CIFAR-10 Batch 3:  Current loss: 0.22253131866455078, validation accuracy: 0.5239999294281006\n",
      "Epoch 48, CIFAR-10 Batch 4:  Current loss: 0.25461339950561523, validation accuracy: 0.5411999225616455\n",
      "Epoch 48, CIFAR-10 Batch 5:  Current loss: 0.21105071902275085, validation accuracy: 0.5467999577522278\n"
     ]
    },
    {
     "name": "stdout",
     "output_type": "stream",
     "text": [
      "Epoch 49, CIFAR-10 Batch 1:  Current loss: 0.3048693537712097, validation accuracy: 0.5399999022483826\n",
      "Epoch 49, CIFAR-10 Batch 2:  Current loss: 0.20724746584892273, validation accuracy: 0.5167999267578125\n",
      "Epoch 49, CIFAR-10 Batch 3:  Current loss: 0.19614097476005554, validation accuracy: 0.5245999097824097\n",
      "Epoch 49, CIFAR-10 Batch 4:  Current loss: 0.22188788652420044, validation accuracy: 0.5447999238967896\n",
      "Epoch 49, CIFAR-10 Batch 5:  Current loss: 0.17744605243206024, validation accuracy: 0.535599946975708\n",
      "Epoch 50, CIFAR-10 Batch 1:  Current loss: 0.2699131369590759, validation accuracy: 0.5259999632835388\n",
      "Epoch 50, CIFAR-10 Batch 2:  Current loss: 0.21441680192947388, validation accuracy: 0.5241999626159668\n",
      "Epoch 50, CIFAR-10 Batch 3:  Current loss: 0.18034085631370544, validation accuracy: 0.5263999700546265\n",
      "Epoch 50, CIFAR-10 Batch 4:  Current loss: 0.16856235265731812, validation accuracy: 0.5385999083518982\n",
      "Epoch 50, CIFAR-10 Batch 5:  Current loss: 0.26024940609931946, validation accuracy: 0.531999945640564\n"
     ]
    }
   ],
   "source": [
    "\"\"\"\n",
    "DON'T MODIFY ANYTHING IN THIS CELL\n",
    "\"\"\"\n",
    "save_model_path = './image_classification'\n",
    "\n",
    "print('Training...')\n",
    "with tf.Session() as sess:\n",
    "    # Initializing the variables\n",
    "    sess.run(tf.global_variables_initializer())\n",
    "    \n",
    "    # Training cycle\n",
    "    for epoch in range(epochs):\n",
    "        # Loop over all batches\n",
    "        n_batches = 5\n",
    "        for batch_i in range(1, n_batches + 1):\n",
    "            for batch_features, batch_labels in helper.load_preprocess_training_batch(batch_i, batch_size):\n",
    "                train_neural_network(sess, optimizer, keep_probability, batch_features, batch_labels)\n",
    "            print('Epoch {:>2}, CIFAR-10 Batch {}:  '.format(epoch + 1, batch_i), end='')\n",
    "            print_stats(sess, batch_features, batch_labels, cost, accuracy)\n",
    "            \n",
    "    # Save Model\n",
    "    saver = tf.train.Saver()\n",
    "    save_path = saver.save(sess, save_model_path)"
   ]
  },
  {
   "cell_type": "markdown",
   "metadata": {},
   "source": [
    "# Checkpoint\n",
    "The model has been saved to disk.\n",
    "## Test Model\n",
    "Test your model against the test dataset.  This will be your final accuracy. You should have an accuracy greater than 50%. If you don't, keep tweaking the model architecture and parameters."
   ]
  },
  {
   "cell_type": "code",
   "execution_count": 25,
   "metadata": {},
   "outputs": [
    {
     "name": "stdout",
     "output_type": "stream",
     "text": [
      "Testing Accuracy: 0.5302734375\n",
      "\n"
     ]
    },
    {
     "data": {
      "image/png": "[encoded data removed]",
      "text/plain": [
       "<matplotlib.figure.Figure at 0x7fa9f4643588>"
      ]
     },
     "metadata": {
      "image/png": {
       "height": 319,
       "width": 355
      }
     },
     "output_type": "display_data"
    }
   ],
   "source": [
    "\"\"\"\n",
    "DON'T MODIFY ANYTHING IN THIS CELL\n",
    "\"\"\"\n",
    "%matplotlib inline\n",
    "%config InlineBackend.figure_format = 'retina'\n",
    "\n",
    "import tensorflow as tf\n",
    "import pickle\n",
    "import helper\n",
    "import random\n",
    "\n",
    "# Set batch size if not already set\n",
    "try:\n",
    "    if batch_size:\n",
    "        pass\n",
    "except NameError:\n",
    "    batch_size = 64\n",
    "\n",
    "save_model_path = './image_classification'\n",
    "n_samples = 4\n",
    "top_n_predictions = 3\n",
    "\n",
    "def test_model():\n",
    "    \"\"\"\n",
    "    Test the saved model against the test dataset\n",
    "    \"\"\"\n",
    "\n",
    "    test_features, test_labels = pickle.load(open('preprocess_test.p', mode='rb'))\n",
    "    loaded_graph = tf.Graph()\n",
    "\n",
    "    with tf.Session(graph=loaded_graph) as sess:\n",
    "        # Load model\n",
    "        loader = tf.train.import_meta_graph(save_model_path + '.meta')\n",
    "        loader.restore(sess, save_model_path)\n",
    "\n",
    "        # Get Tensors from loaded model\n",
    "        loaded_x = loaded_graph.get_tensor_by_name('x:0')\n",
    "        loaded_y = loaded_graph.get_tensor_by_name('y:0')\n",
    "        loaded_keep_prob = loaded_graph.get_tensor_by_name('keep_prob:0')\n",
    "        loaded_logits = loaded_graph.get_tensor_by_name('logits:0')\n",
    "        loaded_acc = loaded_graph.get_tensor_by_name('accuracy:0')\n",
    "        \n",
    "        # Get accuracy in batches for memory limitations\n",
    "        test_batch_acc_total = 0\n",
    "        test_batch_count = 0\n",
    "        \n",
    "        for test_feature_batch, test_label_batch in helper.batch_features_labels(test_features, test_labels, batch_size):\n",
    "            test_batch_acc_total += sess.run(\n",
    "                loaded_acc,\n",
    "                feed_dict={loaded_x: test_feature_batch, loaded_y: test_label_batch, loaded_keep_prob: 1.0})\n",
    "            test_batch_count += 1\n",
    "\n",
    "        print('Testing Accuracy: {}\\n'.format(test_batch_acc_total/test_batch_count))\n",
    "\n",
    "        # Print Random Samples\n",
    "        random_test_features, random_test_labels = tuple(zip(*random.sample(list(zip(test_features, test_labels)), n_samples)))\n",
    "        random_test_predictions = sess.run(\n",
    "            tf.nn.top_k(tf.nn.softmax(loaded_logits), top_n_predictions),\n",
    "            feed_dict={loaded_x: random_test_features, loaded_y: random_test_labels, loaded_keep_prob: 1.0})\n",
    "        helper.display_image_predictions(random_test_features, random_test_labels, random_test_predictions)\n",
    "\n",
    "\n",
    "test_model()"
   ]
  },
  {
   "cell_type": "markdown",
   "metadata": {},
   "source": [
    "## Why 50-80% Accuracy?\n",
    "You might be wondering why you can't get an accuracy any higher. First things first, 50% isn't bad for a simple CNN.  Pure guessing would get you 10% accuracy. However, you might notice people are getting scores [well above 80%](http://rodrigob.github.io/are_we_there_yet/build/classification_datasets_results.html#43494641522d3130).  That's because we haven't taught you all there is to know about neural networks. We still need to cover a few more techniques.\n",
    "## Submitting This Project\n",
    "When submitting this project, make sure to run all the cells before saving the notebook.  Save the notebook file as \"dlnd_image_classification.ipynb\" and save it as a HTML file under \"File\" -> \"Download as\".  Include the \"helper.py\" and \"problem_unittests.py\" files in your submission."
   ]
  }
 ],
 "metadata": {
  "kernelspec": {
   "display_name": "Python 3",
   "language": "python",
   "name": "python3"
  },
  "language_info": {
   "codemirror_mode": {
    "name": "ipython",
    "version": 3
   },
   "file_extension": ".py",
   "mimetype": "text/x-python",
   "name": "python",
   "nbconvert_exporter": "python",
   "pygments_lexer": "ipython3",
   "version": "3.6.1"
  }
 },
 "nbformat": 4,
 "nbformat_minor": 1
}
